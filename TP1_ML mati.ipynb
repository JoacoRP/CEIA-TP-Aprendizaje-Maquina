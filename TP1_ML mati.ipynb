{
 "cells": [
  {
   "cell_type": "markdown",
   "id": "9b13ccfd",
   "metadata": {},
   "source": [
    "**Universidad de Buenos Aires**\n",
    " \\\n",
    "**Laboratorio de Sistemas Embebidos**\n",
    " \\\n",
    "**Especialización en Inteligencia Artificial**\n",
    " \\\n",
    "**Aprendizaje Automático**\n",
    "\\\n",
    "\\\n",
    "Integrantes:\n",
    " \\\n",
    "<b>Martín, Matías</b>\n",
    " \\\n",
    "<b>Rodríguez, Joaquín</b>\n",
    " \\\n",
    "<b>Querales, Gabriel</b>\n",
    "\\\n",
    "\\\n",
    "Dataset:\n",
    "<b>Ventas de videojuegos en Steam</b>"
   ]
  },
  {
   "cell_type": "markdown",
   "id": "08c671d1",
   "metadata": {},
   "source": [
    "## Imports"
   ]
  },
  {
   "cell_type": "code",
   "execution_count": 273,
   "id": "c51b12e8",
   "metadata": {},
   "outputs": [],
   "source": [
    "import pandas as pd\n",
    "import numpy as np\n",
    "import matplotlib.pyplot as plt\n",
    "import seaborn as sns\n",
    "import requests\n",
    "from bs4 import BeautifulSoup\n",
    "#from sqlalchemy import create_engine, MetaData, text\n",
    "import json\n",
    "from io import StringIO"
   ]
  },
  {
   "cell_type": "markdown",
   "id": "4bbcbb1e",
   "metadata": {},
   "source": [
    "---\n",
    "\n",
    "## Carga de los dataset"
   ]
  },
  {
   "cell_type": "markdown",
   "id": "af9aa335",
   "metadata": {},
   "source": [
    "Carga del dataset desde un archivo .csv que obtuvimos del sitio de Kaggle"
   ]
  },
  {
   "cell_type": "code",
   "execution_count": 274,
   "id": "bf309507",
   "metadata": {},
   "outputs": [
    {
     "data": {
      "application/vnd.microsoft.datawrangler.viewer.v0+json": {
       "columns": [
        {
         "name": "game_name",
         "rawType": "object",
         "type": "string"
        },
        {
         "name": "reviews_like_rate",
         "rawType": "int64",
         "type": "integer"
        },
        {
         "name": "all_reviews_number",
         "rawType": "int64",
         "type": "integer"
        },
        {
         "name": "release_date",
         "rawType": "object",
         "type": "string"
        },
        {
         "name": "developer",
         "rawType": "object",
         "type": "string"
        },
        {
         "name": "user_defined_tags",
         "rawType": "object",
         "type": "string"
        },
        {
         "name": "supported_os",
         "rawType": "object",
         "type": "string"
        },
        {
         "name": "supported_languages",
         "rawType": "object",
         "type": "string"
        },
        {
         "name": "price",
         "rawType": "float64",
         "type": "float"
        },
        {
         "name": "other_features",
         "rawType": "object",
         "type": "string"
        },
        {
         "name": "age_restriction",
         "rawType": "int64",
         "type": "integer"
        },
        {
         "name": "rating",
         "rawType": "float64",
         "type": "float"
        },
        {
         "name": "difficulty",
         "rawType": "int64",
         "type": "integer"
        },
        {
         "name": "length",
         "rawType": "int64",
         "type": "integer"
        },
        {
         "name": "estimated_downloads",
         "rawType": "int64",
         "type": "integer"
        }
       ],
       "ref": "5a2174f3-845b-4e29-9266-6f6804bd6731",
       "rows": [
        [
         "Counter-Strike 2",
         "86",
         "8803754",
         "21 Aug, 2012",
         "Valve",
         "FPS, Action, Tactical",
         "win, linux",
         "English, Czech, Danish, Dutch, Finnish, French, German, Hungarian, Italian, Japanese, Korean, Norwegian, Polish, Portuguese - Portugal, Portuguese - Brazil, Romanian, Russian, Simplified Chinese, Spanish - Spain, Swedish, Thai, Traditional Chinese, Turkish, Bulgarian, Ukrainian, Greek, Spanish - Latin America, Vietnamese, Indonesian",
         "0.0",
         "Cross-Platform Multiplayer, Steam Trading Cards, Steam Workshop, In-App Purchases, Stats, Remote Play on Phone, Remote Play on Tablet, Remote Play on TV, Steam Timeline",
         "17",
         "3.2",
         "4",
         "80",
         "306170000"
        ],
        [
         "PUBG: BATTLEGROUNDS",
         "59",
         "2554482",
         "21 Dec, 2017",
         "PUBG Corporation",
         "Survival, Shooter, Action, Tactical",
         "win",
         "English, Korean, Simplified Chinese, French, German, Spanish - Spain, Arabic, Japanese, Polish, Portuguese - Portugal, Russian, Turkish, Thai, Italian, Portuguese - Brazil, Traditional Chinese, Ukrainian",
         "0.0",
         "Online PvP, Stats, Remote Play on Phone, Remote Play on Tablet",
         "13",
         "3.1",
         "4",
         "73",
         "162350000"
        ],
        [
         "ELDEN RING NIGHTREIGN",
         "77",
         "53426",
         "30 May, 2025",
         "FromSoftware, Inc.",
         "Souls-like, Open World, Fantasy, RPG",
         "win",
         "English, Japanese, French, Italian, German, Spanish - Spain, Arabic, Korean, Polish, Portuguese - Brazil, Russian, Simplified Chinese, Spanish - Latin America, Thai, Traditional Chinese",
         "25.99",
         "Single-player, Online Co-op, Steam Achievements, Steam Cloud, Family Sharing",
         "17",
         "3.96",
         "4",
         "50",
         "840000"
        ],
        [
         "The Last of Us™ Part I",
         "79",
         "45424",
         "28 Mar, 2023",
         "Naughty Dog LLC",
         "Story Rich, Shooter, Survival, Horror",
         "win",
         "English, Italian, Spanish - Spain, Czech, Dutch, Greek, French, German, Danish, Finnish, Hungarian, Japanese, Korean, Norwegian, Polish, Portuguese - Brazil, Portuguese - Portugal, Russian, Simplified Chinese, Spanish - Latin America, Swedish, Thai, Traditional Chinese, Turkish, Croatian",
         "59.99",
         "Single-player, Steam Achievements, Steam Trading Cards, Steam Cloud, Remote Play on TV, Family Sharing",
         "17",
         "4.1",
         "3",
         "24",
         "2000000"
        ],
        [
         "Red Dead Redemption 2",
         "92",
         "672140",
         "5 Dec, 2019",
         "Rockstar Games",
         "Open World, Story Rich, Adventure, Realistic, Shooter, Sandbox",
         "win",
         "English, French, Italian, German, Spanish - Spain, Japanese, Korean, Polish, Portuguese - Portugal, Russian, Simplified Chinese, Spanish - Latin America, Traditional Chinese",
         "59.99",
         "Single-player, Online PvP, Online Co-op, Steam Achievements, In-App Purchases, Remote Play on Phone, Remote Play on Tablet",
         "17",
         "4.32",
         "3",
         "80",
         "21610000"
        ],
        [
         "Dota 2",
         "81",
         "2497040",
         "9 Jul, 2013",
         "Valve",
         "Strategy, Action, Combat",
         "win, mac, linux",
         "English, Bulgarian, Czech, Danish, Dutch, Finnish, French, German, Greek, Hungarian, Italian, Japanese, Korean, Norwegian, Polish, Portuguese - Portugal, Portuguese - Brazil, Romanian, Russian, Simplified Chinese, Spanish - Spain, Swedish, Thai, Traditional Chinese, Turkish, Ukrainian, Spanish - Latin America, Vietnamese",
         "0.0",
         "Steam Trading Cards, Steam Workshop, SteamVR Collectibles, In-App Purchases, Steam Timeline",
         "13",
         "3.71",
         "4",
         "80",
         "234950000"
        ],
        [
         "EA SPORTS FC™ 25",
         "49",
         "67600",
         "27 Sep, 2024",
         "EA Canada",
         "Sports, Simulation, Realistic",
         "win",
         "English, French, Italian, German, Spanish - Spain, Arabic, Czech, Danish, Dutch, Japanese, Korean, Norwegian, Polish, Portuguese - Brazil, Portuguese - Portugal, Russian, Simplified Chinese, Spanish - Latin America, Swedish, Traditional Chinese, Turkish",
         "69.99",
         "Single-player, Online PvP, Shared/Split Screen PvP, Online Co-op, Shared/Split Screen Co-op, Cross-Platform Multiplayer, Steam Achievements, In-App Purchases, Remote Play Together, HDR available",
         "0",
         "3.2",
         "3",
         "48",
         "2320000"
        ],
        [
         "Project Zomboid",
         "94",
         "284985",
         "8 Nov, 2013",
         "The Indie Stone",
         "Early Access, RPG, Simulation, Survival, Open World, 2D",
         "win, mac, linux",
         "English, French, Italian, German, Spanish - Spain, Danish, Dutch, Hungarian, Norwegian, Polish, Portuguese - Portugal, Russian, Turkish, Japanese, Simplified Chinese, Portuguese - Brazil, Finnish, Korean, Thai, Traditional Chinese, Ukrainian",
         "10.49",
         "Single-player, Online PvP, Online Co-op, Shared/Split Screen Co-op, Cross-Platform Multiplayer, Steam Trading Cards, Steam Workshop, Remote Play Together, Family Sharing",
         "17",
         "3.66",
         "4",
         "59",
         "21370000"
        ],
        [
         "Game of Thrones: Kingsroad",
         "61",
         "2667",
         "22 May, 2025",
         "Netmarble Neo",
         "Action, Adventure, RPG, Open World, Fantasy",
         "win",
         "English, French, Italian, German, Spanish - Spain, Portuguese - Brazil, Turkish",
         "0.0",
         "Single-player, Online Co-op, In-App Purchases",
         "17",
         "3.4",
         "3",
         "42",
         "361500"
        ],
        [
         "Rust",
         "87",
         "1018247",
         "8 Feb, 2018",
         "Facepunch Studios",
         "Survival, Crafting, Open World, RPG, Sandbox",
         "win, mac",
         "English, French, Italian, German, Spanish - Spain, Japanese, Korean, Russian, Simplified Chinese, Ukrainian, Polish, Portuguese - Portugal, Turkish, Arabic, Czech, Danish, Dutch, Finnish, Greek, Norwegian, Portuguese - Brazil, Spanish - Latin America, Swedish, Traditional Chinese, Vietnamese",
         "18.99",
         "MMO, Online PvP, Online Co-op, Cross-Platform Multiplayer, Steam Achievements, Steam Trading Cards, Steam Workshop, In-App Purchases, Stats, Remote Play on Tablet",
         "17",
         "3.2",
         "4",
         "65",
         "36400000"
        ],
        [
         "F1® 25",
         "88",
         "394",
         "30 May, 2025",
         "Codemasters",
         "Driving, Sports, Simulation",
         "win",
         "English, French, Italian, German, Spanish - Spain, Dutch, Japanese, Polish, Portuguese - Brazil, Simplified Chinese, Spanish - Latin America",
         "59.99",
         "Single-player, Online PvP, LAN PvP, Shared/Split Screen PvP, Online Co-op, LAN Co-op, Cross-Platform Multiplayer, Steam Achievements, VR Supported, Steam Workshop, In-App Purchases, Steam Cloud, HDR available, Family Sharing",
         "0",
         "3.8",
         "4",
         "18",
         "30800"
        ],
        [
         "Dead by Daylight",
         "79",
         "578396",
         "14 Jun, 2016",
         "Behaviour Interactive Inc.",
         "Horror, Survival, Stealth",
         "win",
         "English, French, Italian, German, Spanish - Spain, Russian, Simplified Chinese, Portuguese - Brazil, Thai, Traditional Chinese, Japanese, Korean, Polish, Spanish - Latin America, Turkish",
         "14.99",
         "Online PvP, Online Co-op, Cross-Platform Multiplayer, Steam Achievements, Steam Trading Cards, Steam Cloud, Remote Play on Phone, Remote Play on Tablet, Remote Play on TV, Family Sharing",
         "17",
         "3.42",
         "4",
         "65",
         "301000"
        ]
       ],
       "shape": {
        "columns": 14,
        "rows": 12
       }
      },
      "text/html": [
       "<div>\n",
       "<style scoped>\n",
       "    .dataframe tbody tr th:only-of-type {\n",
       "        vertical-align: middle;\n",
       "    }\n",
       "\n",
       "    .dataframe tbody tr th {\n",
       "        vertical-align: top;\n",
       "    }\n",
       "\n",
       "    .dataframe thead th {\n",
       "        text-align: right;\n",
       "    }\n",
       "</style>\n",
       "<table border=\"1\" class=\"dataframe\">\n",
       "  <thead>\n",
       "    <tr style=\"text-align: right;\">\n",
       "      <th></th>\n",
       "      <th>reviews_like_rate</th>\n",
       "      <th>all_reviews_number</th>\n",
       "      <th>release_date</th>\n",
       "      <th>developer</th>\n",
       "      <th>user_defined_tags</th>\n",
       "      <th>supported_os</th>\n",
       "      <th>supported_languages</th>\n",
       "      <th>price</th>\n",
       "      <th>other_features</th>\n",
       "      <th>age_restriction</th>\n",
       "      <th>rating</th>\n",
       "      <th>difficulty</th>\n",
       "      <th>length</th>\n",
       "      <th>estimated_downloads</th>\n",
       "    </tr>\n",
       "    <tr>\n",
       "      <th>game_name</th>\n",
       "      <th></th>\n",
       "      <th></th>\n",
       "      <th></th>\n",
       "      <th></th>\n",
       "      <th></th>\n",
       "      <th></th>\n",
       "      <th></th>\n",
       "      <th></th>\n",
       "      <th></th>\n",
       "      <th></th>\n",
       "      <th></th>\n",
       "      <th></th>\n",
       "      <th></th>\n",
       "      <th></th>\n",
       "    </tr>\n",
       "  </thead>\n",
       "  <tbody>\n",
       "    <tr>\n",
       "      <th>Counter-Strike 2</th>\n",
       "      <td>86</td>\n",
       "      <td>8803754</td>\n",
       "      <td>21 Aug, 2012</td>\n",
       "      <td>Valve</td>\n",
       "      <td>FPS, Action, Tactical</td>\n",
       "      <td>win, linux</td>\n",
       "      <td>English, Czech, Danish, Dutch, Finnish, French...</td>\n",
       "      <td>0.00</td>\n",
       "      <td>Cross-Platform Multiplayer, Steam Trading Card...</td>\n",
       "      <td>17</td>\n",
       "      <td>3.20</td>\n",
       "      <td>4</td>\n",
       "      <td>80</td>\n",
       "      <td>306170000</td>\n",
       "    </tr>\n",
       "    <tr>\n",
       "      <th>PUBG: BATTLEGROUNDS</th>\n",
       "      <td>59</td>\n",
       "      <td>2554482</td>\n",
       "      <td>21 Dec, 2017</td>\n",
       "      <td>PUBG Corporation</td>\n",
       "      <td>Survival, Shooter, Action, Tactical</td>\n",
       "      <td>win</td>\n",
       "      <td>English, Korean, Simplified Chinese, French, G...</td>\n",
       "      <td>0.00</td>\n",
       "      <td>Online PvP, Stats, Remote Play on Phone, Remot...</td>\n",
       "      <td>13</td>\n",
       "      <td>3.10</td>\n",
       "      <td>4</td>\n",
       "      <td>73</td>\n",
       "      <td>162350000</td>\n",
       "    </tr>\n",
       "    <tr>\n",
       "      <th>ELDEN RING NIGHTREIGN</th>\n",
       "      <td>77</td>\n",
       "      <td>53426</td>\n",
       "      <td>30 May, 2025</td>\n",
       "      <td>FromSoftware, Inc.</td>\n",
       "      <td>Souls-like, Open World, Fantasy, RPG</td>\n",
       "      <td>win</td>\n",
       "      <td>English, Japanese, French, Italian, German, Sp...</td>\n",
       "      <td>25.99</td>\n",
       "      <td>Single-player, Online Co-op, Steam Achievement...</td>\n",
       "      <td>17</td>\n",
       "      <td>3.96</td>\n",
       "      <td>4</td>\n",
       "      <td>50</td>\n",
       "      <td>840000</td>\n",
       "    </tr>\n",
       "    <tr>\n",
       "      <th>The Last of Us™ Part I</th>\n",
       "      <td>79</td>\n",
       "      <td>45424</td>\n",
       "      <td>28 Mar, 2023</td>\n",
       "      <td>Naughty Dog LLC</td>\n",
       "      <td>Story Rich, Shooter, Survival, Horror</td>\n",
       "      <td>win</td>\n",
       "      <td>English, Italian, Spanish - Spain, Czech, Dutc...</td>\n",
       "      <td>59.99</td>\n",
       "      <td>Single-player, Steam Achievements, Steam Tradi...</td>\n",
       "      <td>17</td>\n",
       "      <td>4.10</td>\n",
       "      <td>3</td>\n",
       "      <td>24</td>\n",
       "      <td>2000000</td>\n",
       "    </tr>\n",
       "    <tr>\n",
       "      <th>Red Dead Redemption 2</th>\n",
       "      <td>92</td>\n",
       "      <td>672140</td>\n",
       "      <td>5 Dec, 2019</td>\n",
       "      <td>Rockstar Games</td>\n",
       "      <td>Open World, Story Rich, Adventure, Realistic, ...</td>\n",
       "      <td>win</td>\n",
       "      <td>English, French, Italian, German, Spanish - Sp...</td>\n",
       "      <td>59.99</td>\n",
       "      <td>Single-player, Online PvP, Online Co-op, Steam...</td>\n",
       "      <td>17</td>\n",
       "      <td>4.32</td>\n",
       "      <td>3</td>\n",
       "      <td>80</td>\n",
       "      <td>21610000</td>\n",
       "    </tr>\n",
       "    <tr>\n",
       "      <th>Dota 2</th>\n",
       "      <td>81</td>\n",
       "      <td>2497040</td>\n",
       "      <td>9 Jul, 2013</td>\n",
       "      <td>Valve</td>\n",
       "      <td>Strategy, Action, Combat</td>\n",
       "      <td>win, mac, linux</td>\n",
       "      <td>English, Bulgarian, Czech, Danish, Dutch, Finn...</td>\n",
       "      <td>0.00</td>\n",
       "      <td>Steam Trading Cards, Steam Workshop, SteamVR C...</td>\n",
       "      <td>13</td>\n",
       "      <td>3.71</td>\n",
       "      <td>4</td>\n",
       "      <td>80</td>\n",
       "      <td>234950000</td>\n",
       "    </tr>\n",
       "    <tr>\n",
       "      <th>EA SPORTS FC™ 25</th>\n",
       "      <td>49</td>\n",
       "      <td>67600</td>\n",
       "      <td>27 Sep, 2024</td>\n",
       "      <td>EA Canada</td>\n",
       "      <td>Sports, Simulation, Realistic</td>\n",
       "      <td>win</td>\n",
       "      <td>English, French, Italian, German, Spanish - Sp...</td>\n",
       "      <td>69.99</td>\n",
       "      <td>Single-player, Online PvP, Shared/Split Screen...</td>\n",
       "      <td>0</td>\n",
       "      <td>3.20</td>\n",
       "      <td>3</td>\n",
       "      <td>48</td>\n",
       "      <td>2320000</td>\n",
       "    </tr>\n",
       "    <tr>\n",
       "      <th>Project Zomboid</th>\n",
       "      <td>94</td>\n",
       "      <td>284985</td>\n",
       "      <td>8 Nov, 2013</td>\n",
       "      <td>The Indie Stone</td>\n",
       "      <td>Early Access, RPG, Simulation, Survival, Open ...</td>\n",
       "      <td>win, mac, linux</td>\n",
       "      <td>English, French, Italian, German, Spanish - Sp...</td>\n",
       "      <td>10.49</td>\n",
       "      <td>Single-player, Online PvP, Online Co-op, Share...</td>\n",
       "      <td>17</td>\n",
       "      <td>3.66</td>\n",
       "      <td>4</td>\n",
       "      <td>59</td>\n",
       "      <td>21370000</td>\n",
       "    </tr>\n",
       "    <tr>\n",
       "      <th>Game of Thrones: Kingsroad</th>\n",
       "      <td>61</td>\n",
       "      <td>2667</td>\n",
       "      <td>22 May, 2025</td>\n",
       "      <td>Netmarble Neo</td>\n",
       "      <td>Action, Adventure, RPG, Open World, Fantasy</td>\n",
       "      <td>win</td>\n",
       "      <td>English, French, Italian, German, Spanish - Sp...</td>\n",
       "      <td>0.00</td>\n",
       "      <td>Single-player, Online Co-op, In-App Purchases</td>\n",
       "      <td>17</td>\n",
       "      <td>3.40</td>\n",
       "      <td>3</td>\n",
       "      <td>42</td>\n",
       "      <td>361500</td>\n",
       "    </tr>\n",
       "    <tr>\n",
       "      <th>Rust</th>\n",
       "      <td>87</td>\n",
       "      <td>1018247</td>\n",
       "      <td>8 Feb, 2018</td>\n",
       "      <td>Facepunch Studios</td>\n",
       "      <td>Survival, Crafting, Open World, RPG, Sandbox</td>\n",
       "      <td>win, mac</td>\n",
       "      <td>English, French, Italian, German, Spanish - Sp...</td>\n",
       "      <td>18.99</td>\n",
       "      <td>MMO, Online PvP, Online Co-op, Cross-Platform ...</td>\n",
       "      <td>17</td>\n",
       "      <td>3.20</td>\n",
       "      <td>4</td>\n",
       "      <td>65</td>\n",
       "      <td>36400000</td>\n",
       "    </tr>\n",
       "    <tr>\n",
       "      <th>F1® 25</th>\n",
       "      <td>88</td>\n",
       "      <td>394</td>\n",
       "      <td>30 May, 2025</td>\n",
       "      <td>Codemasters</td>\n",
       "      <td>Driving, Sports, Simulation</td>\n",
       "      <td>win</td>\n",
       "      <td>English, French, Italian, German, Spanish - Sp...</td>\n",
       "      <td>59.99</td>\n",
       "      <td>Single-player, Online PvP, LAN PvP, Shared/Spl...</td>\n",
       "      <td>0</td>\n",
       "      <td>3.80</td>\n",
       "      <td>4</td>\n",
       "      <td>18</td>\n",
       "      <td>30800</td>\n",
       "    </tr>\n",
       "    <tr>\n",
       "      <th>Dead by Daylight</th>\n",
       "      <td>79</td>\n",
       "      <td>578396</td>\n",
       "      <td>14 Jun, 2016</td>\n",
       "      <td>Behaviour Interactive Inc.</td>\n",
       "      <td>Horror, Survival, Stealth</td>\n",
       "      <td>win</td>\n",
       "      <td>English, French, Italian, German, Spanish - Sp...</td>\n",
       "      <td>14.99</td>\n",
       "      <td>Online PvP, Online Co-op, Cross-Platform Multi...</td>\n",
       "      <td>17</td>\n",
       "      <td>3.42</td>\n",
       "      <td>4</td>\n",
       "      <td>65</td>\n",
       "      <td>301000</td>\n",
       "    </tr>\n",
       "  </tbody>\n",
       "</table>\n",
       "</div>"
      ],
      "text/plain": [
       "                            reviews_like_rate  all_reviews_number  \\\n",
       "game_name                                                           \n",
       "Counter-Strike 2                           86             8803754   \n",
       "PUBG: BATTLEGROUNDS                        59             2554482   \n",
       "ELDEN RING NIGHTREIGN                      77               53426   \n",
       "The Last of Us™ Part I                     79               45424   \n",
       "Red Dead Redemption 2                      92              672140   \n",
       "Dota 2                                     81             2497040   \n",
       "EA SPORTS FC™ 25                           49               67600   \n",
       "Project Zomboid                            94              284985   \n",
       "Game of Thrones: Kingsroad                 61                2667   \n",
       "Rust                                       87             1018247   \n",
       "F1® 25                                     88                 394   \n",
       "Dead by Daylight                           79              578396   \n",
       "\n",
       "                            release_date                   developer  \\\n",
       "game_name                                                              \n",
       "Counter-Strike 2            21 Aug, 2012                       Valve   \n",
       "PUBG: BATTLEGROUNDS         21 Dec, 2017            PUBG Corporation   \n",
       "ELDEN RING NIGHTREIGN       30 May, 2025          FromSoftware, Inc.   \n",
       "The Last of Us™ Part I      28 Mar, 2023             Naughty Dog LLC   \n",
       "Red Dead Redemption 2        5 Dec, 2019              Rockstar Games   \n",
       "Dota 2                       9 Jul, 2013                       Valve   \n",
       "EA SPORTS FC™ 25            27 Sep, 2024                   EA Canada   \n",
       "Project Zomboid              8 Nov, 2013             The Indie Stone   \n",
       "Game of Thrones: Kingsroad  22 May, 2025               Netmarble Neo   \n",
       "Rust                         8 Feb, 2018           Facepunch Studios   \n",
       "F1® 25                      30 May, 2025                 Codemasters   \n",
       "Dead by Daylight            14 Jun, 2016  Behaviour Interactive Inc.   \n",
       "\n",
       "                                                            user_defined_tags  \\\n",
       "game_name                                                                       \n",
       "Counter-Strike 2                                        FPS, Action, Tactical   \n",
       "PUBG: BATTLEGROUNDS                       Survival, Shooter, Action, Tactical   \n",
       "ELDEN RING NIGHTREIGN                    Souls-like, Open World, Fantasy, RPG   \n",
       "The Last of Us™ Part I                  Story Rich, Shooter, Survival, Horror   \n",
       "Red Dead Redemption 2       Open World, Story Rich, Adventure, Realistic, ...   \n",
       "Dota 2                                               Strategy, Action, Combat   \n",
       "EA SPORTS FC™ 25                                Sports, Simulation, Realistic   \n",
       "Project Zomboid             Early Access, RPG, Simulation, Survival, Open ...   \n",
       "Game of Thrones: Kingsroad        Action, Adventure, RPG, Open World, Fantasy   \n",
       "Rust                             Survival, Crafting, Open World, RPG, Sandbox   \n",
       "F1® 25                                            Driving, Sports, Simulation   \n",
       "Dead by Daylight                                    Horror, Survival, Stealth   \n",
       "\n",
       "                               supported_os  \\\n",
       "game_name                                     \n",
       "Counter-Strike 2                 win, linux   \n",
       "PUBG: BATTLEGROUNDS                     win   \n",
       "ELDEN RING NIGHTREIGN                   win   \n",
       "The Last of Us™ Part I                  win   \n",
       "Red Dead Redemption 2                   win   \n",
       "Dota 2                      win, mac, linux   \n",
       "EA SPORTS FC™ 25                        win   \n",
       "Project Zomboid             win, mac, linux   \n",
       "Game of Thrones: Kingsroad              win   \n",
       "Rust                               win, mac   \n",
       "F1® 25                                  win   \n",
       "Dead by Daylight                        win   \n",
       "\n",
       "                                                          supported_languages  \\\n",
       "game_name                                                                       \n",
       "Counter-Strike 2            English, Czech, Danish, Dutch, Finnish, French...   \n",
       "PUBG: BATTLEGROUNDS         English, Korean, Simplified Chinese, French, G...   \n",
       "ELDEN RING NIGHTREIGN       English, Japanese, French, Italian, German, Sp...   \n",
       "The Last of Us™ Part I      English, Italian, Spanish - Spain, Czech, Dutc...   \n",
       "Red Dead Redemption 2       English, French, Italian, German, Spanish - Sp...   \n",
       "Dota 2                      English, Bulgarian, Czech, Danish, Dutch, Finn...   \n",
       "EA SPORTS FC™ 25            English, French, Italian, German, Spanish - Sp...   \n",
       "Project Zomboid             English, French, Italian, German, Spanish - Sp...   \n",
       "Game of Thrones: Kingsroad  English, French, Italian, German, Spanish - Sp...   \n",
       "Rust                        English, French, Italian, German, Spanish - Sp...   \n",
       "F1® 25                      English, French, Italian, German, Spanish - Sp...   \n",
       "Dead by Daylight            English, French, Italian, German, Spanish - Sp...   \n",
       "\n",
       "                            price  \\\n",
       "game_name                           \n",
       "Counter-Strike 2             0.00   \n",
       "PUBG: BATTLEGROUNDS          0.00   \n",
       "ELDEN RING NIGHTREIGN       25.99   \n",
       "The Last of Us™ Part I      59.99   \n",
       "Red Dead Redemption 2       59.99   \n",
       "Dota 2                       0.00   \n",
       "EA SPORTS FC™ 25            69.99   \n",
       "Project Zomboid             10.49   \n",
       "Game of Thrones: Kingsroad   0.00   \n",
       "Rust                        18.99   \n",
       "F1® 25                      59.99   \n",
       "Dead by Daylight            14.99   \n",
       "\n",
       "                                                               other_features  \\\n",
       "game_name                                                                       \n",
       "Counter-Strike 2            Cross-Platform Multiplayer, Steam Trading Card...   \n",
       "PUBG: BATTLEGROUNDS         Online PvP, Stats, Remote Play on Phone, Remot...   \n",
       "ELDEN RING NIGHTREIGN       Single-player, Online Co-op, Steam Achievement...   \n",
       "The Last of Us™ Part I      Single-player, Steam Achievements, Steam Tradi...   \n",
       "Red Dead Redemption 2       Single-player, Online PvP, Online Co-op, Steam...   \n",
       "Dota 2                      Steam Trading Cards, Steam Workshop, SteamVR C...   \n",
       "EA SPORTS FC™ 25            Single-player, Online PvP, Shared/Split Screen...   \n",
       "Project Zomboid             Single-player, Online PvP, Online Co-op, Share...   \n",
       "Game of Thrones: Kingsroad      Single-player, Online Co-op, In-App Purchases   \n",
       "Rust                        MMO, Online PvP, Online Co-op, Cross-Platform ...   \n",
       "F1® 25                      Single-player, Online PvP, LAN PvP, Shared/Spl...   \n",
       "Dead by Daylight            Online PvP, Online Co-op, Cross-Platform Multi...   \n",
       "\n",
       "                            age_restriction  rating  difficulty  length  \\\n",
       "game_name                                                                 \n",
       "Counter-Strike 2                         17    3.20           4      80   \n",
       "PUBG: BATTLEGROUNDS                      13    3.10           4      73   \n",
       "ELDEN RING NIGHTREIGN                    17    3.96           4      50   \n",
       "The Last of Us™ Part I                   17    4.10           3      24   \n",
       "Red Dead Redemption 2                    17    4.32           3      80   \n",
       "Dota 2                                   13    3.71           4      80   \n",
       "EA SPORTS FC™ 25                          0    3.20           3      48   \n",
       "Project Zomboid                          17    3.66           4      59   \n",
       "Game of Thrones: Kingsroad               17    3.40           3      42   \n",
       "Rust                                     17    3.20           4      65   \n",
       "F1® 25                                    0    3.80           4      18   \n",
       "Dead by Daylight                         17    3.42           4      65   \n",
       "\n",
       "                            estimated_downloads  \n",
       "game_name                                        \n",
       "Counter-Strike 2                      306170000  \n",
       "PUBG: BATTLEGROUNDS                   162350000  \n",
       "ELDEN RING NIGHTREIGN                    840000  \n",
       "The Last of Us™ Part I                  2000000  \n",
       "Red Dead Redemption 2                  21610000  \n",
       "Dota 2                                234950000  \n",
       "EA SPORTS FC™ 25                        2320000  \n",
       "Project Zomboid                        21370000  \n",
       "Game of Thrones: Kingsroad               361500  \n",
       "Rust                                   36400000  \n",
       "F1® 25                                    30800  \n",
       "Dead by Daylight                         301000  "
      ]
     },
     "execution_count": 274,
     "metadata": {},
     "output_type": "execute_result"
    }
   ],
   "source": [
    "df = pd.read_csv(\"ventas_juegos_steam.csv\", header=0, index_col=0)\n",
    "# Exploramos las primeras filas del dataframe para entender su estructura\n",
    "df.head(12)"
   ]
  },
  {
   "cell_type": "code",
   "execution_count": 275,
   "id": "10ad114d",
   "metadata": {},
   "outputs": [
    {
     "data": {
      "application/vnd.microsoft.datawrangler.viewer.v0+json": {
       "columns": [
        {
         "name": "game_name",
         "rawType": "object",
         "type": "string"
        },
        {
         "name": "reviews_like_rate",
         "rawType": "int64",
         "type": "integer"
        },
        {
         "name": "all_reviews_number",
         "rawType": "int64",
         "type": "integer"
        },
        {
         "name": "release_date",
         "rawType": "object",
         "type": "string"
        },
        {
         "name": "developer",
         "rawType": "object",
         "type": "string"
        },
        {
         "name": "user_defined_tags",
         "rawType": "object",
         "type": "string"
        },
        {
         "name": "supported_os",
         "rawType": "object",
         "type": "string"
        },
        {
         "name": "supported_languages",
         "rawType": "object",
         "type": "string"
        },
        {
         "name": "price",
         "rawType": "float64",
         "type": "float"
        },
        {
         "name": "other_features",
         "rawType": "object",
         "type": "string"
        },
        {
         "name": "age_restriction",
         "rawType": "int64",
         "type": "integer"
        },
        {
         "name": "rating",
         "rawType": "float64",
         "type": "float"
        },
        {
         "name": "difficulty",
         "rawType": "int64",
         "type": "integer"
        },
        {
         "name": "length",
         "rawType": "int64",
         "type": "integer"
        },
        {
         "name": "estimated_downloads",
         "rawType": "int64",
         "type": "integer"
        }
       ],
       "ref": "9e62b431-13d3-4fe4-a52f-9468e6fa784b",
       "rows": [
        [
         "Wooden House",
         "38",
         "147",
         "5 Sep, 2016",
         "GDNomaD",
         "Simulation",
         "win",
         "English",
         "0.89",
         "Single-player, Steam Trading Cards, Family Sharing",
         "17",
         "1.24",
         "3",
         "1",
         "221000"
        ],
        [
         "Shoot. Push. Repeat.",
         "84",
         "65",
         "8 Jun, 2020",
         "CrewLab",
         "Puzzle, 2D",
         "win",
         "English, French, Italian, German, Spanish - Spain, Arabic, Bulgarian, Portuguese - Brazil, Hungarian, Vietnamese, Greek, Danish, Spanish - Latin America, Traditional Chinese, Simplified Chinese, Korean, Dutch, Norwegian, Polish, Portuguese - Portugal, Romanian, Russian, Thai, Turkish, Ukrainian, Finnish, Czech, Swedish, Japanese",
         "0.89",
         "Single-player, Steam Achievements, Steam Cloud, Family Sharing",
         "0",
         "3.64",
         "1",
         "3",
         "2700"
        ],
        [
         "X2: The Threat",
         "83",
         "416",
         "3 Dec, 2003",
         "Egosoft",
         "Strategy, Simulation",
         "win",
         "English, French, German, Italian, Spanish - Spain, Czech, Polish, Russian",
         "2.99",
         "Single-player, Captions available, Steam Cloud, Family Sharing",
         "13",
         "3.61",
         "4",
         "60",
         "47500"
        ],
        [
         "!AnyWay!",
         "71",
         "498",
         "6 Jun, 2018",
         "EYEFRONT",
         "Platformer, 2D",
         "win",
         "English, Russian, French, Italian, German, Polish, Ukrainian, Swedish, Simplified Chinese, Bulgarian, Danish, Finnish, Czech",
         "1.35",
         "Single-player, Steam Achievements, Steam Trading Cards, In-App Purchases, Steam Cloud, Stats, Steam Leaderboards, Includes level editor, Family Sharing",
         "0",
         "3.0",
         "3",
         "2",
         "79000"
        ],
        [
         "UBERMOSH:OMEGA",
         "93",
         "314",
         "8 Nov, 2019",
         "Walter Machado",
         "Action, Pixel Graphics",
         "win",
         "English, French, Italian, German, Spanish - Spain, Bulgarian, Simplified Chinese, Traditional Chinese, Korean, Danish, Spanish - Latin America, Finnish, Greek, Dutch, Hungarian, Japanese, Norwegian, Polish, Portuguese - Brazil, Portuguese - Portugal, Romanian, Russian, Swedish, Thai, Czech, Turkish, Ukrainian, Vietnamese, Arabic, Afrikaans, Albanian, Amharic, Armenian, Assamese, Azerbaijani, Basque, Bangla, Belarusian, Bosnian, Kannada, Catalan, Kazakh, Cherokee, Sinhala, Konkani, Croatian, Dari, Slovak, Slovenian, Estonian, Filipino, Galician, Welsh, Georgian, Gujarati, Hausa, Hebrew, Hindi, Igbo, Indonesian, Yoruba, Irish, Icelandic, Khmer, Latvian, Lithuanian, Luxembourgish, Macedonian, Malayalam, Malay, Maltese, Maori, Marathi, Mongolian, Nepali, Odia, Punjabi (Gurmukhi), Punjabi (Shahmukhi), Persian, K'iche', Kinyarwanda, Kyrgyz, Quechua, Sotho, Sindhi, Sorani, Swahili, Serbian, Tajik, Tigrinya, Tswana, Turkmen, Tatar, Tamil, Telugu, Uyghur, Wolof, Urdu, Uzbek, Valencian, Xhosa, Zulu, Scots",
         "0.89",
         "Single-player, Steam Achievements, Family Sharing",
         "13",
         "4.17",
         "5",
         "12",
         "14000"
        ]
       ],
       "shape": {
        "columns": 14,
        "rows": 5
       }
      },
      "text/html": [
       "<div>\n",
       "<style scoped>\n",
       "    .dataframe tbody tr th:only-of-type {\n",
       "        vertical-align: middle;\n",
       "    }\n",
       "\n",
       "    .dataframe tbody tr th {\n",
       "        vertical-align: top;\n",
       "    }\n",
       "\n",
       "    .dataframe thead th {\n",
       "        text-align: right;\n",
       "    }\n",
       "</style>\n",
       "<table border=\"1\" class=\"dataframe\">\n",
       "  <thead>\n",
       "    <tr style=\"text-align: right;\">\n",
       "      <th></th>\n",
       "      <th>reviews_like_rate</th>\n",
       "      <th>all_reviews_number</th>\n",
       "      <th>release_date</th>\n",
       "      <th>developer</th>\n",
       "      <th>user_defined_tags</th>\n",
       "      <th>supported_os</th>\n",
       "      <th>supported_languages</th>\n",
       "      <th>price</th>\n",
       "      <th>other_features</th>\n",
       "      <th>age_restriction</th>\n",
       "      <th>rating</th>\n",
       "      <th>difficulty</th>\n",
       "      <th>length</th>\n",
       "      <th>estimated_downloads</th>\n",
       "    </tr>\n",
       "    <tr>\n",
       "      <th>game_name</th>\n",
       "      <th></th>\n",
       "      <th></th>\n",
       "      <th></th>\n",
       "      <th></th>\n",
       "      <th></th>\n",
       "      <th></th>\n",
       "      <th></th>\n",
       "      <th></th>\n",
       "      <th></th>\n",
       "      <th></th>\n",
       "      <th></th>\n",
       "      <th></th>\n",
       "      <th></th>\n",
       "      <th></th>\n",
       "    </tr>\n",
       "  </thead>\n",
       "  <tbody>\n",
       "    <tr>\n",
       "      <th>Wooden House</th>\n",
       "      <td>38</td>\n",
       "      <td>147</td>\n",
       "      <td>5 Sep, 2016</td>\n",
       "      <td>GDNomaD</td>\n",
       "      <td>Simulation</td>\n",
       "      <td>win</td>\n",
       "      <td>English</td>\n",
       "      <td>0.89</td>\n",
       "      <td>Single-player, Steam Trading Cards, Family Sha...</td>\n",
       "      <td>17</td>\n",
       "      <td>1.24</td>\n",
       "      <td>3</td>\n",
       "      <td>1</td>\n",
       "      <td>221000</td>\n",
       "    </tr>\n",
       "    <tr>\n",
       "      <th>Shoot. Push. Repeat.</th>\n",
       "      <td>84</td>\n",
       "      <td>65</td>\n",
       "      <td>8 Jun, 2020</td>\n",
       "      <td>CrewLab</td>\n",
       "      <td>Puzzle, 2D</td>\n",
       "      <td>win</td>\n",
       "      <td>English, French, Italian, German, Spanish - Sp...</td>\n",
       "      <td>0.89</td>\n",
       "      <td>Single-player, Steam Achievements, Steam Cloud...</td>\n",
       "      <td>0</td>\n",
       "      <td>3.64</td>\n",
       "      <td>1</td>\n",
       "      <td>3</td>\n",
       "      <td>2700</td>\n",
       "    </tr>\n",
       "    <tr>\n",
       "      <th>X2: The Threat</th>\n",
       "      <td>83</td>\n",
       "      <td>416</td>\n",
       "      <td>3 Dec, 2003</td>\n",
       "      <td>Egosoft</td>\n",
       "      <td>Strategy, Simulation</td>\n",
       "      <td>win</td>\n",
       "      <td>English, French, German, Italian, Spanish - Sp...</td>\n",
       "      <td>2.99</td>\n",
       "      <td>Single-player, Captions available, Steam Cloud...</td>\n",
       "      <td>13</td>\n",
       "      <td>3.61</td>\n",
       "      <td>4</td>\n",
       "      <td>60</td>\n",
       "      <td>47500</td>\n",
       "    </tr>\n",
       "    <tr>\n",
       "      <th>!AnyWay!</th>\n",
       "      <td>71</td>\n",
       "      <td>498</td>\n",
       "      <td>6 Jun, 2018</td>\n",
       "      <td>EYEFRONT</td>\n",
       "      <td>Platformer, 2D</td>\n",
       "      <td>win</td>\n",
       "      <td>English, Russian, French, Italian, German, Pol...</td>\n",
       "      <td>1.35</td>\n",
       "      <td>Single-player, Steam Achievements, Steam Tradi...</td>\n",
       "      <td>0</td>\n",
       "      <td>3.00</td>\n",
       "      <td>3</td>\n",
       "      <td>2</td>\n",
       "      <td>79000</td>\n",
       "    </tr>\n",
       "    <tr>\n",
       "      <th>UBERMOSH:OMEGA</th>\n",
       "      <td>93</td>\n",
       "      <td>314</td>\n",
       "      <td>8 Nov, 2019</td>\n",
       "      <td>Walter Machado</td>\n",
       "      <td>Action, Pixel Graphics</td>\n",
       "      <td>win</td>\n",
       "      <td>English, French, Italian, German, Spanish - Sp...</td>\n",
       "      <td>0.89</td>\n",
       "      <td>Single-player, Steam Achievements, Family Sharing</td>\n",
       "      <td>13</td>\n",
       "      <td>4.17</td>\n",
       "      <td>5</td>\n",
       "      <td>12</td>\n",
       "      <td>14000</td>\n",
       "    </tr>\n",
       "  </tbody>\n",
       "</table>\n",
       "</div>"
      ],
      "text/plain": [
       "                      reviews_like_rate  all_reviews_number release_date  \\\n",
       "game_name                                                                  \n",
       "Wooden House                         38                 147  5 Sep, 2016   \n",
       "Shoot. Push. Repeat.                 84                  65  8 Jun, 2020   \n",
       "X2: The Threat                       83                 416  3 Dec, 2003   \n",
       "!AnyWay!                             71                 498  6 Jun, 2018   \n",
       "UBERMOSH:OMEGA                       93                 314  8 Nov, 2019   \n",
       "\n",
       "                           developer       user_defined_tags supported_os  \\\n",
       "game_name                                                                   \n",
       "Wooden House                 GDNomaD              Simulation          win   \n",
       "Shoot. Push. Repeat.         CrewLab              Puzzle, 2D          win   \n",
       "X2: The Threat               Egosoft    Strategy, Simulation          win   \n",
       "!AnyWay!                    EYEFRONT          Platformer, 2D          win   \n",
       "UBERMOSH:OMEGA        Walter Machado  Action, Pixel Graphics          win   \n",
       "\n",
       "                                                    supported_languages  \\\n",
       "game_name                                                                 \n",
       "Wooden House                                                    English   \n",
       "Shoot. Push. Repeat.  English, French, Italian, German, Spanish - Sp...   \n",
       "X2: The Threat        English, French, German, Italian, Spanish - Sp...   \n",
       "!AnyWay!              English, Russian, French, Italian, German, Pol...   \n",
       "UBERMOSH:OMEGA        English, French, Italian, German, Spanish - Sp...   \n",
       "\n",
       "                      price  \\\n",
       "game_name                     \n",
       "Wooden House           0.89   \n",
       "Shoot. Push. Repeat.   0.89   \n",
       "X2: The Threat         2.99   \n",
       "!AnyWay!               1.35   \n",
       "UBERMOSH:OMEGA         0.89   \n",
       "\n",
       "                                                         other_features  \\\n",
       "game_name                                                                 \n",
       "Wooden House          Single-player, Steam Trading Cards, Family Sha...   \n",
       "Shoot. Push. Repeat.  Single-player, Steam Achievements, Steam Cloud...   \n",
       "X2: The Threat        Single-player, Captions available, Steam Cloud...   \n",
       "!AnyWay!              Single-player, Steam Achievements, Steam Tradi...   \n",
       "UBERMOSH:OMEGA        Single-player, Steam Achievements, Family Sharing   \n",
       "\n",
       "                      age_restriction  rating  difficulty  length  \\\n",
       "game_name                                                           \n",
       "Wooden House                       17    1.24           3       1   \n",
       "Shoot. Push. Repeat.                0    3.64           1       3   \n",
       "X2: The Threat                     13    3.61           4      60   \n",
       "!AnyWay!                            0    3.00           3       2   \n",
       "UBERMOSH:OMEGA                     13    4.17           5      12   \n",
       "\n",
       "                      estimated_downloads  \n",
       "game_name                                  \n",
       "Wooden House                       221000  \n",
       "Shoot. Push. Repeat.                 2700  \n",
       "X2: The Threat                      47500  \n",
       "!AnyWay!                            79000  \n",
       "UBERMOSH:OMEGA                      14000  "
      ]
     },
     "execution_count": 275,
     "metadata": {},
     "output_type": "execute_result"
    }
   ],
   "source": [
    "# Exploramos las ultimas filas del dataframe para ver si hay datos faltantes o inconsistencias\n",
    "df.tail()"
   ]
  },
  {
   "cell_type": "markdown",
   "id": "fddf93d3",
   "metadata": {},
   "source": [
    "### Verificación de nulos"
   ]
  },
  {
   "cell_type": "code",
   "execution_count": 276,
   "id": "09b66305",
   "metadata": {},
   "outputs": [
    {
     "name": "stdout",
     "output_type": "stream",
     "text": [
      "¿Hay datos faltantes en el DataFrame? False\n",
      "\n",
      "Datos faltantes por columna:\n",
      "reviews_like_rate      0\n",
      "all_reviews_number     0\n",
      "release_date           0\n",
      "developer              0\n",
      "user_defined_tags      0\n",
      "supported_os           0\n",
      "supported_languages    0\n",
      "price                  0\n",
      "other_features         0\n",
      "age_restriction        0\n",
      "rating                 0\n",
      "difficulty             0\n",
      "length                 0\n",
      "estimated_downloads    0\n",
      "dtype: int64\n",
      "\n",
      "Porcentaje de datos faltantes por columna:\n",
      "reviews_like_rate      0.0\n",
      "all_reviews_number     0.0\n",
      "release_date           0.0\n",
      "developer              0.0\n",
      "user_defined_tags      0.0\n",
      "supported_os           0.0\n",
      "supported_languages    0.0\n",
      "price                  0.0\n",
      "other_features         0.0\n",
      "age_restriction        0.0\n",
      "rating                 0.0\n",
      "difficulty             0.0\n",
      "length                 0.0\n",
      "estimated_downloads    0.0\n",
      "dtype: float64\n"
     ]
    }
   ],
   "source": [
    "# Ver si hay algún valor faltante en general\n",
    "hay_nan = df.isnull().values.any()\n",
    "print(\"¿Hay datos faltantes en el DataFrame?\", hay_nan)\n",
    "\n",
    "# Ver la cantidad de valores faltantes por columna\n",
    "faltantes_por_columna = df.isnull().sum()\n",
    "print(\"\\nDatos faltantes por columna:\")\n",
    "print(faltantes_por_columna)\n",
    "\n",
    "# También podés ver un resumen más visual\n",
    "print(\"\\nPorcentaje de datos faltantes por columna:\")\n",
    "print((df.isnull().mean() * 100).round(2))\n"
   ]
  },
  {
   "cell_type": "markdown",
   "id": "18914162",
   "metadata": {},
   "source": [
    "---\n",
    "\n",
    "## Limpieza de datos mal formados\n",
    "\n",
    "Como ya mencionamos detectamos un pequeño error en dos entradas del dataset en las que una entrada separada por comas estuvo mal cargada habiendo una coma de más que causa la carga de un valor vacío. \n",
    "\n",
    "Estos son el juego Age of Wonders 4 en la columna de user_defined_tags y el juego Heaven Forest Nights en supported_os. \n",
    "\n",
    "Procedemos a corregirlo: \n"
   ]
  },
  {
   "cell_type": "code",
   "execution_count": 277,
   "id": "4eec9e94",
   "metadata": {},
   "outputs": [
    {
     "name": "stdout",
     "output_type": "stream",
     "text": [
      "Index(['reviews_like_rate', 'all_reviews_number', 'release_date', 'developer',\n",
      "       'user_defined_tags', 'supported_os', 'supported_languages', 'price',\n",
      "       'other_features', 'age_restriction', 'rating', 'difficulty', 'length',\n",
      "       'estimated_downloads'],\n",
      "      dtype='object')\n"
     ]
    }
   ],
   "source": [
    "print(df.columns)\n"
   ]
  },
  {
   "cell_type": "code",
   "execution_count": 278,
   "id": "dc911b94",
   "metadata": {},
   "outputs": [],
   "source": [
    "# Limpiamos\n",
    "for col in ['user_defined_tags', 'supported_os']:\n",
    "    if col in df.columns:\n",
    "        df[col] = df[col].astype(str).str.rstrip(', ')\n"
   ]
  },
  {
   "cell_type": "code",
   "execution_count": 279,
   "id": "794929d8",
   "metadata": {},
   "outputs": [
    {
     "data": {
      "application/vnd.microsoft.datawrangler.viewer.v0+json": {
       "columns": [
        {
         "name": "game_name",
         "rawType": "object",
         "type": "string"
        },
        {
         "name": "reviews_like_rate",
         "rawType": "int64",
         "type": "integer"
        },
        {
         "name": "all_reviews_number",
         "rawType": "int64",
         "type": "integer"
        },
        {
         "name": "release_date",
         "rawType": "object",
         "type": "string"
        },
        {
         "name": "developer",
         "rawType": "object",
         "type": "string"
        },
        {
         "name": "user_defined_tags",
         "rawType": "object",
         "type": "string"
        },
        {
         "name": "supported_os",
         "rawType": "object",
         "type": "string"
        },
        {
         "name": "supported_languages",
         "rawType": "object",
         "type": "string"
        },
        {
         "name": "price",
         "rawType": "float64",
         "type": "float"
        },
        {
         "name": "other_features",
         "rawType": "object",
         "type": "string"
        },
        {
         "name": "age_restriction",
         "rawType": "int64",
         "type": "integer"
        },
        {
         "name": "rating",
         "rawType": "float64",
         "type": "float"
        },
        {
         "name": "difficulty",
         "rawType": "int64",
         "type": "integer"
        },
        {
         "name": "length",
         "rawType": "int64",
         "type": "integer"
        },
        {
         "name": "estimated_downloads",
         "rawType": "int64",
         "type": "integer"
        }
       ],
       "ref": "93f977be-d62e-4850-ba03-d72838ed144d",
       "rows": [
        [
         "Counter-Strike 2",
         "86",
         "8803754",
         "21 Aug, 2012",
         "Valve",
         "FPS, Action, Tactical",
         "win, linux",
         "English, Czech, Danish, Dutch, Finnish, French, German, Hungarian, Italian, Japanese, Korean, Norwegian, Polish, Portuguese - Portugal, Portuguese - Brazil, Romanian, Russian, Simplified Chinese, Spanish - Spain, Swedish, Thai, Traditional Chinese, Turkish, Bulgarian, Ukrainian, Greek, Spanish - Latin America, Vietnamese, Indonesian",
         "0.0",
         "Cross-Platform Multiplayer, Steam Trading Cards, Steam Workshop, In-App Purchases, Stats, Remote Play on Phone, Remote Play on Tablet, Remote Play on TV, Steam Timeline",
         "17",
         "3.2",
         "4",
         "80",
         "306170000"
        ],
        [
         "PUBG: BATTLEGROUNDS",
         "59",
         "2554482",
         "21 Dec, 2017",
         "PUBG Corporation",
         "Survival, Shooter, Action, Tactical",
         "win",
         "English, Korean, Simplified Chinese, French, German, Spanish - Spain, Arabic, Japanese, Polish, Portuguese - Portugal, Russian, Turkish, Thai, Italian, Portuguese - Brazil, Traditional Chinese, Ukrainian",
         "0.0",
         "Online PvP, Stats, Remote Play on Phone, Remote Play on Tablet",
         "13",
         "3.1",
         "4",
         "73",
         "162350000"
        ],
        [
         "ELDEN RING NIGHTREIGN",
         "77",
         "53426",
         "30 May, 2025",
         "FromSoftware, Inc.",
         "Souls-like, Open World, Fantasy, RPG",
         "win",
         "English, Japanese, French, Italian, German, Spanish - Spain, Arabic, Korean, Polish, Portuguese - Brazil, Russian, Simplified Chinese, Spanish - Latin America, Thai, Traditional Chinese",
         "25.99",
         "Single-player, Online Co-op, Steam Achievements, Steam Cloud, Family Sharing",
         "17",
         "3.96",
         "4",
         "50",
         "840000"
        ],
        [
         "The Last of Us™ Part I",
         "79",
         "45424",
         "28 Mar, 2023",
         "Naughty Dog LLC",
         "Story Rich, Shooter, Survival, Horror",
         "win",
         "English, Italian, Spanish - Spain, Czech, Dutch, Greek, French, German, Danish, Finnish, Hungarian, Japanese, Korean, Norwegian, Polish, Portuguese - Brazil, Portuguese - Portugal, Russian, Simplified Chinese, Spanish - Latin America, Swedish, Thai, Traditional Chinese, Turkish, Croatian",
         "59.99",
         "Single-player, Steam Achievements, Steam Trading Cards, Steam Cloud, Remote Play on TV, Family Sharing",
         "17",
         "4.1",
         "3",
         "24",
         "2000000"
        ],
        [
         "Red Dead Redemption 2",
         "92",
         "672140",
         "5 Dec, 2019",
         "Rockstar Games",
         "Open World, Story Rich, Adventure, Realistic, Shooter, Sandbox",
         "win",
         "English, French, Italian, German, Spanish - Spain, Japanese, Korean, Polish, Portuguese - Portugal, Russian, Simplified Chinese, Spanish - Latin America, Traditional Chinese",
         "59.99",
         "Single-player, Online PvP, Online Co-op, Steam Achievements, In-App Purchases, Remote Play on Phone, Remote Play on Tablet",
         "17",
         "4.32",
         "3",
         "80",
         "21610000"
        ]
       ],
       "shape": {
        "columns": 14,
        "rows": 5
       }
      },
      "text/html": [
       "<div>\n",
       "<style scoped>\n",
       "    .dataframe tbody tr th:only-of-type {\n",
       "        vertical-align: middle;\n",
       "    }\n",
       "\n",
       "    .dataframe tbody tr th {\n",
       "        vertical-align: top;\n",
       "    }\n",
       "\n",
       "    .dataframe thead th {\n",
       "        text-align: right;\n",
       "    }\n",
       "</style>\n",
       "<table border=\"1\" class=\"dataframe\">\n",
       "  <thead>\n",
       "    <tr style=\"text-align: right;\">\n",
       "      <th></th>\n",
       "      <th>reviews_like_rate</th>\n",
       "      <th>all_reviews_number</th>\n",
       "      <th>release_date</th>\n",
       "      <th>developer</th>\n",
       "      <th>user_defined_tags</th>\n",
       "      <th>supported_os</th>\n",
       "      <th>supported_languages</th>\n",
       "      <th>price</th>\n",
       "      <th>other_features</th>\n",
       "      <th>age_restriction</th>\n",
       "      <th>rating</th>\n",
       "      <th>difficulty</th>\n",
       "      <th>length</th>\n",
       "      <th>estimated_downloads</th>\n",
       "    </tr>\n",
       "    <tr>\n",
       "      <th>game_name</th>\n",
       "      <th></th>\n",
       "      <th></th>\n",
       "      <th></th>\n",
       "      <th></th>\n",
       "      <th></th>\n",
       "      <th></th>\n",
       "      <th></th>\n",
       "      <th></th>\n",
       "      <th></th>\n",
       "      <th></th>\n",
       "      <th></th>\n",
       "      <th></th>\n",
       "      <th></th>\n",
       "      <th></th>\n",
       "    </tr>\n",
       "  </thead>\n",
       "  <tbody>\n",
       "    <tr>\n",
       "      <th>Counter-Strike 2</th>\n",
       "      <td>86</td>\n",
       "      <td>8803754</td>\n",
       "      <td>21 Aug, 2012</td>\n",
       "      <td>Valve</td>\n",
       "      <td>FPS, Action, Tactical</td>\n",
       "      <td>win, linux</td>\n",
       "      <td>English, Czech, Danish, Dutch, Finnish, French...</td>\n",
       "      <td>0.00</td>\n",
       "      <td>Cross-Platform Multiplayer, Steam Trading Card...</td>\n",
       "      <td>17</td>\n",
       "      <td>3.20</td>\n",
       "      <td>4</td>\n",
       "      <td>80</td>\n",
       "      <td>306170000</td>\n",
       "    </tr>\n",
       "    <tr>\n",
       "      <th>PUBG: BATTLEGROUNDS</th>\n",
       "      <td>59</td>\n",
       "      <td>2554482</td>\n",
       "      <td>21 Dec, 2017</td>\n",
       "      <td>PUBG Corporation</td>\n",
       "      <td>Survival, Shooter, Action, Tactical</td>\n",
       "      <td>win</td>\n",
       "      <td>English, Korean, Simplified Chinese, French, G...</td>\n",
       "      <td>0.00</td>\n",
       "      <td>Online PvP, Stats, Remote Play on Phone, Remot...</td>\n",
       "      <td>13</td>\n",
       "      <td>3.10</td>\n",
       "      <td>4</td>\n",
       "      <td>73</td>\n",
       "      <td>162350000</td>\n",
       "    </tr>\n",
       "    <tr>\n",
       "      <th>ELDEN RING NIGHTREIGN</th>\n",
       "      <td>77</td>\n",
       "      <td>53426</td>\n",
       "      <td>30 May, 2025</td>\n",
       "      <td>FromSoftware, Inc.</td>\n",
       "      <td>Souls-like, Open World, Fantasy, RPG</td>\n",
       "      <td>win</td>\n",
       "      <td>English, Japanese, French, Italian, German, Sp...</td>\n",
       "      <td>25.99</td>\n",
       "      <td>Single-player, Online Co-op, Steam Achievement...</td>\n",
       "      <td>17</td>\n",
       "      <td>3.96</td>\n",
       "      <td>4</td>\n",
       "      <td>50</td>\n",
       "      <td>840000</td>\n",
       "    </tr>\n",
       "    <tr>\n",
       "      <th>The Last of Us™ Part I</th>\n",
       "      <td>79</td>\n",
       "      <td>45424</td>\n",
       "      <td>28 Mar, 2023</td>\n",
       "      <td>Naughty Dog LLC</td>\n",
       "      <td>Story Rich, Shooter, Survival, Horror</td>\n",
       "      <td>win</td>\n",
       "      <td>English, Italian, Spanish - Spain, Czech, Dutc...</td>\n",
       "      <td>59.99</td>\n",
       "      <td>Single-player, Steam Achievements, Steam Tradi...</td>\n",
       "      <td>17</td>\n",
       "      <td>4.10</td>\n",
       "      <td>3</td>\n",
       "      <td>24</td>\n",
       "      <td>2000000</td>\n",
       "    </tr>\n",
       "    <tr>\n",
       "      <th>Red Dead Redemption 2</th>\n",
       "      <td>92</td>\n",
       "      <td>672140</td>\n",
       "      <td>5 Dec, 2019</td>\n",
       "      <td>Rockstar Games</td>\n",
       "      <td>Open World, Story Rich, Adventure, Realistic, ...</td>\n",
       "      <td>win</td>\n",
       "      <td>English, French, Italian, German, Spanish - Sp...</td>\n",
       "      <td>59.99</td>\n",
       "      <td>Single-player, Online PvP, Online Co-op, Steam...</td>\n",
       "      <td>17</td>\n",
       "      <td>4.32</td>\n",
       "      <td>3</td>\n",
       "      <td>80</td>\n",
       "      <td>21610000</td>\n",
       "    </tr>\n",
       "  </tbody>\n",
       "</table>\n",
       "</div>"
      ],
      "text/plain": [
       "                        reviews_like_rate  all_reviews_number  release_date  \\\n",
       "game_name                                                                     \n",
       "Counter-Strike 2                       86             8803754  21 Aug, 2012   \n",
       "PUBG: BATTLEGROUNDS                    59             2554482  21 Dec, 2017   \n",
       "ELDEN RING NIGHTREIGN                  77               53426  30 May, 2025   \n",
       "The Last of Us™ Part I                 79               45424  28 Mar, 2023   \n",
       "Red Dead Redemption 2                  92              672140   5 Dec, 2019   \n",
       "\n",
       "                                 developer  \\\n",
       "game_name                                    \n",
       "Counter-Strike 2                     Valve   \n",
       "PUBG: BATTLEGROUNDS       PUBG Corporation   \n",
       "ELDEN RING NIGHTREIGN   FromSoftware, Inc.   \n",
       "The Last of Us™ Part I     Naughty Dog LLC   \n",
       "Red Dead Redemption 2       Rockstar Games   \n",
       "\n",
       "                                                        user_defined_tags  \\\n",
       "game_name                                                                   \n",
       "Counter-Strike 2                                    FPS, Action, Tactical   \n",
       "PUBG: BATTLEGROUNDS                   Survival, Shooter, Action, Tactical   \n",
       "ELDEN RING NIGHTREIGN                Souls-like, Open World, Fantasy, RPG   \n",
       "The Last of Us™ Part I              Story Rich, Shooter, Survival, Horror   \n",
       "Red Dead Redemption 2   Open World, Story Rich, Adventure, Realistic, ...   \n",
       "\n",
       "                       supported_os  \\\n",
       "game_name                             \n",
       "Counter-Strike 2         win, linux   \n",
       "PUBG: BATTLEGROUNDS             win   \n",
       "ELDEN RING NIGHTREIGN           win   \n",
       "The Last of Us™ Part I          win   \n",
       "Red Dead Redemption 2           win   \n",
       "\n",
       "                                                      supported_languages  \\\n",
       "game_name                                                                   \n",
       "Counter-Strike 2        English, Czech, Danish, Dutch, Finnish, French...   \n",
       "PUBG: BATTLEGROUNDS     English, Korean, Simplified Chinese, French, G...   \n",
       "ELDEN RING NIGHTREIGN   English, Japanese, French, Italian, German, Sp...   \n",
       "The Last of Us™ Part I  English, Italian, Spanish - Spain, Czech, Dutc...   \n",
       "Red Dead Redemption 2   English, French, Italian, German, Spanish - Sp...   \n",
       "\n",
       "                        price  \\\n",
       "game_name                       \n",
       "Counter-Strike 2         0.00   \n",
       "PUBG: BATTLEGROUNDS      0.00   \n",
       "ELDEN RING NIGHTREIGN   25.99   \n",
       "The Last of Us™ Part I  59.99   \n",
       "Red Dead Redemption 2   59.99   \n",
       "\n",
       "                                                           other_features  \\\n",
       "game_name                                                                   \n",
       "Counter-Strike 2        Cross-Platform Multiplayer, Steam Trading Card...   \n",
       "PUBG: BATTLEGROUNDS     Online PvP, Stats, Remote Play on Phone, Remot...   \n",
       "ELDEN RING NIGHTREIGN   Single-player, Online Co-op, Steam Achievement...   \n",
       "The Last of Us™ Part I  Single-player, Steam Achievements, Steam Tradi...   \n",
       "Red Dead Redemption 2   Single-player, Online PvP, Online Co-op, Steam...   \n",
       "\n",
       "                        age_restriction  rating  difficulty  length  \\\n",
       "game_name                                                             \n",
       "Counter-Strike 2                     17    3.20           4      80   \n",
       "PUBG: BATTLEGROUNDS                  13    3.10           4      73   \n",
       "ELDEN RING NIGHTREIGN                17    3.96           4      50   \n",
       "The Last of Us™ Part I               17    4.10           3      24   \n",
       "Red Dead Redemption 2                17    4.32           3      80   \n",
       "\n",
       "                        estimated_downloads  \n",
       "game_name                                    \n",
       "Counter-Strike 2                  306170000  \n",
       "PUBG: BATTLEGROUNDS               162350000  \n",
       "ELDEN RING NIGHTREIGN                840000  \n",
       "The Last of Us™ Part I              2000000  \n",
       "Red Dead Redemption 2              21610000  "
      ]
     },
     "execution_count": 279,
     "metadata": {},
     "output_type": "execute_result"
    }
   ],
   "source": [
    "df.head()"
   ]
  },
  {
   "cell_type": "markdown",
   "id": "cb83455d",
   "metadata": {},
   "source": [
    "### Dataset"
   ]
  },
  {
   "cell_type": "code",
   "execution_count": 280,
   "id": "a49d1669",
   "metadata": {},
   "outputs": [],
   "source": [
    "df_features = pd.read_csv(\"ventas_juegos_steam_clean.csv\", header=0, index_col=0)"
   ]
  },
  {
   "cell_type": "code",
   "execution_count": 281,
   "id": "ecdafe2e",
   "metadata": {},
   "outputs": [],
   "source": [
    "#df_features =df.copy()"
   ]
  },
  {
   "cell_type": "markdown",
   "id": "ec688f8d",
   "metadata": {},
   "source": [
    "---\n",
    "\n",
    "## Selección de features"
   ]
  },
  {
   "cell_type": "markdown",
   "id": "2173dbe5",
   "metadata": {},
   "source": [
    "---\n",
    "\n",
    "### Variables numéricas"
   ]
  },
  {
   "cell_type": "markdown",
   "id": "8fdf8c95",
   "metadata": {},
   "source": [
    "Nuestro objetivo es identificar qué variables son relevantes para predecir la variable objetivo review_like_rate, optimizando la calidad del modelo."
   ]
  },
  {
   "cell_type": "code",
   "execution_count": 282,
   "id": "e6b84e08",
   "metadata": {},
   "outputs": [],
   "source": [
    "#df_features = df # Copiamos el dataset para trabajar en la selección de características"
   ]
  },
  {
   "cell_type": "code",
   "execution_count": 283,
   "id": "280327a6",
   "metadata": {},
   "outputs": [
    {
     "data": {
      "application/vnd.microsoft.datawrangler.viewer.v0+json": {
       "columns": [
        {
         "name": "game_name",
         "rawType": "object",
         "type": "string"
        },
        {
         "name": "reviews_like_rate",
         "rawType": "int64",
         "type": "integer"
        },
        {
         "name": "all_reviews_number",
         "rawType": "int64",
         "type": "integer"
        },
        {
         "name": "release_date",
         "rawType": "object",
         "type": "string"
        },
        {
         "name": "developer",
         "rawType": "object",
         "type": "string"
        },
        {
         "name": "user_defined_tags",
         "rawType": "object",
         "type": "string"
        },
        {
         "name": "supported_os",
         "rawType": "object",
         "type": "string"
        },
        {
         "name": "supported_languages",
         "rawType": "object",
         "type": "string"
        },
        {
         "name": "price",
         "rawType": "float64",
         "type": "float"
        },
        {
         "name": "other_features",
         "rawType": "object",
         "type": "string"
        },
        {
         "name": "age_restriction",
         "rawType": "int64",
         "type": "integer"
        },
        {
         "name": "rating",
         "rawType": "float64",
         "type": "float"
        },
        {
         "name": "difficulty",
         "rawType": "int64",
         "type": "integer"
        },
        {
         "name": "length",
         "rawType": "int64",
         "type": "integer"
        },
        {
         "name": "estimated_downloads",
         "rawType": "int64",
         "type": "integer"
        },
        {
         "name": "release_year",
         "rawType": "int64",
         "type": "integer"
        }
       ],
       "ref": "ea08d3b5-6e14-480f-bcbf-a603ef0dbe22",
       "rows": [
        [
         "ELDEN RING NIGHTREIGN",
         "77",
         "53426",
         "2025-05-30",
         "FromSoftware, Inc.",
         "Souls-like, Open World, Fantasy, RPG",
         "win",
         "English, Japanese, French, Italian, German, Spanish - Spain, Arabic, Korean, Polish, Portuguese - Brazil, Russian, Simplified Chinese, Spanish - Latin America, Thai, Traditional Chinese",
         "25.99",
         "Single-player, Online Co-op, Steam Achievements, Steam Cloud, Family Sharing",
         "17",
         "3.96",
         "4",
         "50",
         "840000",
         "2025"
        ],
        [
         "The Last of Us™ Part I",
         "79",
         "45424",
         "2023-03-28",
         "Naughty Dog LLC",
         "Story Rich, Shooter, Survival, Horror",
         "win",
         "English, Italian, Spanish - Spain, Czech, Dutch, Greek, French, German, Danish, Finnish, Hungarian, Japanese, Korean, Norwegian, Polish, Portuguese - Brazil, Portuguese - Portugal, Russian, Simplified Chinese, Spanish - Latin America, Swedish, Thai, Traditional Chinese, Turkish, Croatian",
         "59.99",
         "Single-player, Steam Achievements, Steam Trading Cards, Steam Cloud, Remote Play on TV, Family Sharing",
         "17",
         "4.1",
         "3",
         "24",
         "2000000",
         "2023"
        ],
        [
         "Game of Thrones: Kingsroad",
         "61",
         "2667",
         "2025-05-22",
         "Netmarble Neo",
         "Action, Adventure, RPG, Open World, Fantasy",
         "win",
         "English, French, Italian, German, Spanish - Spain, Portuguese - Brazil, Turkish",
         "0.0",
         "Single-player, Online Co-op, In-App Purchases",
         "17",
         "3.4",
         "3",
         "42",
         "361500",
         "2025"
        ],
        [
         "RoadCraft",
         "72",
         "5134",
         "2025-05-20",
         "Saber Interactive",
         "Simulation, Building, Driving",
         "win",
         "English, French, Italian, German, Spanish - Spain, Simplified Chinese, Traditional Chinese, Polish, Portuguese - Brazil, Russian, Czech, Korean, Arabic, Turkish, Japanese",
         "27.99",
         "Single-player, Online Co-op, Cross-Platform Multiplayer, Steam Achievements, Steam Trading Cards, Steam Cloud, Family Sharing",
         "0",
         "3.2",
         "3",
         "26",
         "325900",
         "2025"
        ],
        [
         "R.E.P.O.",
         "96",
         "147407",
         "2025-02-26",
         "semiwork",
         "Early Access, Horror",
         "win",
         "English",
         "5.79",
         "Single-player, Online Co-op, Steam Cloud, Family Sharing",
         "10",
         "3.58",
         "4",
         "54",
         "12950000",
         "2025"
        ]
       ],
       "shape": {
        "columns": 15,
        "rows": 5
       }
      },
      "text/html": [
       "<div>\n",
       "<style scoped>\n",
       "    .dataframe tbody tr th:only-of-type {\n",
       "        vertical-align: middle;\n",
       "    }\n",
       "\n",
       "    .dataframe tbody tr th {\n",
       "        vertical-align: top;\n",
       "    }\n",
       "\n",
       "    .dataframe thead th {\n",
       "        text-align: right;\n",
       "    }\n",
       "</style>\n",
       "<table border=\"1\" class=\"dataframe\">\n",
       "  <thead>\n",
       "    <tr style=\"text-align: right;\">\n",
       "      <th></th>\n",
       "      <th>reviews_like_rate</th>\n",
       "      <th>all_reviews_number</th>\n",
       "      <th>release_date</th>\n",
       "      <th>developer</th>\n",
       "      <th>user_defined_tags</th>\n",
       "      <th>supported_os</th>\n",
       "      <th>supported_languages</th>\n",
       "      <th>price</th>\n",
       "      <th>other_features</th>\n",
       "      <th>age_restriction</th>\n",
       "      <th>rating</th>\n",
       "      <th>difficulty</th>\n",
       "      <th>length</th>\n",
       "      <th>estimated_downloads</th>\n",
       "      <th>release_year</th>\n",
       "    </tr>\n",
       "    <tr>\n",
       "      <th>game_name</th>\n",
       "      <th></th>\n",
       "      <th></th>\n",
       "      <th></th>\n",
       "      <th></th>\n",
       "      <th></th>\n",
       "      <th></th>\n",
       "      <th></th>\n",
       "      <th></th>\n",
       "      <th></th>\n",
       "      <th></th>\n",
       "      <th></th>\n",
       "      <th></th>\n",
       "      <th></th>\n",
       "      <th></th>\n",
       "      <th></th>\n",
       "    </tr>\n",
       "  </thead>\n",
       "  <tbody>\n",
       "    <tr>\n",
       "      <th>ELDEN RING NIGHTREIGN</th>\n",
       "      <td>77</td>\n",
       "      <td>53426</td>\n",
       "      <td>2025-05-30</td>\n",
       "      <td>FromSoftware, Inc.</td>\n",
       "      <td>Souls-like, Open World, Fantasy, RPG</td>\n",
       "      <td>win</td>\n",
       "      <td>English, Japanese, French, Italian, German, Sp...</td>\n",
       "      <td>25.99</td>\n",
       "      <td>Single-player, Online Co-op, Steam Achievement...</td>\n",
       "      <td>17</td>\n",
       "      <td>3.96</td>\n",
       "      <td>4</td>\n",
       "      <td>50</td>\n",
       "      <td>840000</td>\n",
       "      <td>2025</td>\n",
       "    </tr>\n",
       "    <tr>\n",
       "      <th>The Last of Us™ Part I</th>\n",
       "      <td>79</td>\n",
       "      <td>45424</td>\n",
       "      <td>2023-03-28</td>\n",
       "      <td>Naughty Dog LLC</td>\n",
       "      <td>Story Rich, Shooter, Survival, Horror</td>\n",
       "      <td>win</td>\n",
       "      <td>English, Italian, Spanish - Spain, Czech, Dutc...</td>\n",
       "      <td>59.99</td>\n",
       "      <td>Single-player, Steam Achievements, Steam Tradi...</td>\n",
       "      <td>17</td>\n",
       "      <td>4.10</td>\n",
       "      <td>3</td>\n",
       "      <td>24</td>\n",
       "      <td>2000000</td>\n",
       "      <td>2023</td>\n",
       "    </tr>\n",
       "    <tr>\n",
       "      <th>Game of Thrones: Kingsroad</th>\n",
       "      <td>61</td>\n",
       "      <td>2667</td>\n",
       "      <td>2025-05-22</td>\n",
       "      <td>Netmarble Neo</td>\n",
       "      <td>Action, Adventure, RPG, Open World, Fantasy</td>\n",
       "      <td>win</td>\n",
       "      <td>English, French, Italian, German, Spanish - Sp...</td>\n",
       "      <td>0.00</td>\n",
       "      <td>Single-player, Online Co-op, In-App Purchases</td>\n",
       "      <td>17</td>\n",
       "      <td>3.40</td>\n",
       "      <td>3</td>\n",
       "      <td>42</td>\n",
       "      <td>361500</td>\n",
       "      <td>2025</td>\n",
       "    </tr>\n",
       "    <tr>\n",
       "      <th>RoadCraft</th>\n",
       "      <td>72</td>\n",
       "      <td>5134</td>\n",
       "      <td>2025-05-20</td>\n",
       "      <td>Saber Interactive</td>\n",
       "      <td>Simulation, Building, Driving</td>\n",
       "      <td>win</td>\n",
       "      <td>English, French, Italian, German, Spanish - Sp...</td>\n",
       "      <td>27.99</td>\n",
       "      <td>Single-player, Online Co-op, Cross-Platform Mu...</td>\n",
       "      <td>0</td>\n",
       "      <td>3.20</td>\n",
       "      <td>3</td>\n",
       "      <td>26</td>\n",
       "      <td>325900</td>\n",
       "      <td>2025</td>\n",
       "    </tr>\n",
       "    <tr>\n",
       "      <th>R.E.P.O.</th>\n",
       "      <td>96</td>\n",
       "      <td>147407</td>\n",
       "      <td>2025-02-26</td>\n",
       "      <td>semiwork</td>\n",
       "      <td>Early Access, Horror</td>\n",
       "      <td>win</td>\n",
       "      <td>English</td>\n",
       "      <td>5.79</td>\n",
       "      <td>Single-player, Online Co-op, Steam Cloud, Fami...</td>\n",
       "      <td>10</td>\n",
       "      <td>3.58</td>\n",
       "      <td>4</td>\n",
       "      <td>54</td>\n",
       "      <td>12950000</td>\n",
       "      <td>2025</td>\n",
       "    </tr>\n",
       "  </tbody>\n",
       "</table>\n",
       "</div>"
      ],
      "text/plain": [
       "                            reviews_like_rate  all_reviews_number  \\\n",
       "game_name                                                           \n",
       "ELDEN RING NIGHTREIGN                      77               53426   \n",
       "The Last of Us™ Part I                     79               45424   \n",
       "Game of Thrones: Kingsroad                 61                2667   \n",
       "RoadCraft                                  72                5134   \n",
       "R.E.P.O.                                   96              147407   \n",
       "\n",
       "                           release_date           developer  \\\n",
       "game_name                                                     \n",
       "ELDEN RING NIGHTREIGN        2025-05-30  FromSoftware, Inc.   \n",
       "The Last of Us™ Part I       2023-03-28     Naughty Dog LLC   \n",
       "Game of Thrones: Kingsroad   2025-05-22       Netmarble Neo   \n",
       "RoadCraft                    2025-05-20   Saber Interactive   \n",
       "R.E.P.O.                     2025-02-26            semiwork   \n",
       "\n",
       "                                                      user_defined_tags  \\\n",
       "game_name                                                                 \n",
       "ELDEN RING NIGHTREIGN              Souls-like, Open World, Fantasy, RPG   \n",
       "The Last of Us™ Part I            Story Rich, Shooter, Survival, Horror   \n",
       "Game of Thrones: Kingsroad  Action, Adventure, RPG, Open World, Fantasy   \n",
       "RoadCraft                                 Simulation, Building, Driving   \n",
       "R.E.P.O.                                           Early Access, Horror   \n",
       "\n",
       "                           supported_os  \\\n",
       "game_name                                 \n",
       "ELDEN RING NIGHTREIGN               win   \n",
       "The Last of Us™ Part I              win   \n",
       "Game of Thrones: Kingsroad          win   \n",
       "RoadCraft                           win   \n",
       "R.E.P.O.                            win   \n",
       "\n",
       "                                                          supported_languages  \\\n",
       "game_name                                                                       \n",
       "ELDEN RING NIGHTREIGN       English, Japanese, French, Italian, German, Sp...   \n",
       "The Last of Us™ Part I      English, Italian, Spanish - Spain, Czech, Dutc...   \n",
       "Game of Thrones: Kingsroad  English, French, Italian, German, Spanish - Sp...   \n",
       "RoadCraft                   English, French, Italian, German, Spanish - Sp...   \n",
       "R.E.P.O.                                                              English   \n",
       "\n",
       "                            price  \\\n",
       "game_name                           \n",
       "ELDEN RING NIGHTREIGN       25.99   \n",
       "The Last of Us™ Part I      59.99   \n",
       "Game of Thrones: Kingsroad   0.00   \n",
       "RoadCraft                   27.99   \n",
       "R.E.P.O.                     5.79   \n",
       "\n",
       "                                                               other_features  \\\n",
       "game_name                                                                       \n",
       "ELDEN RING NIGHTREIGN       Single-player, Online Co-op, Steam Achievement...   \n",
       "The Last of Us™ Part I      Single-player, Steam Achievements, Steam Tradi...   \n",
       "Game of Thrones: Kingsroad      Single-player, Online Co-op, In-App Purchases   \n",
       "RoadCraft                   Single-player, Online Co-op, Cross-Platform Mu...   \n",
       "R.E.P.O.                    Single-player, Online Co-op, Steam Cloud, Fami...   \n",
       "\n",
       "                            age_restriction  rating  difficulty  length  \\\n",
       "game_name                                                                 \n",
       "ELDEN RING NIGHTREIGN                    17    3.96           4      50   \n",
       "The Last of Us™ Part I                   17    4.10           3      24   \n",
       "Game of Thrones: Kingsroad               17    3.40           3      42   \n",
       "RoadCraft                                 0    3.20           3      26   \n",
       "R.E.P.O.                                 10    3.58           4      54   \n",
       "\n",
       "                            estimated_downloads  release_year  \n",
       "game_name                                                      \n",
       "ELDEN RING NIGHTREIGN                    840000          2025  \n",
       "The Last of Us™ Part I                  2000000          2023  \n",
       "Game of Thrones: Kingsroad               361500          2025  \n",
       "RoadCraft                                325900          2025  \n",
       "R.E.P.O.                               12950000          2025  "
      ]
     },
     "execution_count": 283,
     "metadata": {},
     "output_type": "execute_result"
    }
   ],
   "source": [
    "df_features.head()"
   ]
  },
  {
   "cell_type": "code",
   "execution_count": 284,
   "id": "b3d74594",
   "metadata": {},
   "outputs": [
    {
     "data": {
      "image/png": "[encoded data removed]",
      "text/plain": [
       "<Figure size 1000x600 with 2 Axes>"
      ]
     },
     "metadata": {},
     "output_type": "display_data"
    }
   ],
   "source": [
    "# Seleccionamos las variables numéricas\n",
    "numerical_features = df_features.select_dtypes(include=[np.number])\n",
    "correlation_matrix = numerical_features.corr()\n",
    "\n",
    "# Ordenamos por la VO\n",
    "correlation_with_target = correlation_matrix[\"reviews_like_rate\"].sort_values(ascending=False)\n",
    "\n",
    "plt.figure(figsize=(10, 6))\n",
    "sns.heatmap(correlation_with_target.to_frame(), annot=True, cmap=\"coolwarm\")\n",
    "plt.title(\"Correlación de variables numéricas con la variable objetivo\")\n",
    "plt.show()\n"
   ]
  },
  {
   "cell_type": "markdown",
   "id": "ef1f56d0",
   "metadata": {},
   "source": [
    "### Rating"
   ]
  },
  {
   "cell_type": "markdown",
   "id": "0c047bae",
   "metadata": {},
   "source": [
    "Como puede verse, entre las variables numéricas, solamente la variable \"rating\" es la que tiene una correlación significativa con la variable objetivo. Dada la naturaleza de ambas variables sería esperable que así fuera ya que ambas son diferentes maneras de calificar los juegos por parte de los usuarios, sin embargo nos resulta interesante ver que la correlación no es tan alta como sería esperable.\n",
    "\n",
    "Esto sugiere que, si bien rating y reviews_like_rate están relacionadas, no son equivalentes. Esto puede deberse a que cada una captura aspectos distintos de la percepción de los usuarios: mientras que review_like_rate se basa en un esquema binario de likes/dislikes, rating refleja una calificación entre 1 y 5 estrellas.\n",
    "\n",
    "Decidimos entonces **mantener la variable rating** como feature, ya que aporta información relevante pero no completamente redundante con la variable objetivo. Además, al no ser una variable derivada directa de review_like_rate, su inclusión puede mejorar la capacidad predictiva del modelo sin generar data leakage.\n",
    "\n",
    "---\n"
   ]
  },
  {
   "cell_type": "code",
   "execution_count": 285,
   "id": "e06f49f2",
   "metadata": {},
   "outputs": [
    {
     "name": "stdout",
     "output_type": "stream",
     "text": [
      "Modelo con solo rating - R² promedio: 0.2636\n"
     ]
    }
   ],
   "source": [
    "\n",
    "from sklearn.linear_model import LinearRegression\n",
    "from sklearn.model_selection import cross_val_score\n",
    "\n",
    "# Dataset solo con rating como feature\n",
    "X_rating = df_features[[\"rating\"]]\n",
    "y = df_features[\"reviews_like_rate\"]\n",
    "\n",
    "# Regresión lineal simple\n",
    "model_rating_only = LinearRegression()\n",
    "scores_rating = cross_val_score(model_rating_only, X_rating, y, cv=5, scoring='r2')\n",
    "print(f\"Modelo con solo rating - R² promedio: {scores_rating.mean():.4f}\")\n"
   ]
  },
  {
   "cell_type": "markdown",
   "id": "a0a8742f",
   "metadata": {},
   "source": [
    "Realizamos esta prueba para corroborar el valor de R² solamente con la variable ratings y obtuvimos un promedio de 0.26, lo que significa que esta variable es capaz de explicar cerca del 26% de la variablidad de la VO."
   ]
  },
  {
   "cell_type": "code",
   "execution_count": 286,
   "id": "c88bd5c9",
   "metadata": {},
   "outputs": [
    {
     "data": {
      "image/png": "[encoded data removed]",
      "text/plain": [
       "<Figure size 640x480 with 1 Axes>"
      ]
     },
     "metadata": {},
     "output_type": "display_data"
    }
   ],
   "source": [
    "# %%\n",
    "sns.scatterplot(data=df_features, x='rating', y='reviews_like_rate', alpha=0.3)\n",
    "plt.title(\"Relación entre rating y reviews_like_rate\")\n",
    "plt.xlabel(\"Rating\")\n",
    "plt.ylabel(\"Review Like Rate\")\n",
    "plt.show()\n"
   ]
  },
  {
   "cell_type": "markdown",
   "id": "1d04949f",
   "metadata": {},
   "source": [
    "El gráfico de dispersión entre las variables muestra una tendencia lineal entre ambas variables, lo cual confirma que a mayor calificación promedio, tiende a haber una mayor proporción de reseñas positivas. Sin embargo, también se observa bastante dispersión vertical para un mismo valor de rating, especialmente entre 3 y 4 estrellas. Esto refuerza lo encontrado en el análisis de R²: si bien rating tiene poder explicativo, no es suficiente por sí sola para capturar completamente el comportamiento de la variable objetivo. La presencia de muchos puntos con rating similar pero review_like_rate muy diferente sugiere que hay otros factores relevantes en juego, que seguiremos viendo a continuación."
   ]
  },
  {
   "cell_type": "markdown",
   "id": "006bba9a",
   "metadata": {},
   "source": [
    "### Demás variables numéricas"
   ]
  },
  {
   "cell_type": "markdown",
   "id": "37694e1d",
   "metadata": {},
   "source": [
    "Si bien algunas variables numéricas muestran una correlación baja con la variable objetivo, decidimos no descartarlas en esta etapa. La correlación no mide el aporte de una variable al modelo en combinación con otras, ni captura relaciones no lineales. Por eso, como se trabajó en clase, vamos a tratar de evaluar el valor predictivo de estas utilizando Lasso."
   ]
  },
  {
   "cell_type": "code",
   "execution_count": 287,
   "id": "c7360c91",
   "metadata": {},
   "outputs": [
    {
     "name": "stdout",
     "output_type": "stream",
     "text": [
      "Coeficientes obtenidos con Lasso:\n",
      "all_reviews_number     1.150561\n",
      "estimated_downloads    0.000000\n",
      "length                -0.000000\n",
      "difficulty            -0.000000\n",
      "price                 -0.000000\n",
      "age_restriction       -0.634786\n",
      "dtype: float64\n"
     ]
    }
   ],
   "source": [
    "from sklearn.linear_model import LassoCV\n",
    "from sklearn.preprocessing import StandardScaler\n",
    "\n",
    "# Variables numéricas con baja correlación\n",
    "numerical_vars = ['all_reviews_number', 'estimated_downloads', 'length', 'difficulty', 'price', 'age_restriction']\n",
    "X = df_features[numerical_vars]\n",
    "y = df_features[\"reviews_like_rate\"]\n",
    "\n",
    "# Escalamos los datos\n",
    "scaler = StandardScaler()\n",
    "X_scaled = scaler.fit_transform(X)\n",
    "\n",
    "# Aplicamos Lasso con validación cruzada (cv=5)\n",
    "lasso = LassoCV(cv=5, random_state=0)\n",
    "lasso.fit(X_scaled, y)\n",
    "\n",
    "# Asociamos los coeficientes aprendidos a las variables\n",
    "coef = pd.Series(lasso.coef_, index=numerical_vars)\n",
    "\n",
    "# Mostramos los resultados\n",
    "print(\"Coeficientes obtenidos con Lasso:\")\n",
    "print(coef)\n"
   ]
  },
  {
   "cell_type": "markdown",
   "id": "4bf624ec",
   "metadata": {},
   "source": [
    "Habiendo aplicado Lasso podemos ver claramente que tampoco desde el punto de vista multivariable se nota una relación lineal entre estas variables y la VO. Esto nos resulta un poco inesperado ya que creíamos que sería un factor a tener en cuenta el precio (variable price) que alguien paga por un juego y las chances de que quede conforme con él, o la popularidad del mismo (variable estimated_downloads) y qué tan bueno se percibe que es, por poner ejemplos.  \n",
    "\n",
    "\n",
    "Por esta razón decidimos realizar un último análisis de tipo no lineal con un RandomForestRegresor, esto nos va a ayudar a ver si hay relaciones subyacentes de tipo no lineal operando y si esto confirma o no nuestras sospechas."
   ]
  },
  {
   "cell_type": "code",
   "execution_count": 288,
   "id": "cda94efd",
   "metadata": {},
   "outputs": [
    {
     "name": "stdout",
     "output_type": "stream",
     "text": [
      "Random Forest - R² promedio: 0.1113\n"
     ]
    }
   ],
   "source": [
    "from sklearn.ensemble import RandomForestRegressor\n",
    "from sklearn.model_selection import cross_val_score\n",
    "\n",
    "X = df_features[['all_reviews_number', 'estimated_downloads', 'length', 'difficulty', 'price', 'age_restriction']]\n",
    "y = df_features['reviews_like_rate']\n",
    "rf_model = RandomForestRegressor(random_state=0)\n",
    "rf_scores = cross_val_score(rf_model, X, y, cv=5, scoring='r2')\n",
    "print(f\"Random Forest - R² promedio: {rf_scores.mean():.4f}\")"
   ]
  },
  {
   "cell_type": "markdown",
   "id": "c213cf34",
   "metadata": {},
   "source": [
    "El resultado (R² = 0.094) indica que incluso con un modelo capaz de capturar relaciones complejas, estas variables tienen un poder predictivo muy limitado respecto a reviews_like_rate. Nuestras sospechas no se corroboran. Procedemos a eliminar estas variables de las features. "
   ]
  },
  {
   "cell_type": "code",
   "execution_count": 289,
   "id": "3e4d8764",
   "metadata": {},
   "outputs": [
    {
     "data": {
      "application/vnd.microsoft.datawrangler.viewer.v0+json": {
       "columns": [
        {
         "name": "game_name",
         "rawType": "object",
         "type": "string"
        },
        {
         "name": "reviews_like_rate",
         "rawType": "int64",
         "type": "integer"
        },
        {
         "name": "release_date",
         "rawType": "object",
         "type": "string"
        },
        {
         "name": "developer",
         "rawType": "object",
         "type": "string"
        },
        {
         "name": "user_defined_tags",
         "rawType": "object",
         "type": "string"
        },
        {
         "name": "supported_os",
         "rawType": "object",
         "type": "string"
        },
        {
         "name": "supported_languages",
         "rawType": "object",
         "type": "string"
        },
        {
         "name": "other_features",
         "rawType": "object",
         "type": "string"
        },
        {
         "name": "rating",
         "rawType": "float64",
         "type": "float"
        },
        {
         "name": "release_year",
         "rawType": "int64",
         "type": "integer"
        }
       ],
       "ref": "ead10888-079d-4eea-9a58-36fc630ec30b",
       "rows": [
        [
         "ELDEN RING NIGHTREIGN",
         "77",
         "2025-05-30",
         "FromSoftware, Inc.",
         "Souls-like, Open World, Fantasy, RPG",
         "win",
         "English, Japanese, French, Italian, German, Spanish - Spain, Arabic, Korean, Polish, Portuguese - Brazil, Russian, Simplified Chinese, Spanish - Latin America, Thai, Traditional Chinese",
         "Single-player, Online Co-op, Steam Achievements, Steam Cloud, Family Sharing",
         "3.96",
         "2025"
        ],
        [
         "The Last of Us™ Part I",
         "79",
         "2023-03-28",
         "Naughty Dog LLC",
         "Story Rich, Shooter, Survival, Horror",
         "win",
         "English, Italian, Spanish - Spain, Czech, Dutch, Greek, French, German, Danish, Finnish, Hungarian, Japanese, Korean, Norwegian, Polish, Portuguese - Brazil, Portuguese - Portugal, Russian, Simplified Chinese, Spanish - Latin America, Swedish, Thai, Traditional Chinese, Turkish, Croatian",
         "Single-player, Steam Achievements, Steam Trading Cards, Steam Cloud, Remote Play on TV, Family Sharing",
         "4.1",
         "2023"
        ],
        [
         "Game of Thrones: Kingsroad",
         "61",
         "2025-05-22",
         "Netmarble Neo",
         "Action, Adventure, RPG, Open World, Fantasy",
         "win",
         "English, French, Italian, German, Spanish - Spain, Portuguese - Brazil, Turkish",
         "Single-player, Online Co-op, In-App Purchases",
         "3.4",
         "2025"
        ],
        [
         "RoadCraft",
         "72",
         "2025-05-20",
         "Saber Interactive",
         "Simulation, Building, Driving",
         "win",
         "English, French, Italian, German, Spanish - Spain, Simplified Chinese, Traditional Chinese, Polish, Portuguese - Brazil, Russian, Czech, Korean, Arabic, Turkish, Japanese",
         "Single-player, Online Co-op, Cross-Platform Multiplayer, Steam Achievements, Steam Trading Cards, Steam Cloud, Family Sharing",
         "3.2",
         "2025"
        ],
        [
         "R.E.P.O.",
         "96",
         "2025-02-26",
         "semiwork",
         "Early Access, Horror",
         "win",
         "English",
         "Single-player, Online Co-op, Steam Cloud, Family Sharing",
         "3.58",
         "2025"
        ]
       ],
       "shape": {
        "columns": 9,
        "rows": 5
       }
      },
      "text/html": [
       "<div>\n",
       "<style scoped>\n",
       "    .dataframe tbody tr th:only-of-type {\n",
       "        vertical-align: middle;\n",
       "    }\n",
       "\n",
       "    .dataframe tbody tr th {\n",
       "        vertical-align: top;\n",
       "    }\n",
       "\n",
       "    .dataframe thead th {\n",
       "        text-align: right;\n",
       "    }\n",
       "</style>\n",
       "<table border=\"1\" class=\"dataframe\">\n",
       "  <thead>\n",
       "    <tr style=\"text-align: right;\">\n",
       "      <th></th>\n",
       "      <th>reviews_like_rate</th>\n",
       "      <th>release_date</th>\n",
       "      <th>developer</th>\n",
       "      <th>user_defined_tags</th>\n",
       "      <th>supported_os</th>\n",
       "      <th>supported_languages</th>\n",
       "      <th>other_features</th>\n",
       "      <th>rating</th>\n",
       "      <th>release_year</th>\n",
       "    </tr>\n",
       "    <tr>\n",
       "      <th>game_name</th>\n",
       "      <th></th>\n",
       "      <th></th>\n",
       "      <th></th>\n",
       "      <th></th>\n",
       "      <th></th>\n",
       "      <th></th>\n",
       "      <th></th>\n",
       "      <th></th>\n",
       "      <th></th>\n",
       "    </tr>\n",
       "  </thead>\n",
       "  <tbody>\n",
       "    <tr>\n",
       "      <th>ELDEN RING NIGHTREIGN</th>\n",
       "      <td>77</td>\n",
       "      <td>2025-05-30</td>\n",
       "      <td>FromSoftware, Inc.</td>\n",
       "      <td>Souls-like, Open World, Fantasy, RPG</td>\n",
       "      <td>win</td>\n",
       "      <td>English, Japanese, French, Italian, German, Sp...</td>\n",
       "      <td>Single-player, Online Co-op, Steam Achievement...</td>\n",
       "      <td>3.96</td>\n",
       "      <td>2025</td>\n",
       "    </tr>\n",
       "    <tr>\n",
       "      <th>The Last of Us™ Part I</th>\n",
       "      <td>79</td>\n",
       "      <td>2023-03-28</td>\n",
       "      <td>Naughty Dog LLC</td>\n",
       "      <td>Story Rich, Shooter, Survival, Horror</td>\n",
       "      <td>win</td>\n",
       "      <td>English, Italian, Spanish - Spain, Czech, Dutc...</td>\n",
       "      <td>Single-player, Steam Achievements, Steam Tradi...</td>\n",
       "      <td>4.10</td>\n",
       "      <td>2023</td>\n",
       "    </tr>\n",
       "    <tr>\n",
       "      <th>Game of Thrones: Kingsroad</th>\n",
       "      <td>61</td>\n",
       "      <td>2025-05-22</td>\n",
       "      <td>Netmarble Neo</td>\n",
       "      <td>Action, Adventure, RPG, Open World, Fantasy</td>\n",
       "      <td>win</td>\n",
       "      <td>English, French, Italian, German, Spanish - Sp...</td>\n",
       "      <td>Single-player, Online Co-op, In-App Purchases</td>\n",
       "      <td>3.40</td>\n",
       "      <td>2025</td>\n",
       "    </tr>\n",
       "    <tr>\n",
       "      <th>RoadCraft</th>\n",
       "      <td>72</td>\n",
       "      <td>2025-05-20</td>\n",
       "      <td>Saber Interactive</td>\n",
       "      <td>Simulation, Building, Driving</td>\n",
       "      <td>win</td>\n",
       "      <td>English, French, Italian, German, Spanish - Sp...</td>\n",
       "      <td>Single-player, Online Co-op, Cross-Platform Mu...</td>\n",
       "      <td>3.20</td>\n",
       "      <td>2025</td>\n",
       "    </tr>\n",
       "    <tr>\n",
       "      <th>R.E.P.O.</th>\n",
       "      <td>96</td>\n",
       "      <td>2025-02-26</td>\n",
       "      <td>semiwork</td>\n",
       "      <td>Early Access, Horror</td>\n",
       "      <td>win</td>\n",
       "      <td>English</td>\n",
       "      <td>Single-player, Online Co-op, Steam Cloud, Fami...</td>\n",
       "      <td>3.58</td>\n",
       "      <td>2025</td>\n",
       "    </tr>\n",
       "  </tbody>\n",
       "</table>\n",
       "</div>"
      ],
      "text/plain": [
       "                            reviews_like_rate release_date  \\\n",
       "game_name                                                    \n",
       "ELDEN RING NIGHTREIGN                      77   2025-05-30   \n",
       "The Last of Us™ Part I                     79   2023-03-28   \n",
       "Game of Thrones: Kingsroad                 61   2025-05-22   \n",
       "RoadCraft                                  72   2025-05-20   \n",
       "R.E.P.O.                                   96   2025-02-26   \n",
       "\n",
       "                                     developer  \\\n",
       "game_name                                        \n",
       "ELDEN RING NIGHTREIGN       FromSoftware, Inc.   \n",
       "The Last of Us™ Part I         Naughty Dog LLC   \n",
       "Game of Thrones: Kingsroad       Netmarble Neo   \n",
       "RoadCraft                    Saber Interactive   \n",
       "R.E.P.O.                              semiwork   \n",
       "\n",
       "                                                      user_defined_tags  \\\n",
       "game_name                                                                 \n",
       "ELDEN RING NIGHTREIGN              Souls-like, Open World, Fantasy, RPG   \n",
       "The Last of Us™ Part I            Story Rich, Shooter, Survival, Horror   \n",
       "Game of Thrones: Kingsroad  Action, Adventure, RPG, Open World, Fantasy   \n",
       "RoadCraft                                 Simulation, Building, Driving   \n",
       "R.E.P.O.                                           Early Access, Horror   \n",
       "\n",
       "                           supported_os  \\\n",
       "game_name                                 \n",
       "ELDEN RING NIGHTREIGN               win   \n",
       "The Last of Us™ Part I              win   \n",
       "Game of Thrones: Kingsroad          win   \n",
       "RoadCraft                           win   \n",
       "R.E.P.O.                            win   \n",
       "\n",
       "                                                          supported_languages  \\\n",
       "game_name                                                                       \n",
       "ELDEN RING NIGHTREIGN       English, Japanese, French, Italian, German, Sp...   \n",
       "The Last of Us™ Part I      English, Italian, Spanish - Spain, Czech, Dutc...   \n",
       "Game of Thrones: Kingsroad  English, French, Italian, German, Spanish - Sp...   \n",
       "RoadCraft                   English, French, Italian, German, Spanish - Sp...   \n",
       "R.E.P.O.                                                              English   \n",
       "\n",
       "                                                               other_features  \\\n",
       "game_name                                                                       \n",
       "ELDEN RING NIGHTREIGN       Single-player, Online Co-op, Steam Achievement...   \n",
       "The Last of Us™ Part I      Single-player, Steam Achievements, Steam Tradi...   \n",
       "Game of Thrones: Kingsroad      Single-player, Online Co-op, In-App Purchases   \n",
       "RoadCraft                   Single-player, Online Co-op, Cross-Platform Mu...   \n",
       "R.E.P.O.                    Single-player, Online Co-op, Steam Cloud, Fami...   \n",
       "\n",
       "                            rating  release_year  \n",
       "game_name                                         \n",
       "ELDEN RING NIGHTREIGN         3.96          2025  \n",
       "The Last of Us™ Part I        4.10          2023  \n",
       "Game of Thrones: Kingsroad    3.40          2025  \n",
       "RoadCraft                     3.20          2025  \n",
       "R.E.P.O.                      3.58          2025  "
      ]
     },
     "execution_count": 289,
     "metadata": {},
     "output_type": "execute_result"
    }
   ],
   "source": [
    "variables_a_eliminar = ['all_reviews_number', 'estimated_downloads', 'length', 'difficulty', 'price', 'age_restriction']\n",
    "df_features = df_features.drop(columns=variables_a_eliminar)\n",
    "\n",
    "df_features.head()\n"
   ]
  },
  {
   "cell_type": "markdown",
   "id": "cd1b936d",
   "metadata": {},
   "source": [
    "---\n",
    "\n",
    "### Variables categóricas"
   ]
  },
  {
   "cell_type": "markdown",
   "id": "18974eeb",
   "metadata": {},
   "source": [
    "### Fechas\n",
    "\n",
    "Decidimos tratar la columa de la fecha de salida de los juegos separándola en dos columnas nuevas, una para el año y otra para el mes.\n",
    "Las dos nos parecen interesantes para la variable objetivo elegida ya que nuestra hipótesis es que el gusto o la forma en la que los \n",
    "usuarios califican los juegos puede variar con los años (así como la calidad de los mismos) y también dependiendo de la época del año (ej: si los compran durante rebajas)."
   ]
  },
  {
   "cell_type": "code",
   "execution_count": 290,
   "id": "81563ece",
   "metadata": {},
   "outputs": [],
   "source": [
    "# Pasamos a la columna release_date a formato datetime\n",
    "df_features[\"release_date\"] = pd.to_datetime(df_features[\"release_date\"], errors=\"coerce\")\n",
    "\n",
    "#Creamos columnas para el año y el mes de publicación\n",
    "df_features[\"release_year\"] = df_features[\"release_date\"].dt.year\n",
    "df_features[\"release_month\"] = df_features[\"release_date\"].dt.month\n",
    "#Quitamos la columna original de release_date ya que ya no la necesitamos\n",
    "df_features.drop(columns=[\"release_date\"], inplace=True)"
   ]
  },
  {
   "cell_type": "markdown",
   "id": "8747fc60",
   "metadata": {},
   "source": [
    "### Lenguajes\n",
    "\n",
    "Sobre los lenguajes que los juegos soportan vamos a realizar un análisis de correlación con la variable objetivo para ver si es necesario \n",
    "tratar con los mismos."
   ]
  },
  {
   "cell_type": "code",
   "execution_count": null,
   "id": "62875675",
   "metadata": {},
   "outputs": [],
   "source": []
  },
  {
   "cell_type": "code",
   "execution_count": 291,
   "id": "64c24b93",
   "metadata": {},
   "outputs": [
    {
     "name": "stdout",
     "output_type": "stream",
     "text": [
      "Resumen general de correlaciones:\n",
      "\n",
      "   max_correlation  min_correlation  mean_correlation  total_languages\n",
      "0         0.084944        -0.077965          0.018397               58\n",
      "\n",
      "Correlación entre n_languages y reviews_like_rate: 0.068679\n"
     ]
    }
   ],
   "source": [
    "from sklearn.preprocessing import MultiLabelBinarizer\n",
    "\n",
    "# Convertimos la columna en listas\n",
    "df_features['supported_languages'] = df_features['supported_languages'].apply(\n",
    "    lambda x: [lang.strip() for lang in x.split(',') if lang.strip()]\n",
    ")\n",
    "\n",
    "# Binarizamos para el cálculo de correlación\n",
    "mlb = MultiLabelBinarizer()\n",
    "lang_dummies = pd.DataFrame(\n",
    "    mlb.fit_transform(df['supported_languages']),\n",
    "    columns=mlb.classes_,\n",
    "    index=df.index\n",
    ")\n",
    "\n",
    "# Unimos con la variable objetivo\n",
    "df_lang_corr = pd.concat([df_features[['reviews_like_rate']], lang_dummies], axis=1)\n",
    "\n",
    "# Calculamos correlación\n",
    "correlations = df_lang_corr.corr()['reviews_like_rate'].drop('reviews_like_rate')\n",
    "\n",
    "# Mostramos\n",
    "summary = pd.DataFrame({\n",
    "    'max_correlation': [correlations.max()],\n",
    "    'min_correlation': [correlations.min()],\n",
    "    'mean_correlation': [correlations.mean()],\n",
    "    'total_languages': [correlations.shape[0]]\n",
    "})\n",
    "\n",
    "print(\"Resumen general de correlaciones:\\n\")\n",
    "print(summary)\n",
    "\n",
    "# Creamos una nueva variable con la cantidad total de idiomas soportados\n",
    "df_features['n_languages'] = df_features['supported_languages'].apply(len)\n",
    "\n",
    "# Calculamos la correlación \n",
    "correlation = df_features[['n_languages', 'reviews_like_rate']].corr().iloc[0, 1]\n",
    "\n",
    "# Mostramos el resultado\n",
    "print()\n",
    "print(f\"Correlación entre n_languages y reviews_like_rate: {correlation:.6f}\")\n",
    "\n",
    "df_features.drop(columns=[\"supported_languages\", \"n_languages\"], inplace=True)"
   ]
  },
  {
   "cell_type": "markdown",
   "id": "5e66aa97",
   "metadata": {},
   "source": [
    "La máxima correlación es de apenas 0.086, y el promedio absoluto de las correlaciones es de solo 0.043. \n",
    "Esto significa para nosotros que esta variable, al menos en su forma actual, no ofrece información útil para \n",
    "la predicción y podría descartarse del modelo.\n",
    "También probamos con una nueva variable que contaba la cantidad de lenguajes soportados por cada juego, y la misma tampoco\n",
    "mostró una correlación significativa con la variable objetivo, por lo que también la descartamos."
   ]
  },
  {
   "cell_type": "markdown",
   "id": "cff53341",
   "metadata": {},
   "source": [
    "La correlación entre las dos variables es de 0.041. Como era de esperarse la cantidad de reseñas no tiene una \n",
    "correlación significativa con la aprobación de los usuarios de los juegos, por lo que decidimos no utilizarla como feature."
   ]
  },
  {
   "cell_type": "markdown",
   "id": "679ff60e",
   "metadata": {},
   "source": [
    "### Developer"
   ]
  },
  {
   "cell_type": "markdown",
   "id": "03c42119",
   "metadata": {},
   "source": [
    "Uno podría pensar que quién hizo el juego es una variable relevante a la hora de predecir si un juego va a ser bien recibido o no,\n",
    "por eso vamos a poner especial ateención a esta variable. \n",
    "\n",
    "El principal problema que encontramos es que tiene una cardinalidad muy alta, la mayoría de los juegos tienen un desarrollador único y hay cerca de 1800 developers para cerca de 2300 juegos, lo que significa que la mayoría de los devs aparecen una sola vez.\n",
    "\n",
    "Esto puede causar problemas si decidimos usar esta variable como feature, ya que el modelo podría ajustarse demasiado a los datos de entrenamiento\n",
    "y no generalizar bien.\n",
    "\n",
    "Para tratar con esta variable aplicar one-hot encoding sería un gran problema, ya que generaría una matriz dispersa con demasiadas columnas. \n",
    "Por eso decidimos el siguiente enfoque:\n"
   ]
  },
  {
   "cell_type": "code",
   "execution_count": 292,
   "id": "a49484f7",
   "metadata": {},
   "outputs": [
    {
     "name": "stdout",
     "output_type": "stream",
     "text": [
      "Developers con 1 juego(s): 1425\n",
      "Developers con 2 juego(s): 171\n",
      "Developers con 3 juego(s): 41\n",
      "Developers con 4 juego(s): 19\n",
      "Developers con 5 juego(s): 5\n",
      "Developers con 6 juego(s): 8\n",
      "Developers con 7 juego(s): 6\n",
      "Developers con 8 juego(s): 2\n",
      "Developers con 9 juego(s): 1\n",
      "Developers con 10 juego(s): 1\n"
     ]
    },
    {
     "data": {
      "image/png": "[encoded data removed]",
      "text/plain": [
       "<Figure size 700x300 with 1 Axes>"
      ]
     },
     "metadata": {},
     "output_type": "display_data"
    }
   ],
   "source": [
    "dev_counts = df_features['developer'].value_counts()\n",
    "\n",
    "# Queremos ver cuántos desarrolladores tienen entre 1 y 10 juegos y cómo es esa distribución\n",
    "dev_freq_distribution = dev_counts.value_counts().sort_index()\n",
    "dev_freq_distribution = dev_freq_distribution.loc[1:10]\n",
    "\n",
    "# Mostrar resultados\n",
    "for i in range(1, 11):\n",
    "    cantidad = dev_freq_distribution.get(i, 0)\n",
    "    print(f\"Developers con {i} juego(s): {cantidad}\")\n",
    "\n",
    "\n",
    "dev_freq_distribution = dev_counts.value_counts().sort_index()\n",
    "dev_freq_distribution = dev_freq_distribution.loc[1:10]\n",
    "\n",
    "# Creamos gráfico de barras\n",
    "plt.figure(figsize=(7, 3))\n",
    "dev_freq_distribution.plot(kind='bar')\n",
    "plt.title('Cantidad de developers según cantidad de juegos desarrollados')\n",
    "plt.xlabel('Cantidad de juegos')\n",
    "plt.ylabel('Cantidad de developers')\n",
    "plt.grid(axis='y', linestyle='--', alpha=0.7)\n",
    "plt.xticks(rotation=0)\n",
    "plt.tight_layout()\n",
    "plt.show()"
   ]
  },
  {
   "cell_type": "code",
   "execution_count": 293,
   "id": "7755932a",
   "metadata": {},
   "outputs": [
    {
     "name": "stdout",
     "output_type": "stream",
     "text": [
      "Developers luego del agrupamiento:\n",
      "developer\n",
      "Other                    1425\n",
      "Arc System Works           15\n",
      "CAPCOM Co., Ltd.           10\n",
      "Square Enix                 9\n",
      "Wales Interactive           8\n",
      "                         ... \n",
      "Anatoliy Loginovskikh       2\n",
      "Vladimir Maslov             2\n",
      "Voxel Bytes                 2\n",
      "Travellin Cats              2\n",
      "Ripknot Systems             2\n",
      "Name: count, Length: 256, dtype: int64\n"
     ]
    }
   ],
   "source": [
    "# Reemplazar developers con <=1 juegos por \"Other\"\n",
    "dev_counts = df_features['developer'].value_counts()\n",
    "df_features['developer'] = df_features['developer'].apply(lambda x: x if dev_counts[x] > 1 else 'Other')\n",
    "\n",
    "# Chequeamos cuántos quedaron\n",
    "print(\"Developers luego del agrupamiento:\")\n",
    "print(df_features['developer'].value_counts())"
   ]
  },
  {
   "cell_type": "markdown",
   "id": "b142afbf",
   "metadata": {},
   "source": [
    "Como se puede ver, la gran mayoría de los devs tiene dos o menos juegos, decidimos eliminar estos para solamente\n",
    "quedarnos con los que tienen más de 2 juegos, ya que son los que tienen más probabilidad de ser relevantes evitando el overfitting."
   ]
  },
  {
   "cell_type": "code",
   "execution_count": 294,
   "id": "8224aa56",
   "metadata": {},
   "outputs": [
    {
     "name": "stdout",
     "output_type": "stream",
     "text": [
      "Cantidad de developers únicos después del filtrado: 256\n"
     ]
    }
   ],
   "source": [
    "# Lista de developers frecuentes (2 o más juegos)\n",
    "valid_devs = dev_counts[dev_counts >= 2].index\n",
    "\n",
    "# Reemplazar los no frecuentes por \"Otro\" en la misma columna\n",
    "df_features['developer'] = df_features['developer'].apply(lambda x: x if x in valid_devs else 'Otro')\n",
    "\n",
    "# Chequear cuántos developers únicos quedan\n",
    "print(f\"Cantidad de developers únicos después del filtrado: {df_features['developer'].nunique()}\")"
   ]
  },
  {
   "cell_type": "markdown",
   "id": "e548ceba",
   "metadata": {},
   "source": [
    "Luego de esta transformación decidimos aplicar target encoding a la variable developer, asignando a cada dev un valor correspondiente al promedio de review_like_rate de los juegos que desarrolló. \n",
    "\n",
    "Sin embargo, observamos luego que el 63% de los juegos pasan a tener el mismo valor en la nueva columna developer_encoded (aproximadamente 82.4), debido a que fueron agrupados bajo la categoría Other, que reúne a todos los desarrolladores con baja frecuencia en el dataset.\n",
    "\n",
    "Esto efecto introduce una pérdida de la capacidad discriminativa del feature, porque muchas entradas comparten el mismo valor. No obstante, decidimos conservarlo porque en los casos restantes el encoding aporta información útil que puede mejorar la predicción del modelo.\n"
   ]
  },
  {
   "cell_type": "code",
   "execution_count": 295,
   "id": "dae1aceb",
   "metadata": {},
   "outputs": [
    {
     "name": "stdout",
     "output_type": "stream",
     "text": [
      "Juegos con developer=\"Other\": 1425 de 2131 (66.87%)\n"
     ]
    }
   ],
   "source": [
    "# Contar cuántos juegos tienen \"Otro\" como valor\n",
    "count_other = (df_features['developer'] == 'Otro').sum()\n",
    "\n",
    "# Total de juegos\n",
    "total = len(df_features)\n",
    "\n",
    "# Porcentaje\n",
    "percentage_other = 100 * count_other / total\n",
    "\n",
    "print(f'Juegos con developer=\"Other\": {count_other} de {total} ({percentage_other:.2f}%)')"
   ]
  },
  {
   "cell_type": "code",
   "execution_count": 296,
   "id": "051993e9",
   "metadata": {},
   "outputs": [],
   "source": [
    "#Aplicamos el taget encoding\n",
    "dev_avg_rating = df_features.groupby('developer')['reviews_like_rate'].mean()\n",
    "df_features['developer'] = df_features['developer'].map(dev_avg_rating)"
   ]
  },
  {
   "cell_type": "markdown",
   "id": "258b7a4a",
   "metadata": {},
   "source": [
    "### User defined tags\n",
    "\n",
    "Esta columna contiene etiquetas asignadas por los usuarios, separadas por comas. Dado que hay cientos de tags posibles, decidimos contar los 15 más frecuentes y convertirlos en variables binarias. Esto nos permite conservar información relevante sin aumentar demasiado la dimensionalidad."
   ]
  },
  {
   "cell_type": "code",
   "execution_count": 297,
   "id": "8ae6b8d1",
   "metadata": {},
   "outputs": [
    {
     "data": {
      "image/png": "[encoded data removed]",
      "text/plain": [
       "<Figure size 1000x400 with 1 Axes>"
      ]
     },
     "metadata": {},
     "output_type": "display_data"
    }
   ],
   "source": [
    "from collections import Counter\n",
    "\n",
    "# Más comunes\n",
    "counter = Counter(tag.strip() for tags in df_features[\"user_defined_tags\"] for tag in tags.split(\",\"))\n",
    "top_tags = [tag for tag, _ in counter.most_common(15)]\n",
    "\n",
    "# Crear variables binarias \n",
    "for tag in top_tags:\n",
    "    col = f\"tag_{tag.replace(' ', '_')}\"\n",
    "    df_features[col] = df_features[\"user_defined_tags\"].str.contains(tag).astype(int)\n",
    "\n",
    "\n",
    "# Visualización rápida\n",
    "df_features[[f\"tag_{tag.replace(' ', '_')}\" for tag in top_tags]].sum().plot.bar(figsize=(10,4), title=\"Frecuencia de los tags seleccionados\")\n",
    "\n",
    "# Sacamos la columna original de user_defined_tags\n",
    "df_features = df_features.drop(columns=[\"user_defined_tags\"])"
   ]
  },
  {
   "cell_type": "markdown",
   "id": "4e873a9c",
   "metadata": {},
   "source": [
    "### Supported OS\n",
    "\n",
    "Esta variable muestra qué sistemas operativos pueden ejecutar el juego en cuestión, los valores posibles son Windows, Linux y Mac, pero dado\n",
    "que Windows está presente en todos los juegos eliminamos esa variable y binarizamos solamente mac y linux."
   ]
  },
  {
   "cell_type": "code",
   "execution_count": 298,
   "id": "34aa6dd7",
   "metadata": {},
   "outputs": [],
   "source": [
    "df_features['supported_mac'] = df_features['supported_os'].str.contains('mac').astype(int)\n",
    "df_features['supported_linux'] = df_features['supported_os'].str.contains('linux').astype(int)\n",
    "\n",
    "# Eliminamos la columna original ya que no aporta más información útil\n",
    "df_features.drop(columns='supported_os', inplace=True)"
   ]
  },
  {
   "cell_type": "markdown",
   "id": "26d4f184",
   "metadata": {},
   "source": [
    "### Other features\n",
    "\n",
    "Esta columna, la útima de las categóricas que nos queda, representa otro conjunto de etiquetas que definen el juego. Entendemos que son etiquetas asignadas por Steam y que tienen que ver con características generales dej juego como Single-Player, Coop, etc."
   ]
  },
  {
   "cell_type": "code",
   "execution_count": 299,
   "id": "b739bb06",
   "metadata": {},
   "outputs": [
    {
     "name": "stdout",
     "output_type": "stream",
     "text": [
      "Cantidad de etiquetas únicas: 32\n",
      "Etiquetas únicas:\n",
      "['Captions available', 'Commentary available', 'Cross-Platform Multiplayer', 'Family Sharing', 'HDR available', 'In-App Purchases', 'Includes Source SDK', 'Includes level editor', 'LAN Co-op', 'LAN PvP', 'MMO', 'Online Co-op', 'Online PvP', 'Remote Play Together', 'Remote Play on Phone', 'Remote Play on TV', 'Remote Play on Tablet', 'Shared/Split Screen Co-op', 'Shared/Split Screen PvP', 'Single-player', 'Stats', 'Steam Achievements', 'Steam Cloud', 'Steam Leaderboards', 'Steam Timeline', 'Steam Trading Cards', 'Steam Turn Notifications', 'Steam Workshop', 'SteamVR Collectibles', 'Tracked Controller Support', 'VR Only', 'VR Supported']\n"
     ]
    }
   ],
   "source": [
    "df_features['other_features'] = df_features['other_features'].fillna('').str.split(',')\n",
    "\n",
    "# Quitamos espacios y aplanamos la lista\n",
    "all_features = df_features['other_features'].explode().str.strip()\n",
    "unique_features = all_features[all_features != ''].unique()\n",
    "\n",
    "# Cuántas hay y cuáles son\n",
    "print(f\"Cantidad de etiquetas únicas: {len(unique_features)}\")\n",
    "print(\"Etiquetas únicas:\")\n",
    "print(sorted(unique_features))"
   ]
  },
  {
   "cell_type": "markdown",
   "id": "58ab39d5",
   "metadata": {},
   "source": [
    "Se puede ver que se trata de 32 etiquetas posibles. Decidimos reducir la dimensionalidad solamente dejando las etiquetas que están presentes en al menos el 5% de los juegos, esto nos deja con 18 etiquetas:"
   ]
  },
  {
   "cell_type": "code",
   "execution_count": 300,
   "id": "2b014faa",
   "metadata": {},
   "outputs": [
    {
     "name": "stdout",
     "output_type": "stream",
     "text": [
      "\n",
      "Seleccionamos 16 etiquetas frecuentes:\n",
      "['Single-player', 'Family Sharing', 'Steam Achievements', 'Steam Cloud', 'Steam Trading Cards', 'Online Co-op', 'Online PvP', 'Steam Leaderboards', 'Remote Play on TV', 'Steam Workshop', 'Remote Play Together', 'In-App Purchases', 'Cross-Platform Multiplayer', 'Stats', 'Remote Play on Tablet', 'Includes level editor']\n"
     ]
    }
   ],
   "source": [
    "all_features = df_features['other_features'].explode().str.strip()\n",
    "feature_counts = Counter(all_features[all_features != ''])\n",
    "\n",
    "# Mostrar ordenado \n",
    "feature_freq = pd.Series(feature_counts).sort_values(ascending=False)\n",
    "\n",
    "min_freq = len(df_features) * 0.05\n",
    "selected_features = feature_freq[feature_freq >= min_freq].index.tolist()\n",
    "\n",
    "print(f\"\\nSeleccionamos {len(selected_features)} etiquetas frecuentes:\")\n",
    "print(selected_features)"
   ]
  },
  {
   "cell_type": "code",
   "execution_count": 301,
   "id": "6692435b",
   "metadata": {},
   "outputs": [],
   "source": [
    "# Binarizamos\n",
    "df_features['other_features'] = df_features['other_features'].apply(\n",
    "    lambda lst: [x.strip() for x in lst if x.strip() != '']\n",
    ")\n",
    "\n",
    "# Creamos una columna para cada etiqueta frecuente\n",
    "for feature in selected_features:\n",
    "    df_features[f'feature_{feature}'] = df_features['other_features'].apply(\n",
    "        lambda x: int(feature in x)\n",
    "    )\n",
    "\n",
    "# Eliminamos la columna original\n",
    "df_features.drop(columns='other_features', inplace=True)\n"
   ]
  },
  {
   "cell_type": "markdown",
   "id": "5eec462e",
   "metadata": {},
   "source": [
    "### Conclusiones sobre las features categóricas"
   ]
  },
  {
   "cell_type": "markdown",
   "id": "bffc9da8",
   "metadata": {},
   "source": [
    "Creamos un gráfico para evaluar la correlación máxima absoluta (Pearson) entre las variables categóricas transformadas (user_defined_tags, supported_os, other_features, developer, release_year, release_month) y reviews_like_rate. Para las variables binarizadas (user_defined_tags, supported_os, other_features), tomamos la correlación absoluta más alta de sus columnas binarias (e.g., tag_Indie, supported_mac) para representar cada variable original. Para developer, release_year y release_month, usamos sus correlaciones absolutas tras codificación. El gráfico de barras ordena estas correlaciones (0.0068 a 0.2778), mostrando que developer y other_features tienen algo de relación con reviews_like_rate, pero todas son débiles a moderadas, sugiriendo que se necesitan modelos no lineales para capturar interacciones más complejas.\n",
    "\n"
   ]
  },
  {
   "cell_type": "code",
   "execution_count": 302,
   "id": "47f619f3",
   "metadata": {},
   "outputs": [
    {
     "name": "stderr",
     "output_type": "stream",
     "text": [
      "C:\\Users\\joaqu\\AppData\\Local\\Temp\\ipykernel_12244\\2649188686.py:39: FutureWarning: \n",
      "\n",
      "Passing `palette` without assigning `hue` is deprecated and will be removed in v0.14.0. Assign the `y` variable to `hue` and set `legend=False` for the same effect.\n",
      "\n",
      "  sns.barplot(x=correlations_series.values, y=correlations_series.index, palette='coolwarm')\n"
     ]
    },
    {
     "data": {
      "image/png": "[encoded data removed]",
      "text/plain": [
       "<Figure size 800x500 with 1 Axes>"
      ]
     },
     "metadata": {},
     "output_type": "display_data"
    },
    {
     "name": "stdout",
     "output_type": "stream",
     "text": [
      "\n",
      "Correlaciones máximas absolutas con reviews_like_rate (ordenadas):\n",
      "developer            0.4365\n",
      "other_features       0.2612\n",
      "supported_os         0.1834\n",
      "user_defined_tags    0.1443\n",
      "release_month        0.0240\n",
      "release_year         0.0230\n",
      "dtype: float64\n"
     ]
    }
   ],
   "source": [
    "import pandas as pd\n",
    "import matplotlib.pyplot as plt\n",
    "import seaborn as sns\n",
    "import numpy as np\n",
    "\n",
    "# Identificamos las columnas categóricas\n",
    "tag_columns = [col for col in df_features.columns if col.startswith('tag_')]\n",
    "os_columns = [col for col in df_features.columns if col.startswith('supported_')]\n",
    "feature_columns = [col for col in df_features.columns if col.startswith('feature_')]\n",
    "other_columns = ['developer', 'release_year', 'release_month']\n",
    "\n",
    "# Calculamos la correlación absoluta máxima para cada grupo de variables binarizadas\n",
    "correlations = {}\n",
    "\n",
    "# Para user_defined_tags\n",
    "if tag_columns:\n",
    "    tag_corrs = df_features[tag_columns].corrwith(df_features['reviews_like_rate'])\n",
    "    correlations['user_defined_tags'] = tag_corrs.abs().max() if not tag_corrs.empty else 0\n",
    "\n",
    "# Para supported_os\n",
    "if os_columns:\n",
    "    os_corrs = df_features[os_columns].corrwith(df_features['reviews_like_rate'])\n",
    "    correlations['supported_os'] = os_corrs.abs().max() if not os_corrs.empty else 0\n",
    "\n",
    "# Para other_features\n",
    "if feature_columns:\n",
    "    feature_corrs = df_features[feature_columns].corrwith(df_features['reviews_like_rate'])\n",
    "    correlations['other_features'] = feature_corrs.abs().max() if not feature_corrs.empty else 0\n",
    "\n",
    "# Para las otras variables categóricas transformadas\n",
    "for col in other_columns:\n",
    "    correlations[col] = abs(df_features[col].corr(df_features['reviews_like_rate']))\n",
    "\n",
    "# Convertimos a una serie y ordenamos\n",
    "correlations_series = pd.Series(correlations).sort_values(ascending=False)\n",
    "\n",
    "\n",
    "plt.figure(figsize=(8, 5))\n",
    "sns.barplot(x=correlations_series.values, y=correlations_series.index, palette='coolwarm')\n",
    "plt.title('Correlación Máxima Absoluta de Variables Categóricas con reviews_like_rate', fontsize=14)\n",
    "plt.xlabel('Correlación Máxima Absoluta (Pearson)', fontsize=12)\n",
    "plt.ylabel('Variables Categóricas', fontsize=12)\n",
    "plt.grid(axis='x', linestyle='--', alpha=0.7)\n",
    "plt.tight_layout()\n",
    "plt.show()\n",
    "\n",
    "# Mostramos los valores de correlación\n",
    "print(\"\\nCorrelaciones máximas absolutas con reviews_like_rate (ordenadas):\")\n",
    "print(correlations_series.round(4))"
   ]
  },
  {
   "cell_type": "markdown",
   "id": "5ffe7769",
   "metadata": {},
   "source": [
    "Las correlaciones máximas absolutas con reviews_like_rate (de 0.0068 a 0.2778) son bajas a moderadas, esto indica asociaciones lineales débiles. developer (0.2778) y other_features (0.2684) muestran cierta relevancia, pero release_month (0.0068) aporta poco. Aunque las correlaciones son limitadas, estas variables pueden contribuir en modelos no lineales al capturar interacciones complejas."
   ]
  },
  {
   "cell_type": "markdown",
   "id": "ec6ea4aa",
   "metadata": {},
   "source": [
    "---\n",
    "\n",
    "## Entrenamiento"
   ]
  },
  {
   "cell_type": "markdown",
   "id": "d4c61528",
   "metadata": {},
   "source": [
    "### División y escalado de los sets"
   ]
  },
  {
   "cell_type": "markdown",
   "id": "c081c3e7",
   "metadata": {},
   "source": [
    "Optamos por dividir el dataset en un 80% para entrenamiento y 20% para prueba, en línea con lo sugerido en las clases y el enfoque habitual en problemas supervisados con datasets de tamaño moderado como este."
   ]
  },
  {
   "cell_type": "code",
   "execution_count": 303,
   "id": "4d883bea",
   "metadata": {},
   "outputs": [],
   "source": [
    "from sklearn.model_selection import train_test_split\n",
    "\n",
    "# Definimos X e y\n",
    "X = df_features.drop(columns=\"reviews_like_rate\")\n",
    "y = df_features[\"reviews_like_rate\"]\n",
    "\n",
    "# División train/test\n",
    "X_train, X_test, y_train, y_test = train_test_split(X, y, test_size=0.2, random_state=42)\n",
    "\n",
    "# Escalado\n",
    "scaler = StandardScaler()\n",
    "X_train_scaled = scaler.fit_transform(X_train)\n",
    "X_test_scaled = scaler.transform(X_test)"
   ]
  },
  {
   "cell_type": "markdown",
   "id": "2b3d107f",
   "metadata": {},
   "source": [
    "### Modelo de Regresión Lineal\n",
    "\n",
    "Incluímos ahora un model de Regresión Lineal para tener como baseline para la comparación con los otros modelos."
   ]
  },
  {
   "cell_type": "code",
   "execution_count": 304,
   "id": "298f5e45",
   "metadata": {},
   "outputs": [
    {
     "name": "stdout",
     "output_type": "stream",
     "text": [
      "R2 (Linear Regression): 0.4579\n",
      "RMSE: 8.1735\n"
     ]
    }
   ],
   "source": [
    "from sklearn.linear_model import LinearRegression\n",
    "from sklearn.metrics import r2_score, mean_squared_error\n",
    "\n",
    "lr = LinearRegression()\n",
    "lr.fit(X_train_scaled, y_train)\n",
    "y_pred_lr = lr.predict(X_test_scaled)\n",
    "\n",
    "r2_lr = r2_score(y_test, y_pred_lr)\n",
    "rmse_lr = np.sqrt(mean_squared_error(y_test, y_pred_lr))\n",
    "\n",
    "print(f\"R2 (Linear Regression): {r2_lr:.4f}\")\n",
    "print(f\"RMSE: {rmse_lr:.4f}\")"
   ]
  },
  {
   "cell_type": "markdown",
   "id": "29401199",
   "metadata": {},
   "source": [
    "El modelo de regresión lineal nos dió un valor de R² = 0.4275, lo que muestra  que es capaz de explicar aproximadamente el 42.75% de la variabilidad de la variable objetivo. Este valor no es muy alto, pero tampoco despreciable, sobre todo si se considera la naturaleza compleja y subjetiva del fenómeno que se está modelando. Además como ya notamos en la selección de features ninguna de las mismas mostró tener una relación linealmente influyente sobre la VO."
   ]
  },
  {
   "cell_type": "markdown",
   "id": "43b81ee0",
   "metadata": {},
   "source": [
    "### Modelo de Random Forest Regressor\n",
    "\n",
    "Elegimos también aplicar un modelo de este tipo porque es capaz de capturar relaciones no lineales complejas sin necesidad de una transformación explícita de las variables lo que nos es relevante en este caso considerando que muchas variables categóricas mostraron baja correlación lineal con la variable objetivo."
   ]
  },
  {
   "cell_type": "code",
   "execution_count": 305,
   "id": "bf1336ae",
   "metadata": {},
   "outputs": [
    {
     "name": "stdout",
     "output_type": "stream",
     "text": [
      "R2 (Random Forest): 0.4036\n",
      "RMSE: 8.5726\n"
     ]
    }
   ],
   "source": [
    "from sklearn.ensemble import RandomForestRegressor\n",
    "\n",
    "rf = RandomForestRegressor(random_state=42)\n",
    "rf.fit(X_train_scaled, y_train)\n",
    "y_pred_rf = rf.predict(X_test_scaled)\n",
    "\n",
    "r2_rf = r2_score(y_test, y_pred_rf)\n",
    "rmse_rf = np.sqrt(mean_squared_error(y_test, y_pred_rf))\n",
    "\n",
    "print(f\"R2 (Random Forest): {r2_rf:.4f}\")\n",
    "print(f\"RMSE: {rmse_rf:.4f}\")"
   ]
  },
  {
   "cell_type": "markdown",
   "id": "df87c72c",
   "metadata": {},
   "source": [
    "Este valor es inferior al obtenido con regresión lineal, lo que sugiere que no hay una ganancia significativa por capturar relaciones no lineales con las variables utilizadas en el dataset.\n",
    "\n",
    "El RMSE fue similar al del modelo lineal y sin una mejora en la precisión. Esto refuerza las observaciones realizadas en la etapa de selección de features, donde se mostró que muchas variables no tenían relación fuerte ni lineal ni no lineal con la variable objetivo."
   ]
  },
  {
   "cell_type": "markdown",
   "id": "eeb8ffbd",
   "metadata": {},
   "source": [
    "### Modelo de Soporte Vectorial (SVR) + Optuna\n",
    "\n",
    "\n"
   ]
  },
  {
   "cell_type": "code",
   "execution_count": 306,
   "id": "01349873",
   "metadata": {},
   "outputs": [
    {
     "name": "stderr",
     "output_type": "stream",
     "text": [
      "[I 2025-06-21 16:19:59,544] A new study created in memory with name: no-name-f2377abf-72c9-4d81-a166-b6ae8a789450\n",
      "[I 2025-06-21 16:19:59,880] Trial 0 finished with value: -0.008241887038863452 and parameters: {'C': 0.18705548557654947, 'epsilon': 1.855, 'gamma': 0.0004005158935745118}. Best is trial 0 with value: -0.008241887038863452.\n",
      "[I 2025-06-21 16:20:00,217] Trial 1 finished with value: 0.0072637431948318065 and parameters: {'C': 1.2134700967110474, 'epsilon': 1.75, 'gamma': 0.00011411127598665011}. Best is trial 1 with value: 0.0072637431948318065.\n",
      "[I 2025-06-21 16:20:00,555] Trial 2 finished with value: 0.14217843804634991 and parameters: {'C': 0.25436024055291656, 'epsilon': 1.55, 'gamma': 0.03117389830425406}. Best is trial 2 with value: 0.14217843804634991.\n",
      "[I 2025-06-21 16:20:00,887] Trial 3 finished with value: 0.13538798449051656 and parameters: {'C': 0.16612716211483683, 'epsilon': 1.8050000000000002, 'gamma': 0.01112878067166854}. Best is trial 2 with value: 0.14217843804634991.\n",
      "[I 2025-06-21 16:20:01,230] Trial 4 finished with value: -0.026090847767225256 and parameters: {'C': 0.6994345709690147, 'epsilon': 1.585, 'gamma': 0.413468750088627}. Best is trial 2 with value: 0.14217843804634991.\n",
      "[I 2025-06-21 16:20:01,635] Trial 5 finished with value: -0.023303631090015802 and parameters: {'C': 0.30169232544366387, 'epsilon': 1.325, 'gamma': 0.1525354259388227}. Best is trial 2 with value: 0.14217843804634991.\n",
      "[I 2025-06-21 16:20:01,988] Trial 6 finished with value: 0.46152790192601634 and parameters: {'C': 23.170774144966874, 'epsilon': 1.47, 'gamma': 0.0014029331588213962}. Best is trial 6 with value: 0.46152790192601634.\n",
      "[I 2025-06-21 16:20:02,397] Trial 7 finished with value: -0.03022423749228076 and parameters: {'C': 0.8548229694720175, 'epsilon': 1.085, 'gamma': 0.5669003166706102}. Best is trial 6 with value: 0.46152790192601634.\n",
      "[I 2025-06-21 16:20:02,733] Trial 8 finished with value: 0.3577792908099733 and parameters: {'C': 1.1389091373676392, 'epsilon': 1.13, 'gamma': 0.024744886902249158}. Best is trial 6 with value: 0.46152790192601634.\n",
      "[I 2025-06-21 16:20:03,083] Trial 9 finished with value: 0.4637473884253918 and parameters: {'C': 7.772654997582855, 'epsilon': 1.6, 'gamma': 0.011679314160128778}. Best is trial 9 with value: 0.4637473884253918.\n",
      "[I 2025-06-21 16:20:03,426] Trial 10 finished with value: 0.46211894513457613 and parameters: {'C': 13.072581209138463, 'epsilon': 1.97, 'gamma': 0.00242075585171877}. Best is trial 9 with value: 0.4637473884253918.\n",
      "[I 2025-06-21 16:20:03,780] Trial 11 finished with value: 0.4636289768985082 and parameters: {'C': 12.542962460372456, 'epsilon': 1.98, 'gamma': 0.0028748844988916405}. Best is trial 9 with value: 0.4637473884253918.\n",
      "[I 2025-06-21 16:20:04,148] Trial 12 finished with value: 0.45360394738211 and parameters: {'C': 7.162360509718283, 'epsilon': 1.98, 'gamma': 0.002926207880664067}. Best is trial 9 with value: 0.4637473884253918.\n",
      "[I 2025-06-21 16:20:04,617] Trial 13 finished with value: 0.21651651234712288 and parameters: {'C': 93.73058781680498, 'epsilon': 1.655, 'gamma': 0.08544241774156908}. Best is trial 9 with value: 0.4637473884253918.\n",
      "[I 2025-06-21 16:20:04,975] Trial 14 finished with value: 0.4480982407575082 and parameters: {'C': 3.9934107856156693, 'epsilon': 1.395, 'gamma': 0.005665292462342709}. Best is trial 9 with value: 0.4637473884253918.\n",
      "[I 2025-06-21 16:20:05,353] Trial 15 finished with value: 0.4575770193956008 and parameters: {'C': 44.80069889115023, 'epsilon': 1.29, 'gamma': 0.0006935151695876224}. Best is trial 9 with value: 0.4637473884253918.\n",
      "[I 2025-06-21 16:20:05,706] Trial 16 finished with value: 0.45204333518697276 and parameters: {'C': 3.8536681361029084, 'epsilon': 1.6800000000000002, 'gamma': 0.013081928364657342}. Best is trial 9 with value: 0.4637473884253918.\n",
      "[I 2025-06-21 16:20:06,099] Trial 17 finished with value: 0.3486609149409341 and parameters: {'C': 14.452959011642848, 'epsilon': 1.88, 'gamma': 0.0548346467085323}. Best is trial 9 with value: 0.4637473884253918.\n",
      "[I 2025-06-21 16:20:06,449] Trial 18 finished with value: 0.4187837052305225 and parameters: {'C': 2.2689549857346107, 'epsilon': 1.27, 'gamma': 0.005101674580727698}. Best is trial 9 with value: 0.4637473884253918.\n",
      "[I 2025-06-21 16:20:06,802] Trial 19 finished with value: 0.4086070569977999 and parameters: {'C': 31.32372943101173, 'epsilon': 1.7000000000000002, 'gamma': 0.0002176759995662467}. Best is trial 9 with value: 0.4637473884253918.\n",
      "[I 2025-06-21 16:20:07,170] Trial 20 finished with value: 0.4230214624535626 and parameters: {'C': 7.9430576396207595, 'epsilon': 1.46, 'gamma': 0.0011660799125017354}. Best is trial 9 with value: 0.4637473884253918.\n",
      "[I 2025-06-21 16:20:07,520] Trial 21 finished with value: 0.4617791800294169 and parameters: {'C': 12.53333116834427, 'epsilon': 2.0, 'gamma': 0.0024721015929981614}. Best is trial 9 with value: 0.4637473884253918.\n",
      "[I 2025-06-21 16:20:07,874] Trial 22 finished with value: 0.4633004979227288 and parameters: {'C': 7.019793246469101, 'epsilon': 1.895, 'gamma': 0.0057933211425792025}. Best is trial 9 with value: 0.4637473884253918.\n",
      "[I 2025-06-21 16:20:08,223] Trial 23 finished with value: 0.4627939951804936 and parameters: {'C': 6.301492279276634, 'epsilon': 1.8900000000000001, 'gamma': 0.006488119020614024}. Best is trial 9 with value: 0.4637473884253918.\n",
      "[I 2025-06-21 16:20:08,599] Trial 24 finished with value: 0.43626514610945 and parameters: {'C': 3.1067236717798075, 'epsilon': 1.7850000000000001, 'gamma': 0.019535070719821083}. Best is trial 9 with value: 0.4637473884253918.\n",
      "[I 2025-06-21 16:20:09,014] Trial 25 finished with value: 0.44655586593418795 and parameters: {'C': 51.04861200212771, 'epsilon': 1.925, 'gamma': 0.007565990084248772}. Best is trial 9 with value: 0.4637473884253918.\n",
      "[I 2025-06-21 16:20:09,380] Trial 26 finished with value: 0.4542799120146226 and parameters: {'C': 18.287733564584858, 'epsilon': 1.5899999999999999, 'gamma': 0.0011970437522115366}. Best is trial 9 with value: 0.4637473884253918.\n",
      "[I 2025-06-21 16:20:09,729] Trial 27 finished with value: 0.277464006018743 and parameters: {'C': 2.3033695799741176, 'epsilon': 1.845, 'gamma': 0.0571587061545337}. Best is trial 9 with value: 0.4637473884253918.\n",
      "[I 2025-06-21 16:20:10,086] Trial 28 finished with value: 0.4597443247521807 and parameters: {'C': 8.851212301105628, 'epsilon': 1.7349999999999999, 'gamma': 0.0031656827839464884}. Best is trial 9 with value: 0.4637473884253918.\n",
      "[I 2025-06-21 16:20:10,419] Trial 29 finished with value: 0.297028902192433 and parameters: {'C': 4.958570466035128, 'epsilon': 1.835, 'gamma': 0.00048634338873006764}. Best is trial 9 with value: 0.4637473884253918.\n",
      "[I 2025-06-21 16:20:11,100] Trial 30 finished with value: 0.3319815547607344 and parameters: {'C': 98.00201075905298, 'epsilon': 1.635, 'gamma': 0.016358746698341465}. Best is trial 9 with value: 0.4637473884253918.\n",
      "[I 2025-06-21 16:20:11,446] Trial 31 finished with value: 0.4588089004526987 and parameters: {'C': 5.921041245378975, 'epsilon': 1.915, 'gamma': 0.005075853707865233}. Best is trial 9 with value: 0.4637473884253918.\n",
      "[I 2025-06-21 16:20:11,803] Trial 32 finished with value: 0.46731076369565444 and parameters: {'C': 8.883530258455176, 'epsilon': 1.9100000000000001, 'gamma': 0.00938695232802841}. Best is trial 32 with value: 0.46731076369565444.\n",
      "[I 2025-06-21 16:20:12,173] Trial 33 finished with value: 0.40752458987789425 and parameters: {'C': 10.10198949157757, 'epsilon': 1.76, 'gamma': 0.03525470121477284}. Best is trial 32 with value: 0.46731076369565444.\n",
      "[I 2025-06-21 16:20:12,547] Trial 34 finished with value: 0.45407618597836663 and parameters: {'C': 23.5982149895169, 'epsilon': 1.94, 'gamma': 0.010858671540514965}. Best is trial 32 with value: 0.46731076369565444.\n",
      "[I 2025-06-21 16:20:12,885] Trial 35 finished with value: 0.023232188578871993 and parameters: {'C': 1.8750925993049083, 'epsilon': 1.815, 'gamma': 0.00010717727471177485}. Best is trial 32 with value: 0.46731076369565444.\n",
      "[I 2025-06-21 16:20:13,310] Trial 36 finished with value: 0.1589238522972473 and parameters: {'C': 43.79672026883873, 'epsilon': 1.8900000000000001, 'gamma': 0.1249585545288957}. Best is trial 32 with value: 0.46731076369565444.\n",
      "[I 2025-06-21 16:20:13,657] Trial 37 finished with value: -0.026145956298045725 and parameters: {'C': 0.43977608928010564, 'epsilon': 1.54, 'gamma': 0.25533818178936907}. Best is trial 32 with value: 0.46731076369565444.\n",
      "[I 2025-06-21 16:20:14,085] Trial 38 finished with value: 0.39584424556365994 and parameters: {'C': 17.974759885787588, 'epsilon': 1.005, 'gamma': 0.03222629645251532}. Best is trial 32 with value: 0.46731076369565444.\n",
      "[I 2025-06-21 16:20:14,415] Trial 39 finished with value: 0.27952793914294555 and parameters: {'C': 1.434274549680631, 'epsilon': 1.745, 'gamma': 0.001604372673120976}. Best is trial 32 with value: 0.46731076369565444.\n",
      "[I 2025-06-21 16:20:14,755] Trial 40 finished with value: 0.46569563426950467 and parameters: {'C': 10.286945919639361, 'epsilon': 2.0, 'gamma': 0.01118927560043849}. Best is trial 32 with value: 0.46731076369565444.\n",
      "[I 2025-06-21 16:20:15,099] Trial 41 finished with value: 0.4656308027116716 and parameters: {'C': 9.418042165064385, 'epsilon': 1.98, 'gamma': 0.011238196351020031}. Best is trial 32 with value: 0.46731076369565444.\n",
      "[I 2025-06-21 16:20:15,443] Trial 42 finished with value: 0.4661589286994345 and parameters: {'C': 11.224573731811159, 'epsilon': 2.0, 'gamma': 0.010710816250301174}. Best is trial 32 with value: 0.46731076369565444.\n",
      "[I 2025-06-21 16:20:15,791] Trial 43 finished with value: 0.08254389911945532 and parameters: {'C': 0.10819330114320765, 'epsilon': 2.0, 'gamma': 0.009063105252411123}. Best is trial 32 with value: 0.46731076369565444.\n",
      "[I 2025-06-21 16:20:16,220] Trial 44 finished with value: 0.4118097441459116 and parameters: {'C': 29.198959320067516, 'epsilon': 1.945, 'gamma': 0.020316288648646836}. Best is trial 32 with value: 0.46731076369565444.\n",
      "[I 2025-06-21 16:20:16,579] Trial 45 finished with value: 0.46451288776258126 and parameters: {'C': 10.160481277236412, 'epsilon': 1.9500000000000002, 'gamma': 0.011952130530379038}. Best is trial 32 with value: 0.46731076369565444.\n",
      "[I 2025-06-21 16:20:16,979] Trial 46 finished with value: 0.36822414564253014 and parameters: {'C': 10.468103530312238, 'epsilon': 1.9500000000000002, 'gamma': 0.049393340021544406}. Best is trial 32 with value: 0.46731076369565444.\n",
      "[I 2025-06-21 16:20:17,313] Trial 47 finished with value: 0.44350090665699976 and parameters: {'C': 4.176890735955632, 'epsilon': 1.845, 'gamma': 0.0039049221701070126}. Best is trial 32 with value: 0.46731076369565444.\n",
      "[I 2025-06-21 16:20:17,717] Trial 48 finished with value: 0.45203741846884116 and parameters: {'C': 19.714413383856826, 'epsilon': 1.9500000000000002, 'gamma': 0.01282286036992289}. Best is trial 32 with value: 0.46731076369565444.\n",
      "[I 2025-06-21 16:20:18,089] Trial 49 finished with value: 0.4192776367526996 and parameters: {'C': 14.909726754856806, 'epsilon': 1.8, 'gamma': 0.027356886047919977}. Best is trial 32 with value: 0.46731076369565444.\n",
      "[I 2025-06-21 16:20:18,411] Trial 50 finished with value: 0.4458523031780768 and parameters: {'C': 2.9064931596695027, 'epsilon': 2.0, 'gamma': 0.009578912557849845}. Best is trial 32 with value: 0.46731076369565444.\n",
      "[I 2025-06-21 16:20:18,751] Trial 51 finished with value: 0.45602882390336275 and parameters: {'C': 5.007033183174477, 'epsilon': 1.88, 'gamma': 0.014798064823366276}. Best is trial 32 with value: 0.46731076369565444.\n",
      "[I 2025-06-21 16:20:19,125] Trial 52 finished with value: 0.4647264929654222 and parameters: {'C': 10.23360330294548, 'epsilon': 1.205, 'gamma': 0.008432693677086397}. Best is trial 32 with value: 0.46731076369565444.\n",
      "[I 2025-06-21 16:20:19,503] Trial 53 finished with value: 0.46371231207874364 and parameters: {'C': 10.185046772850157, 'epsilon': 1.1, 'gamma': 0.007478826793995997}. Best is trial 32 with value: 0.46731076369565444.\n",
      "[I 2025-06-21 16:20:19,883] Trial 54 finished with value: 0.4670408134213557 and parameters: {'C': 29.49269368729948, 'epsilon': 1.19, 'gamma': 0.004114664050108233}. Best is trial 32 with value: 0.46731076369565444.\n",
      "[I 2025-06-21 16:20:20,262] Trial 55 finished with value: 0.46618901402961016 and parameters: {'C': 60.901627583206974, 'epsilon': 1.18, 'gamma': 0.0018729408964632617}. Best is trial 32 with value: 0.46731076369565444.\n",
      "[I 2025-06-21 16:20:20,648] Trial 56 finished with value: 0.4661912139005134 and parameters: {'C': 58.547702649217634, 'epsilon': 1.15, 'gamma': 0.0019119941375019952}. Best is trial 32 with value: 0.46731076369565444.\n",
      "[I 2025-06-21 16:20:21,065] Trial 57 finished with value: 0.4661806890258093 and parameters: {'C': 68.1856083306909, 'epsilon': 1.15, 'gamma': 0.0018016642876514867}. Best is trial 32 with value: 0.46731076369565444.\n",
      "[I 2025-06-21 16:20:21,443] Trial 58 finished with value: 0.46640417573968107 and parameters: {'C': 70.6905770993779, 'epsilon': 1.18, 'gamma': 0.0018450168698858002}. Best is trial 32 with value: 0.46731076369565444.\n",
      "[I 2025-06-21 16:20:21,843] Trial 59 finished with value: 0.46589685577435525 and parameters: {'C': 66.41144725507377, 'epsilon': 1.185, 'gamma': 0.0016632143186983757}. Best is trial 32 with value: 0.46731076369565444.\n",
      "[I 2025-06-21 16:20:22,228] Trial 60 finished with value: 0.46270284798138955 and parameters: {'C': 66.98466149838356, 'epsilon': 1.195, 'gamma': 0.000806975339347725}. Best is trial 32 with value: 0.46731076369565444.\n",
      "[I 2025-06-21 16:20:22,621] Trial 61 finished with value: 0.4666065502612284 and parameters: {'C': 70.12776069597939, 'epsilon': 1.15, 'gamma': 0.002028103114103512}. Best is trial 32 with value: 0.46731076369565444.\n",
      "[I 2025-06-21 16:20:23,007] Trial 62 finished with value: 0.46635442654408976 and parameters: {'C': 73.86976232167693, 'epsilon': 1.04, 'gamma': 0.0020413238435225763}. Best is trial 32 with value: 0.46731076369565444.\n",
      "[I 2025-06-21 16:20:23,386] Trial 63 finished with value: 0.45648279686278687 and parameters: {'C': 35.865841494568016, 'epsilon': 1.03, 'gamma': 0.0008039046479524454}. Best is trial 32 with value: 0.46731076369565444.\n",
      "[I 2025-06-21 16:20:23,815] Trial 64 finished with value: 0.4587661194420516 and parameters: {'C': 85.65240780254048, 'epsilon': 1.07, 'gamma': 0.0038345681380402463}. Best is trial 32 with value: 0.46731076369565444.\n",
      "[I 2025-06-21 16:20:24,182] Trial 65 finished with value: 0.4675545381055138 and parameters: {'C': 53.80287702815003, 'epsilon': 1.345, 'gamma': 0.0021951524955471195}. Best is trial 65 with value: 0.4675545381055138.\n",
      "[I 2025-06-21 16:20:24,521] Trial 66 finished with value: 0.4235646359900207 and parameters: {'C': 39.10177837781162, 'epsilon': 1.325, 'gamma': 0.0002305304064538404}. Best is trial 65 with value: 0.4675545381055138.\n",
      "[I 2025-06-21 16:20:24,893] Trial 67 finished with value: 0.46734758279138205 and parameters: {'C': 49.20130676411775, 'epsilon': 1.2650000000000001, 'gamma': 0.002416639720820559}. Best is trial 65 with value: 0.4675545381055138.\n",
      "[I 2025-06-21 16:20:25,264] Trial 68 finished with value: 0.46647563457395275 and parameters: {'C': 30.491986572790594, 'epsilon': 1.225, 'gamma': 0.002438722141872335}. Best is trial 65 with value: 0.4675545381055138.\n",
      "[I 2025-06-21 16:20:25,629] Trial 69 finished with value: 0.4583593134837634 and parameters: {'C': 27.460774909735974, 'epsilon': 1.26, 'gamma': 0.0011305307319562873}. Best is trial 65 with value: 0.4675545381055138.\n",
      "[I 2025-06-21 16:20:26,008] Trial 70 finished with value: 0.4666865111242475 and parameters: {'C': 46.883773135104846, 'epsilon': 1.365, 'gamma': 0.0038185907427215437}. Best is trial 65 with value: 0.4675545381055138.\n",
      "[I 2025-06-21 16:20:26,379] Trial 71 finished with value: 0.46793251733475766 and parameters: {'C': 34.83333630973404, 'epsilon': 1.42, 'gamma': 0.004195331177028881}. Best is trial 71 with value: 0.46793251733475766.\n",
      "[I 2025-06-21 16:20:26,767] Trial 72 finished with value: 0.46551374337516616 and parameters: {'C': 50.114202330288514, 'epsilon': 1.4, 'gamma': 0.004094996443664748}. Best is trial 71 with value: 0.46793251733475766.\n",
      "[I 2025-06-21 16:20:27,151] Trial 73 finished with value: 0.4682059498066167 and parameters: {'C': 35.47702077466737, 'epsilon': 1.365, 'gamma': 0.0028895630163738905}. Best is trial 73 with value: 0.4682059498066167.\n",
      "[I 2025-06-21 16:20:27,527] Trial 74 finished with value: 0.4683267426291076 and parameters: {'C': 39.76261083864595, 'epsilon': 1.4100000000000001, 'gamma': 0.0030554736272061303}. Best is trial 74 with value: 0.4683267426291076.\n",
      "[I 2025-06-21 16:20:27,916] Trial 75 finished with value: 0.4680749686268592 and parameters: {'C': 35.81930563003188, 'epsilon': 1.365, 'gamma': 0.003093892004368017}. Best is trial 74 with value: 0.4683267426291076.\n",
      "[I 2025-06-21 16:20:28,310] Trial 76 finished with value: 0.46704913489449806 and parameters: {'C': 24.339104769435377, 'epsilon': 1.475, 'gamma': 0.002975188642607918}. Best is trial 74 with value: 0.4683267426291076.\n",
      "[I 2025-06-21 16:20:28,694] Trial 77 finished with value: 0.46725050145924724 and parameters: {'C': 24.287326822447394, 'epsilon': 1.47, 'gamma': 0.0030319947850154802}. Best is trial 74 with value: 0.4683267426291076.\n",
      "[I 2025-06-21 16:20:29,098] Trial 78 finished with value: 0.46355347573829425 and parameters: {'C': 37.54028185597042, 'epsilon': 1.425, 'gamma': 0.005657572655823885}. Best is trial 74 with value: 0.4683267426291076.\n",
      "[I 2025-06-21 16:20:29,477] Trial 79 finished with value: 0.4573609827429448 and parameters: {'C': 20.729751777522683, 'epsilon': 1.33, 'gamma': 0.001288037351958197}. Best is trial 74 with value: 0.4683267426291076.\n",
      "[I 2025-06-21 16:20:29,837] Trial 80 finished with value: 0.46542731765821577 and parameters: {'C': 16.812426442851436, 'epsilon': 1.505, 'gamma': 0.0029192036651741905}. Best is trial 74 with value: 0.4683267426291076.\n",
      "[I 2025-06-21 16:20:30,214] Trial 81 finished with value: 0.46645220879729504 and parameters: {'C': 23.63180425447441, 'epsilon': 1.455, 'gamma': 0.002817873780579099}. Best is trial 74 with value: 0.4683267426291076.\n",
      "[I 2025-06-21 16:20:30,603] Trial 82 finished with value: 0.46822654553452187 and parameters: {'C': 24.73510126041683, 'epsilon': 1.3599999999999999, 'gamma': 0.004668433702896435}. Best is trial 74 with value: 0.4683267426291076.\n",
      "[I 2025-06-21 16:20:31,013] Trial 83 finished with value: 0.46210528594240624 and parameters: {'C': 34.38193740642037, 'epsilon': 1.365, 'gamma': 0.0061966966783108075}. Best is trial 74 with value: 0.4683267426291076.\n",
      "[I 2025-06-21 16:20:31,415] Trial 84 finished with value: 0.46568040334464067 and parameters: {'C': 41.22052346205196, 'epsilon': 1.355, 'gamma': 0.004488529163910255}. Best is trial 74 with value: 0.4683267426291076.\n",
      "[I 2025-06-21 16:20:31,878] Trial 85 finished with value: 0.44350840554551496 and parameters: {'C': 57.1976763519132, 'epsilon': 1.3, 'gamma': 0.00696728357759708}. Best is trial 74 with value: 0.4683267426291076.\n",
      "[I 2025-06-21 16:20:32,275] Trial 86 finished with value: 0.46812118862046753 and parameters: {'C': 49.41698881140844, 'epsilon': 1.42, 'gamma': 0.003309308939179127}. Best is trial 74 with value: 0.4683267426291076.\n",
      "[I 2025-06-21 16:20:32,655] Trial 87 finished with value: 0.4655212560524519 and parameters: {'C': 86.73794493089413, 'epsilon': 1.42, 'gamma': 0.0010070503289664543}. Best is trial 74 with value: 0.4683267426291076.\n",
      "[I 2025-06-21 16:20:33,022] Trial 88 finished with value: 0.45784953379043913 and parameters: {'C': 52.971556995385235, 'epsilon': 1.395, 'gamma': 0.0005763170221400663}. Best is trial 74 with value: 0.4683267426291076.\n",
      "[I 2025-06-21 16:20:33,420] Trial 89 finished with value: 0.4633554041147511 and parameters: {'C': 42.9856584343003, 'epsilon': 1.255, 'gamma': 0.004969830087454347}. Best is trial 74 with value: 0.4683267426291076.\n",
      "[I 2025-06-21 16:20:33,812] Trial 90 finished with value: 0.4665039619243057 and parameters: {'C': 35.0853166138507, 'epsilon': 1.295, 'gamma': 0.0022452213615797903}. Best is trial 74 with value: 0.4683267426291076.\n",
      "[I 2025-06-21 16:20:34,217] Trial 91 finished with value: 0.46830643320473114 and parameters: {'C': 27.731937745192063, 'epsilon': 1.52, 'gamma': 0.0031205471534876423}. Best is trial 74 with value: 0.4683267426291076.\n",
      "[I 2025-06-21 16:20:34,617] Trial 92 finished with value: 0.4688457020587391 and parameters: {'C': 26.799031034824594, 'epsilon': 1.54, 'gamma': 0.003386795497077263}. Best is trial 92 with value: 0.4688457020587391.\n",
      "[I 2025-06-21 16:20:34,993] Trial 93 finished with value: 0.4688944289517513 and parameters: {'C': 27.748522085439987, 'epsilon': 1.56, 'gamma': 0.0033095416722772157}. Best is trial 93 with value: 0.4688944289517513.\n",
      "[I 2025-06-21 16:20:35,388] Trial 94 finished with value: 0.45997497629081135 and parameters: {'C': 21.024577064150627, 'epsilon': 1.55, 'gamma': 0.0014111423112936302}. Best is trial 93 with value: 0.4688944289517513.\n",
      "[I 2025-06-21 16:20:35,761] Trial 95 finished with value: 0.46923005044672195 and parameters: {'C': 27.75724772547321, 'epsilon': 1.5150000000000001, 'gamma': 0.003601436252341213}. Best is trial 95 with value: 0.46923005044672195.\n",
      "[I 2025-06-21 16:20:36,138] Trial 96 finished with value: 0.46525842279379487 and parameters: {'C': 15.273743482528502, 'epsilon': 1.615, 'gamma': 0.003203640957879217}. Best is trial 95 with value: 0.46923005044672195.\n",
      "[I 2025-06-21 16:20:36,529] Trial 97 finished with value: 0.46752836436933354 and parameters: {'C': 27.32054531527048, 'epsilon': 1.56, 'gamma': 0.005552176450233347}. Best is trial 95 with value: 0.46923005044672195.\n",
      "[I 2025-06-21 16:20:36,932] Trial 98 finished with value: 0.4690740452608087 and parameters: {'C': 31.734459355770856, 'epsilon': 1.51, 'gamma': 0.003401371086632381}. Best is trial 95 with value: 0.46923005044672195.\n",
      "[I 2025-06-21 16:20:37,483] Trial 99 finished with value: 0.019734148476895585 and parameters: {'C': 12.512187017973458, 'epsilon': 1.495, 'gamma': 0.8119000903617983}. Best is trial 95 with value: 0.46923005044672195.\n",
      "[I 2025-06-21 16:20:37,851] Trial 100 finished with value: 0.4577772008527658 and parameters: {'C': 17.939388557971974, 'epsilon': 1.5150000000000001, 'gamma': 0.0014702741394386246}. Best is trial 95 with value: 0.46923005044672195.\n",
      "[I 2025-06-21 16:20:38,242] Trial 101 finished with value: 0.4687102610919194 and parameters: {'C': 32.07311441844266, 'epsilon': 1.435, 'gamma': 0.003531128046638586}. Best is trial 95 with value: 0.46923005044672195.\n",
      "[I 2025-06-21 16:20:38,612] Trial 102 finished with value: 0.4693459500286417 and parameters: {'C': 32.61170741922148, 'epsilon': 1.57, 'gamma': 0.0034816679333345554}. Best is trial 102 with value: 0.4693459500286417.\n",
      "[I 2025-06-21 16:20:38,992] Trial 103 finished with value: 0.4689417041671775 and parameters: {'C': 25.305335337373783, 'epsilon': 1.52, 'gamma': 0.0035942675453228975}. Best is trial 102 with value: 0.4693459500286417.\n",
      "[I 2025-06-21 16:20:39,387] Trial 104 finished with value: 0.4628645743102693 and parameters: {'C': 26.751954793246018, 'epsilon': 1.53, 'gamma': 0.007213532402114769}. Best is trial 102 with value: 0.4693459500286417.\n",
      "[I 2025-06-21 16:20:39,757] Trial 105 finished with value: 0.4693616651467269 and parameters: {'C': 21.35350495097619, 'epsilon': 1.5750000000000002, 'gamma': 0.004834220298059675}. Best is trial 105 with value: 0.4693616651467269.\n",
      "[I 2025-06-21 16:20:40,125] Trial 106 finished with value: 0.4694788809939145 and parameters: {'C': 20.0199075932489, 'epsilon': 1.585, 'gamma': 0.004945292484046212}. Best is trial 106 with value: 0.4694788809939145.\n",
      "[I 2025-06-21 16:20:40,482] Trial 107 finished with value: 0.4692568075905035 and parameters: {'C': 19.681714466720297, 'epsilon': 1.5750000000000002, 'gamma': 0.005316667687291607}. Best is trial 106 with value: 0.4694788809939145.\n",
      "[I 2025-06-21 16:20:40,850] Trial 108 finished with value: 0.4690654525189945 and parameters: {'C': 16.59085526563013, 'epsilon': 1.58, 'gamma': 0.006201836471492765}. Best is trial 106 with value: 0.4694788809939145.\n",
      "[I 2025-06-21 16:20:41,209] Trial 109 finished with value: 0.4688655296162736 and parameters: {'C': 15.940495828821366, 'epsilon': 1.58, 'gamma': 0.006666761643297724}. Best is trial 106 with value: 0.4694788809939145.\n",
      "[I 2025-06-21 16:20:41,569] Trial 110 finished with value: 0.46798655965026525 and parameters: {'C': 14.391661640757155, 'epsilon': 1.655, 'gamma': 0.00794448301273914}. Best is trial 106 with value: 0.4694788809939145.\n",
      "[I 2025-06-21 16:20:41,936] Trial 111 finished with value: 0.46827546261230935 and parameters: {'C': 20.56219109298497, 'epsilon': 1.57, 'gamma': 0.006256830929860757}. Best is trial 106 with value: 0.4694788809939145.\n",
      "[I 2025-06-21 16:20:42,305] Trial 112 finished with value: 0.4694900046305743 and parameters: {'C': 16.78252657228966, 'epsilon': 1.605, 'gamma': 0.0049845494031539005}. Best is trial 112 with value: 0.4694900046305743.\n",
      "[I 2025-06-21 16:20:42,679] Trial 113 finished with value: 0.4695369487940823 and parameters: {'C': 16.551540672992747, 'epsilon': 1.625, 'gamma': 0.005409280652018723}. Best is trial 113 with value: 0.4695369487940823.\n",
      "[I 2025-06-21 16:20:43,065] Trial 114 finished with value: 0.4694072280149666 and parameters: {'C': 16.2984597756292, 'epsilon': 1.595, 'gamma': 0.005058755333221706}. Best is trial 113 with value: 0.4695369487940823.\n",
      "[I 2025-06-21 16:20:43,462] Trial 115 finished with value: 0.4677687968342957 and parameters: {'C': 12.79431354438707, 'epsilon': 1.605, 'gamma': 0.0050974358950925825}. Best is trial 113 with value: 0.4695369487940823.\n",
      "[I 2025-06-21 16:20:43,861] Trial 116 finished with value: 0.4628131372818314 and parameters: {'C': 19.088270830115814, 'epsilon': 1.63, 'gamma': 0.008951927342757281}. Best is trial 113 with value: 0.4695369487940823.\n",
      "[I 2025-06-21 16:20:44,243] Trial 117 finished with value: 0.45294877721385624 and parameters: {'C': 13.710566639771303, 'epsilon': 1.685, 'gamma': 0.015349119939345656}. Best is trial 113 with value: 0.4695369487940823.\n",
      "[I 2025-06-21 16:20:44,623] Trial 118 finished with value: 0.46179062641566615 and parameters: {'C': 7.825437322632983, 'epsilon': 1.5899999999999999, 'gamma': 0.004853965052459993}. Best is trial 113 with value: 0.4695369487940823.\n",
      "[I 2025-06-21 16:20:45,003] Trial 119 finished with value: 0.46935576469639423 and parameters: {'C': 21.49298985310269, 'epsilon': 1.655, 'gamma': 0.005660241535068102}. Best is trial 113 with value: 0.4695369487940823.\n",
      "[I 2025-06-21 16:20:45,373] Trial 120 finished with value: 0.466068173509834 and parameters: {'C': 11.534082275059443, 'epsilon': 1.635, 'gamma': 0.009904083979077102}. Best is trial 113 with value: 0.4695369487940823.\n",
      "[I 2025-06-21 16:20:45,755] Trial 121 finished with value: 0.46998387102541833 and parameters: {'C': 22.05955801307838, 'epsilon': 1.675, 'gamma': 0.004315587514347553}. Best is trial 121 with value: 0.46998387102541833.\n",
      "[I 2025-06-21 16:20:46,139] Trial 122 finished with value: 0.46998262102861843 and parameters: {'C': 20.86265395302264, 'epsilon': 1.705, 'gamma': 0.005345948449485766}. Best is trial 121 with value: 0.46998387102541833.\n",
      "[I 2025-06-21 16:20:46,521] Trial 123 finished with value: 0.4699434694358115 and parameters: {'C': 17.575075571745845, 'epsilon': 1.7149999999999999, 'gamma': 0.005672361698140332}. Best is trial 121 with value: 0.46998387102541833.\n",
      "[I 2025-06-21 16:20:46,901] Trial 124 finished with value: 0.4699402689426336 and parameters: {'C': 22.0876179982015, 'epsilon': 1.71, 'gamma': 0.0053008600552442425}. Best is trial 121 with value: 0.46998387102541833.\n",
      "[I 2025-06-21 16:20:47,275] Trial 125 finished with value: 0.47017894026764645 and parameters: {'C': 21.773930354277894, 'epsilon': 1.7349999999999999, 'gamma': 0.004411617957406795}. Best is trial 125 with value: 0.47017894026764645.\n",
      "[I 2025-06-21 16:20:47,663] Trial 126 finished with value: 0.46443100094688844 and parameters: {'C': 21.25035985327327, 'epsilon': 1.72, 'gamma': 0.008040305731690553}. Best is trial 125 with value: 0.47017894026764645.\n",
      "[I 2025-06-21 16:20:48,064] Trial 127 finished with value: 0.46988033162941134 and parameters: {'C': 18.32692995070952, 'epsilon': 1.705, 'gamma': 0.004494714960043142}. Best is trial 125 with value: 0.47017894026764645.\n",
      "[I 2025-06-21 16:20:48,418] Trial 128 finished with value: 0.4699190903081813 and parameters: {'C': 18.37535785636422, 'epsilon': 1.7650000000000001, 'gamma': 0.004197564120830458}. Best is trial 125 with value: 0.47017894026764645.\n",
      "[I 2025-06-21 16:20:48,769] Trial 129 finished with value: 0.47005698580672955 and parameters: {'C': 17.372022438169886, 'epsilon': 1.7650000000000001, 'gamma': 0.004484118422796137}. Best is trial 125 with value: 0.47017894026764645.\n",
      "[I 2025-06-21 16:20:49,119] Trial 130 finished with value: 0.4698422451409619 and parameters: {'C': 17.1785174231325, 'epsilon': 1.755, 'gamma': 0.004402560812085711}. Best is trial 125 with value: 0.47017894026764645.\n",
      "[I 2025-06-21 16:20:49,471] Trial 131 finished with value: 0.46970722454818176 and parameters: {'C': 16.023496563611435, 'epsilon': 1.78, 'gamma': 0.004472735497423061}. Best is trial 125 with value: 0.47017894026764645.\n",
      "[I 2025-06-21 16:20:49,824] Trial 132 finished with value: 0.4697232979601715 and parameters: {'C': 17.587246108410135, 'epsilon': 1.78, 'gamma': 0.004186545491060179}. Best is trial 125 with value: 0.47017894026764645.\n",
      "[I 2025-06-21 16:20:50,180] Trial 133 finished with value: 0.4700220278729999 and parameters: {'C': 18.06631445947968, 'epsilon': 1.7650000000000001, 'gamma': 0.004315888907562388}. Best is trial 125 with value: 0.47017894026764645.\n",
      "[I 2025-06-21 16:20:50,530] Trial 134 finished with value: 0.46744469051743626 and parameters: {'C': 14.244037976115555, 'epsilon': 1.77, 'gamma': 0.004177681142042906}. Best is trial 125 with value: 0.47017894026764645.\n",
      "[I 2025-06-21 16:20:50,889] Trial 135 finished with value: 0.4678815733929236 and parameters: {'C': 18.42934924524856, 'epsilon': 1.72, 'gamma': 0.007327739896090614}. Best is trial 125 with value: 0.47017894026764645.\n",
      "[I 2025-06-21 16:20:51,239] Trial 136 finished with value: 0.46936299462563386 and parameters: {'C': 13.006456139146964, 'epsilon': 1.79, 'gamma': 0.006423063802524169}. Best is trial 125 with value: 0.47017894026764645.\n",
      "[I 2025-06-21 16:20:51,608] Trial 137 finished with value: 0.4642947376928756 and parameters: {'C': 16.420122381589994, 'epsilon': 1.82, 'gamma': 0.0024052656972544913}. Best is trial 125 with value: 0.47017894026764645.\n",
      "[I 2025-06-21 16:20:51,959] Trial 138 finished with value: 0.46573200743671644 and parameters: {'C': 11.864536085844497, 'epsilon': 1.75, 'gamma': 0.004297880626028739}. Best is trial 125 with value: 0.47017894026764645.\n",
      "[I 2025-06-21 16:20:52,337] Trial 139 finished with value: 0.46405581325518286 and parameters: {'C': 17.453857596230403, 'epsilon': 1.695, 'gamma': 0.009057429903657578}. Best is trial 125 with value: 0.47017894026764645.\n",
      "[I 2025-06-21 16:20:52,699] Trial 140 finished with value: 0.4633501819176322 and parameters: {'C': 14.005983841087975, 'epsilon': 1.77, 'gamma': 0.002614792538323303}. Best is trial 125 with value: 0.47017894026764645.\n",
      "[I 2025-06-21 16:20:53,057] Trial 141 finished with value: 0.4620131160363689 and parameters: {'C': 8.733728217436095, 'epsilon': 1.725, 'gamma': 0.004035223438168084}. Best is trial 125 with value: 0.47017894026764645.\n",
      "[I 2025-06-21 16:20:53,423] Trial 142 finished with value: 0.4700719917733975 and parameters: {'C': 17.96609333080209, 'epsilon': 1.74, 'gamma': 0.004573485329402184}. Best is trial 125 with value: 0.47017894026764645.\n",
      "[I 2025-06-21 16:20:53,791] Trial 143 finished with value: 0.46856369742717857 and parameters: {'C': 22.960639604126275, 'epsilon': 1.67, 'gamma': 0.005930865883702699}. Best is trial 125 with value: 0.47017894026764645.\n",
      "[I 2025-06-21 16:20:54,142] Trial 144 finished with value: 0.46846274056719217 and parameters: {'C': 15.057365558425893, 'epsilon': 1.705, 'gamma': 0.004507523790764147}. Best is trial 125 with value: 0.47017894026764645.\n",
      "[I 2025-06-21 16:20:54,503] Trial 145 finished with value: 0.46790454627329264 and parameters: {'C': 18.125265389781234, 'epsilon': 1.74, 'gamma': 0.0074365336019136}. Best is trial 125 with value: 0.47017894026764645.\n",
      "[I 2025-06-21 16:20:54,921] Trial 146 finished with value: 0.4615678995877454 and parameters: {'C': 11.318850733998742, 'epsilon': 1.775, 'gamma': 0.012709310600128308}. Best is trial 125 with value: 0.47017894026764645.\n",
      "[I 2025-06-21 16:20:55,279] Trial 147 finished with value: 0.4707080680769001 and parameters: {'C': 23.588450275756852, 'epsilon': 1.82, 'gamma': 0.004175481229478298}. Best is trial 147 with value: 0.4707080680769001.\n",
      "[I 2025-06-21 16:20:55,623] Trial 148 finished with value: 0.2215613121693593 and parameters: {'C': 0.6721933336499223, 'epsilon': 1.865, 'gamma': 0.002514537299882212}. Best is trial 147 with value: 0.4707080680769001.\n",
      "[I 2025-06-21 16:20:55,979] Trial 149 finished with value: 0.47071247855806364 and parameters: {'C': 24.45444620127657, 'epsilon': 1.815, 'gamma': 0.00434945998942771}. Best is trial 149 with value: 0.47071247855806364.\n"
     ]
    },
    {
     "name": "stdout",
     "output_type": "stream",
     "text": [
      "R2 (SVR Optuna): 0.4623\n",
      "RMSE: 8.1398\n"
     ]
    }
   ],
   "source": [
    "import optuna\n",
    "from sklearn.svm import SVR\n",
    "from sklearn.model_selection import cross_val_score\n",
    "\n",
    "def objective(trial):\n",
    "    C = trial.suggest_float(\"C\", 0.1, 100.0, log=True)\n",
    "    epsilon = trial.suggest_float(\"epsilon\", 1, 2, step=0.005)\n",
    "    #gamma = trial.suggest_categorical(\"gamma\", [\"scale\", \"auto\"])\n",
    "    gamma = trial.suggest_float(\"gamma\", 1e-4, 1.0, log=True)\n",
    "\n",
    "\n",
    "    svr = SVR(C=C, epsilon=epsilon, gamma=gamma)\n",
    "    scores = cross_val_score(svr, X_train_scaled, y_train, cv=3, scoring=\"r2\")\n",
    "    return scores.mean()\n",
    "\n",
    "study = optuna.create_study(direction=\"maximize\")\n",
    "study.optimize(objective, n_trials=150)\n",
    "\n",
    "# Entrenar el mejor modelo\n",
    "best_params = study.best_params\n",
    "svr_best = SVR(**best_params)\n",
    "svr_best.fit(X_train_scaled, y_train)\n",
    "y_pred_svr = svr_best.predict(X_test_scaled)\n",
    "\n",
    "r2_svr = r2_score(y_test, y_pred_svr)\n",
    "rmse_svr = np.sqrt(mean_squared_error(y_test, y_pred_svr))\n",
    "\n",
    "print(f\"R2 (SVR Optuna): {r2_svr:.4f}\")\n",
    "print(f\"RMSE: {rmse_svr:.4f}\")"
   ]
  },
  {
   "cell_type": "markdown",
   "id": "22d41e1f",
   "metadata": {},
   "source": [
    "Attempt 1\n",
    "\n",
    "\n",
    "[I 2025-06-21 13:29:23,066] Trial 91 finished with value: 0.4200254494695806 and parameters: {'C': 49.03457043967521, 'epsilon': 1.29, 'gamma': 0.0033503402059963648}. Best is trial 91 with value: 0.4200254494695806.\n",
    "\n",
    "\n",
    "[I 2025-06-21 13:29:36,939] Trial 113 finished with value: 0.42004159621264964 and parameters: {'C': 74.25831342414793, 'epsilon': 1.2000000000000002, 'gamma': 0.0026756602046047228}. Best is trial 113 with value: 0.42004159621264964.\n",
    "\n",
    "[I 2025-06-21 13:28:52,856] Trial 42 finished with value: 0.41993382597462725 and parameters: {'C': 59.67700768715875, 'epsilon': 1.1800000000000002, 'gamma': 0.002945603068319705}. Best is trial 42 with value: 0.41993382597462725.\n",
    "\n"
   ]
  },
  {
   "cell_type": "markdown",
   "id": "f4e2f223",
   "metadata": {},
   "source": [
    "Attempt 2\n",
    "\n",
    "[I 2025-06-21 13:34:41,755] Trial 100 finished with value: 0.4202453011273071 and parameters: {'C': 67.85386235221125, 'epsilon': 1.455, 'gamma': 0.0027840830830634816}. Best is trial 100 with value: 0.4202453011273071.\n",
    "\n",
    "\n",
    "[I 2025-06-21 13:34:39,369] Trial 96 finished with value: 0.419946839475607 and parameters: {'C': 69.5428242175481, 'epsilon': 1.6400000000000001, 'gamma': 0.002878823967615369}. Best is trial 96 with value: 0.419946839475607.\n",
    "\n",
    "[I 2025-06-21 13:34:24,316] Trial 70 finished with value: 0.4198526846619442 and parameters: {'C': 71.04223953957174, 'epsilon': 1.6600000000000001, 'gamma': 0.0027665275612635304}. Best is trial 70 with value: 0.4198526846619442.\n"
   ]
  }
 ],
 "metadata": {
  "kernelspec": {
   "display_name": "ia_env",
   "language": "python",
   "name": "python3"
  },
  "language_info": {
   "codemirror_mode": {
    "name": "ipython",
    "version": 3
   },
   "file_extension": ".py",
   "mimetype": "text/x-python",
   "name": "python",
   "nbconvert_exporter": "python",
   "pygments_lexer": "ipython3",
   "version": "3.10.16"
  }
 },
 "nbformat": 4,
 "nbformat_minor": 5
}
