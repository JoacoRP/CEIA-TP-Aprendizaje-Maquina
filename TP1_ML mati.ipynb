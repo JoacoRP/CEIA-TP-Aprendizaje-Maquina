{
 "cells": [
  {
   "cell_type": "markdown",
   "id": "9b13ccfd",
   "metadata": {},
   "source": [
    "**Universidad de Buenos Aires**\n",
    " \\\n",
    "**Laboratorio de Sistemas Embebidos**\n",
    " \\\n",
    "**Especialización en Inteligencia Artificial**\n",
    " \\\n",
    "**Aprendizaje Automático**\n",
    "\\\n",
    "\\\n",
    "Integrantes:\n",
    " \\\n",
    "<b>Martín, Matías</b>\n",
    " \\\n",
    "<b>Rodríguez, Joaquín</b>\n",
    " \\\n",
    "<b>Querales, Gabriel</b>\n",
    "\\\n",
    "\\\n",
    "Dataset:\n",
    "<b>Ventas de videojuegos en Steam</b>"
   ]
  },
  {
   "cell_type": "markdown",
   "id": "08c671d1",
   "metadata": {},
   "source": [
    "## Imports"
   ]
  },
  {
   "cell_type": "code",
   "execution_count": 16,
   "id": "c51b12e8",
   "metadata": {},
   "outputs": [],
   "source": [
    "import pandas as pd\n",
    "import numpy as np\n",
    "import matplotlib.pyplot as plt\n",
    "import seaborn as sns\n",
    "import requests\n",
    "from bs4 import BeautifulSoup\n",
    "#from sqlalchemy import create_engine, MetaData, text\n",
    "import json\n",
    "from io import StringIO"
   ]
  },
  {
   "cell_type": "markdown",
   "id": "4bbcbb1e",
   "metadata": {},
   "source": [
    "---\n",
    "\n",
    "## Carga de los dataset"
   ]
  },
  {
   "cell_type": "markdown",
   "id": "af9aa335",
   "metadata": {},
   "source": [
    "Carga del dataset desde un archivo .csv que obtuvimos del sitio de Kaggle"
   ]
  },
  {
   "cell_type": "code",
   "execution_count": 17,
   "id": "bf309507",
   "metadata": {},
   "outputs": [
    {
     "data": {
      "application/vnd.microsoft.datawrangler.viewer.v0+json": {
       "columns": [
        {
         "name": "game_name",
         "rawType": "object",
         "type": "string"
        },
        {
         "name": "reviews_like_rate",
         "rawType": "int64",
         "type": "integer"
        },
        {
         "name": "all_reviews_number",
         "rawType": "int64",
         "type": "integer"
        },
        {
         "name": "release_date",
         "rawType": "object",
         "type": "string"
        },
        {
         "name": "developer",
         "rawType": "object",
         "type": "string"
        },
        {
         "name": "user_defined_tags",
         "rawType": "object",
         "type": "string"
        },
        {
         "name": "supported_os",
         "rawType": "object",
         "type": "string"
        },
        {
         "name": "supported_languages",
         "rawType": "object",
         "type": "string"
        },
        {
         "name": "price",
         "rawType": "float64",
         "type": "float"
        },
        {
         "name": "other_features",
         "rawType": "object",
         "type": "string"
        },
        {
         "name": "age_restriction",
         "rawType": "int64",
         "type": "integer"
        },
        {
         "name": "rating",
         "rawType": "float64",
         "type": "float"
        },
        {
         "name": "difficulty",
         "rawType": "int64",
         "type": "integer"
        },
        {
         "name": "length",
         "rawType": "int64",
         "type": "integer"
        },
        {
         "name": "estimated_downloads",
         "rawType": "int64",
         "type": "integer"
        }
       ],
       "ref": "04f1dba9-8890-4f6d-90f9-4e37f975126c",
       "rows": [
        [
         "Counter-Strike 2",
         "86",
         "8803754",
         "21 Aug, 2012",
         "Valve",
         "FPS, Action, Tactical",
         "win, linux",
         "English, Czech, Danish, Dutch, Finnish, French, German, Hungarian, Italian, Japanese, Korean, Norwegian, Polish, Portuguese - Portugal, Portuguese - Brazil, Romanian, Russian, Simplified Chinese, Spanish - Spain, Swedish, Thai, Traditional Chinese, Turkish, Bulgarian, Ukrainian, Greek, Spanish - Latin America, Vietnamese, Indonesian",
         "0.0",
         "Cross-Platform Multiplayer, Steam Trading Cards, Steam Workshop, In-App Purchases, Stats, Remote Play on Phone, Remote Play on Tablet, Remote Play on TV, Steam Timeline",
         "17",
         "3.2",
         "4",
         "80",
         "306170000"
        ],
        [
         "PUBG: BATTLEGROUNDS",
         "59",
         "2554482",
         "21 Dec, 2017",
         "PUBG Corporation",
         "Survival, Shooter, Action, Tactical",
         "win",
         "English, Korean, Simplified Chinese, French, German, Spanish - Spain, Arabic, Japanese, Polish, Portuguese - Portugal, Russian, Turkish, Thai, Italian, Portuguese - Brazil, Traditional Chinese, Ukrainian",
         "0.0",
         "Online PvP, Stats, Remote Play on Phone, Remote Play on Tablet",
         "13",
         "3.1",
         "4",
         "73",
         "162350000"
        ],
        [
         "ELDEN RING NIGHTREIGN",
         "77",
         "53426",
         "30 May, 2025",
         "FromSoftware, Inc.",
         "Souls-like, Open World, Fantasy, RPG",
         "win",
         "English, Japanese, French, Italian, German, Spanish - Spain, Arabic, Korean, Polish, Portuguese - Brazil, Russian, Simplified Chinese, Spanish - Latin America, Thai, Traditional Chinese",
         "25.99",
         "Single-player, Online Co-op, Steam Achievements, Steam Cloud, Family Sharing",
         "17",
         "3.96",
         "4",
         "50",
         "840000"
        ],
        [
         "The Last of Us™ Part I",
         "79",
         "45424",
         "28 Mar, 2023",
         "Naughty Dog LLC",
         "Story Rich, Shooter, Survival, Horror",
         "win",
         "English, Italian, Spanish - Spain, Czech, Dutch, Greek, French, German, Danish, Finnish, Hungarian, Japanese, Korean, Norwegian, Polish, Portuguese - Brazil, Portuguese - Portugal, Russian, Simplified Chinese, Spanish - Latin America, Swedish, Thai, Traditional Chinese, Turkish, Croatian",
         "59.99",
         "Single-player, Steam Achievements, Steam Trading Cards, Steam Cloud, Remote Play on TV, Family Sharing",
         "17",
         "4.1",
         "3",
         "24",
         "2000000"
        ],
        [
         "Red Dead Redemption 2",
         "92",
         "672140",
         "5 Dec, 2019",
         "Rockstar Games",
         "Open World, Story Rich, Adventure, Realistic, Shooter, Sandbox",
         "win",
         "English, French, Italian, German, Spanish - Spain, Japanese, Korean, Polish, Portuguese - Portugal, Russian, Simplified Chinese, Spanish - Latin America, Traditional Chinese",
         "59.99",
         "Single-player, Online PvP, Online Co-op, Steam Achievements, In-App Purchases, Remote Play on Phone, Remote Play on Tablet",
         "17",
         "4.32",
         "3",
         "80",
         "21610000"
        ],
        [
         "Dota 2",
         "81",
         "2497040",
         "9 Jul, 2013",
         "Valve",
         "Strategy, Action, Combat",
         "win, mac, linux",
         "English, Bulgarian, Czech, Danish, Dutch, Finnish, French, German, Greek, Hungarian, Italian, Japanese, Korean, Norwegian, Polish, Portuguese - Portugal, Portuguese - Brazil, Romanian, Russian, Simplified Chinese, Spanish - Spain, Swedish, Thai, Traditional Chinese, Turkish, Ukrainian, Spanish - Latin America, Vietnamese",
         "0.0",
         "Steam Trading Cards, Steam Workshop, SteamVR Collectibles, In-App Purchases, Steam Timeline",
         "13",
         "3.71",
         "4",
         "80",
         "234950000"
        ],
        [
         "EA SPORTS FC™ 25",
         "49",
         "67600",
         "27 Sep, 2024",
         "EA Canada",
         "Sports, Simulation, Realistic",
         "win",
         "English, French, Italian, German, Spanish - Spain, Arabic, Czech, Danish, Dutch, Japanese, Korean, Norwegian, Polish, Portuguese - Brazil, Portuguese - Portugal, Russian, Simplified Chinese, Spanish - Latin America, Swedish, Traditional Chinese, Turkish",
         "69.99",
         "Single-player, Online PvP, Shared/Split Screen PvP, Online Co-op, Shared/Split Screen Co-op, Cross-Platform Multiplayer, Steam Achievements, In-App Purchases, Remote Play Together, HDR available",
         "0",
         "3.2",
         "3",
         "48",
         "2320000"
        ],
        [
         "Project Zomboid",
         "94",
         "284985",
         "8 Nov, 2013",
         "The Indie Stone",
         "Early Access, RPG, Simulation, Survival, Open World, 2D",
         "win, mac, linux",
         "English, French, Italian, German, Spanish - Spain, Danish, Dutch, Hungarian, Norwegian, Polish, Portuguese - Portugal, Russian, Turkish, Japanese, Simplified Chinese, Portuguese - Brazil, Finnish, Korean, Thai, Traditional Chinese, Ukrainian",
         "10.49",
         "Single-player, Online PvP, Online Co-op, Shared/Split Screen Co-op, Cross-Platform Multiplayer, Steam Trading Cards, Steam Workshop, Remote Play Together, Family Sharing",
         "17",
         "3.66",
         "4",
         "59",
         "21370000"
        ],
        [
         "Game of Thrones: Kingsroad",
         "61",
         "2667",
         "22 May, 2025",
         "Netmarble Neo",
         "Action, Adventure, RPG, Open World, Fantasy",
         "win",
         "English, French, Italian, German, Spanish - Spain, Portuguese - Brazil, Turkish",
         "0.0",
         "Single-player, Online Co-op, In-App Purchases",
         "17",
         "3.4",
         "3",
         "42",
         "361500"
        ],
        [
         "Rust",
         "87",
         "1018247",
         "8 Feb, 2018",
         "Facepunch Studios",
         "Survival, Crafting, Open World, RPG, Sandbox",
         "win, mac",
         "English, French, Italian, German, Spanish - Spain, Japanese, Korean, Russian, Simplified Chinese, Ukrainian, Polish, Portuguese - Portugal, Turkish, Arabic, Czech, Danish, Dutch, Finnish, Greek, Norwegian, Portuguese - Brazil, Spanish - Latin America, Swedish, Traditional Chinese, Vietnamese",
         "18.99",
         "MMO, Online PvP, Online Co-op, Cross-Platform Multiplayer, Steam Achievements, Steam Trading Cards, Steam Workshop, In-App Purchases, Stats, Remote Play on Tablet",
         "17",
         "3.2",
         "4",
         "65",
         "36400000"
        ],
        [
         "F1® 25",
         "88",
         "394",
         "30 May, 2025",
         "Codemasters",
         "Driving, Sports, Simulation",
         "win",
         "English, French, Italian, German, Spanish - Spain, Dutch, Japanese, Polish, Portuguese - Brazil, Simplified Chinese, Spanish - Latin America",
         "59.99",
         "Single-player, Online PvP, LAN PvP, Shared/Split Screen PvP, Online Co-op, LAN Co-op, Cross-Platform Multiplayer, Steam Achievements, VR Supported, Steam Workshop, In-App Purchases, Steam Cloud, HDR available, Family Sharing",
         "0",
         "3.8",
         "4",
         "18",
         "30800"
        ],
        [
         "Dead by Daylight",
         "79",
         "578396",
         "14 Jun, 2016",
         "Behaviour Interactive Inc.",
         "Horror, Survival, Stealth",
         "win",
         "English, French, Italian, German, Spanish - Spain, Russian, Simplified Chinese, Portuguese - Brazil, Thai, Traditional Chinese, Japanese, Korean, Polish, Spanish - Latin America, Turkish",
         "14.99",
         "Online PvP, Online Co-op, Cross-Platform Multiplayer, Steam Achievements, Steam Trading Cards, Steam Cloud, Remote Play on Phone, Remote Play on Tablet, Remote Play on TV, Family Sharing",
         "17",
         "3.42",
         "4",
         "65",
         "301000"
        ]
       ],
       "shape": {
        "columns": 14,
        "rows": 12
       }
      },
      "text/html": [
       "<div>\n",
       "<style scoped>\n",
       "    .dataframe tbody tr th:only-of-type {\n",
       "        vertical-align: middle;\n",
       "    }\n",
       "\n",
       "    .dataframe tbody tr th {\n",
       "        vertical-align: top;\n",
       "    }\n",
       "\n",
       "    .dataframe thead th {\n",
       "        text-align: right;\n",
       "    }\n",
       "</style>\n",
       "<table border=\"1\" class=\"dataframe\">\n",
       "  <thead>\n",
       "    <tr style=\"text-align: right;\">\n",
       "      <th></th>\n",
       "      <th>reviews_like_rate</th>\n",
       "      <th>all_reviews_number</th>\n",
       "      <th>release_date</th>\n",
       "      <th>developer</th>\n",
       "      <th>user_defined_tags</th>\n",
       "      <th>supported_os</th>\n",
       "      <th>supported_languages</th>\n",
       "      <th>price</th>\n",
       "      <th>other_features</th>\n",
       "      <th>age_restriction</th>\n",
       "      <th>rating</th>\n",
       "      <th>difficulty</th>\n",
       "      <th>length</th>\n",
       "      <th>estimated_downloads</th>\n",
       "    </tr>\n",
       "    <tr>\n",
       "      <th>game_name</th>\n",
       "      <th></th>\n",
       "      <th></th>\n",
       "      <th></th>\n",
       "      <th></th>\n",
       "      <th></th>\n",
       "      <th></th>\n",
       "      <th></th>\n",
       "      <th></th>\n",
       "      <th></th>\n",
       "      <th></th>\n",
       "      <th></th>\n",
       "      <th></th>\n",
       "      <th></th>\n",
       "      <th></th>\n",
       "    </tr>\n",
       "  </thead>\n",
       "  <tbody>\n",
       "    <tr>\n",
       "      <th>Counter-Strike 2</th>\n",
       "      <td>86</td>\n",
       "      <td>8803754</td>\n",
       "      <td>21 Aug, 2012</td>\n",
       "      <td>Valve</td>\n",
       "      <td>FPS, Action, Tactical</td>\n",
       "      <td>win, linux</td>\n",
       "      <td>English, Czech, Danish, Dutch, Finnish, French...</td>\n",
       "      <td>0.00</td>\n",
       "      <td>Cross-Platform Multiplayer, Steam Trading Card...</td>\n",
       "      <td>17</td>\n",
       "      <td>3.20</td>\n",
       "      <td>4</td>\n",
       "      <td>80</td>\n",
       "      <td>306170000</td>\n",
       "    </tr>\n",
       "    <tr>\n",
       "      <th>PUBG: BATTLEGROUNDS</th>\n",
       "      <td>59</td>\n",
       "      <td>2554482</td>\n",
       "      <td>21 Dec, 2017</td>\n",
       "      <td>PUBG Corporation</td>\n",
       "      <td>Survival, Shooter, Action, Tactical</td>\n",
       "      <td>win</td>\n",
       "      <td>English, Korean, Simplified Chinese, French, G...</td>\n",
       "      <td>0.00</td>\n",
       "      <td>Online PvP, Stats, Remote Play on Phone, Remot...</td>\n",
       "      <td>13</td>\n",
       "      <td>3.10</td>\n",
       "      <td>4</td>\n",
       "      <td>73</td>\n",
       "      <td>162350000</td>\n",
       "    </tr>\n",
       "    <tr>\n",
       "      <th>ELDEN RING NIGHTREIGN</th>\n",
       "      <td>77</td>\n",
       "      <td>53426</td>\n",
       "      <td>30 May, 2025</td>\n",
       "      <td>FromSoftware, Inc.</td>\n",
       "      <td>Souls-like, Open World, Fantasy, RPG</td>\n",
       "      <td>win</td>\n",
       "      <td>English, Japanese, French, Italian, German, Sp...</td>\n",
       "      <td>25.99</td>\n",
       "      <td>Single-player, Online Co-op, Steam Achievement...</td>\n",
       "      <td>17</td>\n",
       "      <td>3.96</td>\n",
       "      <td>4</td>\n",
       "      <td>50</td>\n",
       "      <td>840000</td>\n",
       "    </tr>\n",
       "    <tr>\n",
       "      <th>The Last of Us™ Part I</th>\n",
       "      <td>79</td>\n",
       "      <td>45424</td>\n",
       "      <td>28 Mar, 2023</td>\n",
       "      <td>Naughty Dog LLC</td>\n",
       "      <td>Story Rich, Shooter, Survival, Horror</td>\n",
       "      <td>win</td>\n",
       "      <td>English, Italian, Spanish - Spain, Czech, Dutc...</td>\n",
       "      <td>59.99</td>\n",
       "      <td>Single-player, Steam Achievements, Steam Tradi...</td>\n",
       "      <td>17</td>\n",
       "      <td>4.10</td>\n",
       "      <td>3</td>\n",
       "      <td>24</td>\n",
       "      <td>2000000</td>\n",
       "    </tr>\n",
       "    <tr>\n",
       "      <th>Red Dead Redemption 2</th>\n",
       "      <td>92</td>\n",
       "      <td>672140</td>\n",
       "      <td>5 Dec, 2019</td>\n",
       "      <td>Rockstar Games</td>\n",
       "      <td>Open World, Story Rich, Adventure, Realistic, ...</td>\n",
       "      <td>win</td>\n",
       "      <td>English, French, Italian, German, Spanish - Sp...</td>\n",
       "      <td>59.99</td>\n",
       "      <td>Single-player, Online PvP, Online Co-op, Steam...</td>\n",
       "      <td>17</td>\n",
       "      <td>4.32</td>\n",
       "      <td>3</td>\n",
       "      <td>80</td>\n",
       "      <td>21610000</td>\n",
       "    </tr>\n",
       "    <tr>\n",
       "      <th>Dota 2</th>\n",
       "      <td>81</td>\n",
       "      <td>2497040</td>\n",
       "      <td>9 Jul, 2013</td>\n",
       "      <td>Valve</td>\n",
       "      <td>Strategy, Action, Combat</td>\n",
       "      <td>win, mac, linux</td>\n",
       "      <td>English, Bulgarian, Czech, Danish, Dutch, Finn...</td>\n",
       "      <td>0.00</td>\n",
       "      <td>Steam Trading Cards, Steam Workshop, SteamVR C...</td>\n",
       "      <td>13</td>\n",
       "      <td>3.71</td>\n",
       "      <td>4</td>\n",
       "      <td>80</td>\n",
       "      <td>234950000</td>\n",
       "    </tr>\n",
       "    <tr>\n",
       "      <th>EA SPORTS FC™ 25</th>\n",
       "      <td>49</td>\n",
       "      <td>67600</td>\n",
       "      <td>27 Sep, 2024</td>\n",
       "      <td>EA Canada</td>\n",
       "      <td>Sports, Simulation, Realistic</td>\n",
       "      <td>win</td>\n",
       "      <td>English, French, Italian, German, Spanish - Sp...</td>\n",
       "      <td>69.99</td>\n",
       "      <td>Single-player, Online PvP, Shared/Split Screen...</td>\n",
       "      <td>0</td>\n",
       "      <td>3.20</td>\n",
       "      <td>3</td>\n",
       "      <td>48</td>\n",
       "      <td>2320000</td>\n",
       "    </tr>\n",
       "    <tr>\n",
       "      <th>Project Zomboid</th>\n",
       "      <td>94</td>\n",
       "      <td>284985</td>\n",
       "      <td>8 Nov, 2013</td>\n",
       "      <td>The Indie Stone</td>\n",
       "      <td>Early Access, RPG, Simulation, Survival, Open ...</td>\n",
       "      <td>win, mac, linux</td>\n",
       "      <td>English, French, Italian, German, Spanish - Sp...</td>\n",
       "      <td>10.49</td>\n",
       "      <td>Single-player, Online PvP, Online Co-op, Share...</td>\n",
       "      <td>17</td>\n",
       "      <td>3.66</td>\n",
       "      <td>4</td>\n",
       "      <td>59</td>\n",
       "      <td>21370000</td>\n",
       "    </tr>\n",
       "    <tr>\n",
       "      <th>Game of Thrones: Kingsroad</th>\n",
       "      <td>61</td>\n",
       "      <td>2667</td>\n",
       "      <td>22 May, 2025</td>\n",
       "      <td>Netmarble Neo</td>\n",
       "      <td>Action, Adventure, RPG, Open World, Fantasy</td>\n",
       "      <td>win</td>\n",
       "      <td>English, French, Italian, German, Spanish - Sp...</td>\n",
       "      <td>0.00</td>\n",
       "      <td>Single-player, Online Co-op, In-App Purchases</td>\n",
       "      <td>17</td>\n",
       "      <td>3.40</td>\n",
       "      <td>3</td>\n",
       "      <td>42</td>\n",
       "      <td>361500</td>\n",
       "    </tr>\n",
       "    <tr>\n",
       "      <th>Rust</th>\n",
       "      <td>87</td>\n",
       "      <td>1018247</td>\n",
       "      <td>8 Feb, 2018</td>\n",
       "      <td>Facepunch Studios</td>\n",
       "      <td>Survival, Crafting, Open World, RPG, Sandbox</td>\n",
       "      <td>win, mac</td>\n",
       "      <td>English, French, Italian, German, Spanish - Sp...</td>\n",
       "      <td>18.99</td>\n",
       "      <td>MMO, Online PvP, Online Co-op, Cross-Platform ...</td>\n",
       "      <td>17</td>\n",
       "      <td>3.20</td>\n",
       "      <td>4</td>\n",
       "      <td>65</td>\n",
       "      <td>36400000</td>\n",
       "    </tr>\n",
       "    <tr>\n",
       "      <th>F1® 25</th>\n",
       "      <td>88</td>\n",
       "      <td>394</td>\n",
       "      <td>30 May, 2025</td>\n",
       "      <td>Codemasters</td>\n",
       "      <td>Driving, Sports, Simulation</td>\n",
       "      <td>win</td>\n",
       "      <td>English, French, Italian, German, Spanish - Sp...</td>\n",
       "      <td>59.99</td>\n",
       "      <td>Single-player, Online PvP, LAN PvP, Shared/Spl...</td>\n",
       "      <td>0</td>\n",
       "      <td>3.80</td>\n",
       "      <td>4</td>\n",
       "      <td>18</td>\n",
       "      <td>30800</td>\n",
       "    </tr>\n",
       "    <tr>\n",
       "      <th>Dead by Daylight</th>\n",
       "      <td>79</td>\n",
       "      <td>578396</td>\n",
       "      <td>14 Jun, 2016</td>\n",
       "      <td>Behaviour Interactive Inc.</td>\n",
       "      <td>Horror, Survival, Stealth</td>\n",
       "      <td>win</td>\n",
       "      <td>English, French, Italian, German, Spanish - Sp...</td>\n",
       "      <td>14.99</td>\n",
       "      <td>Online PvP, Online Co-op, Cross-Platform Multi...</td>\n",
       "      <td>17</td>\n",
       "      <td>3.42</td>\n",
       "      <td>4</td>\n",
       "      <td>65</td>\n",
       "      <td>301000</td>\n",
       "    </tr>\n",
       "  </tbody>\n",
       "</table>\n",
       "</div>"
      ],
      "text/plain": [
       "                            reviews_like_rate  all_reviews_number  \\\n",
       "game_name                                                           \n",
       "Counter-Strike 2                           86             8803754   \n",
       "PUBG: BATTLEGROUNDS                        59             2554482   \n",
       "ELDEN RING NIGHTREIGN                      77               53426   \n",
       "The Last of Us™ Part I                     79               45424   \n",
       "Red Dead Redemption 2                      92              672140   \n",
       "Dota 2                                     81             2497040   \n",
       "EA SPORTS FC™ 25                           49               67600   \n",
       "Project Zomboid                            94              284985   \n",
       "Game of Thrones: Kingsroad                 61                2667   \n",
       "Rust                                       87             1018247   \n",
       "F1® 25                                     88                 394   \n",
       "Dead by Daylight                           79              578396   \n",
       "\n",
       "                            release_date                   developer  \\\n",
       "game_name                                                              \n",
       "Counter-Strike 2            21 Aug, 2012                       Valve   \n",
       "PUBG: BATTLEGROUNDS         21 Dec, 2017            PUBG Corporation   \n",
       "ELDEN RING NIGHTREIGN       30 May, 2025          FromSoftware, Inc.   \n",
       "The Last of Us™ Part I      28 Mar, 2023             Naughty Dog LLC   \n",
       "Red Dead Redemption 2        5 Dec, 2019              Rockstar Games   \n",
       "Dota 2                       9 Jul, 2013                       Valve   \n",
       "EA SPORTS FC™ 25            27 Sep, 2024                   EA Canada   \n",
       "Project Zomboid              8 Nov, 2013             The Indie Stone   \n",
       "Game of Thrones: Kingsroad  22 May, 2025               Netmarble Neo   \n",
       "Rust                         8 Feb, 2018           Facepunch Studios   \n",
       "F1® 25                      30 May, 2025                 Codemasters   \n",
       "Dead by Daylight            14 Jun, 2016  Behaviour Interactive Inc.   \n",
       "\n",
       "                                                            user_defined_tags  \\\n",
       "game_name                                                                       \n",
       "Counter-Strike 2                                        FPS, Action, Tactical   \n",
       "PUBG: BATTLEGROUNDS                       Survival, Shooter, Action, Tactical   \n",
       "ELDEN RING NIGHTREIGN                    Souls-like, Open World, Fantasy, RPG   \n",
       "The Last of Us™ Part I                  Story Rich, Shooter, Survival, Horror   \n",
       "Red Dead Redemption 2       Open World, Story Rich, Adventure, Realistic, ...   \n",
       "Dota 2                                               Strategy, Action, Combat   \n",
       "EA SPORTS FC™ 25                                Sports, Simulation, Realistic   \n",
       "Project Zomboid             Early Access, RPG, Simulation, Survival, Open ...   \n",
       "Game of Thrones: Kingsroad        Action, Adventure, RPG, Open World, Fantasy   \n",
       "Rust                             Survival, Crafting, Open World, RPG, Sandbox   \n",
       "F1® 25                                            Driving, Sports, Simulation   \n",
       "Dead by Daylight                                    Horror, Survival, Stealth   \n",
       "\n",
       "                               supported_os  \\\n",
       "game_name                                     \n",
       "Counter-Strike 2                 win, linux   \n",
       "PUBG: BATTLEGROUNDS                     win   \n",
       "ELDEN RING NIGHTREIGN                   win   \n",
       "The Last of Us™ Part I                  win   \n",
       "Red Dead Redemption 2                   win   \n",
       "Dota 2                      win, mac, linux   \n",
       "EA SPORTS FC™ 25                        win   \n",
       "Project Zomboid             win, mac, linux   \n",
       "Game of Thrones: Kingsroad              win   \n",
       "Rust                               win, mac   \n",
       "F1® 25                                  win   \n",
       "Dead by Daylight                        win   \n",
       "\n",
       "                                                          supported_languages  \\\n",
       "game_name                                                                       \n",
       "Counter-Strike 2            English, Czech, Danish, Dutch, Finnish, French...   \n",
       "PUBG: BATTLEGROUNDS         English, Korean, Simplified Chinese, French, G...   \n",
       "ELDEN RING NIGHTREIGN       English, Japanese, French, Italian, German, Sp...   \n",
       "The Last of Us™ Part I      English, Italian, Spanish - Spain, Czech, Dutc...   \n",
       "Red Dead Redemption 2       English, French, Italian, German, Spanish - Sp...   \n",
       "Dota 2                      English, Bulgarian, Czech, Danish, Dutch, Finn...   \n",
       "EA SPORTS FC™ 25            English, French, Italian, German, Spanish - Sp...   \n",
       "Project Zomboid             English, French, Italian, German, Spanish - Sp...   \n",
       "Game of Thrones: Kingsroad  English, French, Italian, German, Spanish - Sp...   \n",
       "Rust                        English, French, Italian, German, Spanish - Sp...   \n",
       "F1® 25                      English, French, Italian, German, Spanish - Sp...   \n",
       "Dead by Daylight            English, French, Italian, German, Spanish - Sp...   \n",
       "\n",
       "                            price  \\\n",
       "game_name                           \n",
       "Counter-Strike 2             0.00   \n",
       "PUBG: BATTLEGROUNDS          0.00   \n",
       "ELDEN RING NIGHTREIGN       25.99   \n",
       "The Last of Us™ Part I      59.99   \n",
       "Red Dead Redemption 2       59.99   \n",
       "Dota 2                       0.00   \n",
       "EA SPORTS FC™ 25            69.99   \n",
       "Project Zomboid             10.49   \n",
       "Game of Thrones: Kingsroad   0.00   \n",
       "Rust                        18.99   \n",
       "F1® 25                      59.99   \n",
       "Dead by Daylight            14.99   \n",
       "\n",
       "                                                               other_features  \\\n",
       "game_name                                                                       \n",
       "Counter-Strike 2            Cross-Platform Multiplayer, Steam Trading Card...   \n",
       "PUBG: BATTLEGROUNDS         Online PvP, Stats, Remote Play on Phone, Remot...   \n",
       "ELDEN RING NIGHTREIGN       Single-player, Online Co-op, Steam Achievement...   \n",
       "The Last of Us™ Part I      Single-player, Steam Achievements, Steam Tradi...   \n",
       "Red Dead Redemption 2       Single-player, Online PvP, Online Co-op, Steam...   \n",
       "Dota 2                      Steam Trading Cards, Steam Workshop, SteamVR C...   \n",
       "EA SPORTS FC™ 25            Single-player, Online PvP, Shared/Split Screen...   \n",
       "Project Zomboid             Single-player, Online PvP, Online Co-op, Share...   \n",
       "Game of Thrones: Kingsroad      Single-player, Online Co-op, In-App Purchases   \n",
       "Rust                        MMO, Online PvP, Online Co-op, Cross-Platform ...   \n",
       "F1® 25                      Single-player, Online PvP, LAN PvP, Shared/Spl...   \n",
       "Dead by Daylight            Online PvP, Online Co-op, Cross-Platform Multi...   \n",
       "\n",
       "                            age_restriction  rating  difficulty  length  \\\n",
       "game_name                                                                 \n",
       "Counter-Strike 2                         17    3.20           4      80   \n",
       "PUBG: BATTLEGROUNDS                      13    3.10           4      73   \n",
       "ELDEN RING NIGHTREIGN                    17    3.96           4      50   \n",
       "The Last of Us™ Part I                   17    4.10           3      24   \n",
       "Red Dead Redemption 2                    17    4.32           3      80   \n",
       "Dota 2                                   13    3.71           4      80   \n",
       "EA SPORTS FC™ 25                          0    3.20           3      48   \n",
       "Project Zomboid                          17    3.66           4      59   \n",
       "Game of Thrones: Kingsroad               17    3.40           3      42   \n",
       "Rust                                     17    3.20           4      65   \n",
       "F1® 25                                    0    3.80           4      18   \n",
       "Dead by Daylight                         17    3.42           4      65   \n",
       "\n",
       "                            estimated_downloads  \n",
       "game_name                                        \n",
       "Counter-Strike 2                      306170000  \n",
       "PUBG: BATTLEGROUNDS                   162350000  \n",
       "ELDEN RING NIGHTREIGN                    840000  \n",
       "The Last of Us™ Part I                  2000000  \n",
       "Red Dead Redemption 2                  21610000  \n",
       "Dota 2                                234950000  \n",
       "EA SPORTS FC™ 25                        2320000  \n",
       "Project Zomboid                        21370000  \n",
       "Game of Thrones: Kingsroad               361500  \n",
       "Rust                                   36400000  \n",
       "F1® 25                                    30800  \n",
       "Dead by Daylight                         301000  "
      ]
     },
     "execution_count": 17,
     "metadata": {},
     "output_type": "execute_result"
    }
   ],
   "source": [
    "df = pd.read_csv(\"ventas_juegos_steam.csv\", header=0, index_col=0)\n",
    "# Exploramos las primeras filas del dataframe para entender su estructura\n",
    "df.head(12)"
   ]
  },
  {
   "cell_type": "code",
   "execution_count": 18,
   "id": "10ad114d",
   "metadata": {},
   "outputs": [
    {
     "data": {
      "application/vnd.microsoft.datawrangler.viewer.v0+json": {
       "columns": [
        {
         "name": "game_name",
         "rawType": "object",
         "type": "string"
        },
        {
         "name": "reviews_like_rate",
         "rawType": "int64",
         "type": "integer"
        },
        {
         "name": "all_reviews_number",
         "rawType": "int64",
         "type": "integer"
        },
        {
         "name": "release_date",
         "rawType": "object",
         "type": "string"
        },
        {
         "name": "developer",
         "rawType": "object",
         "type": "string"
        },
        {
         "name": "user_defined_tags",
         "rawType": "object",
         "type": "string"
        },
        {
         "name": "supported_os",
         "rawType": "object",
         "type": "string"
        },
        {
         "name": "supported_languages",
         "rawType": "object",
         "type": "string"
        },
        {
         "name": "price",
         "rawType": "float64",
         "type": "float"
        },
        {
         "name": "other_features",
         "rawType": "object",
         "type": "string"
        },
        {
         "name": "age_restriction",
         "rawType": "int64",
         "type": "integer"
        },
        {
         "name": "rating",
         "rawType": "float64",
         "type": "float"
        },
        {
         "name": "difficulty",
         "rawType": "int64",
         "type": "integer"
        },
        {
         "name": "length",
         "rawType": "int64",
         "type": "integer"
        },
        {
         "name": "estimated_downloads",
         "rawType": "int64",
         "type": "integer"
        }
       ],
       "ref": "009b2f2b-bb6f-4f27-8129-732fb3d3e212",
       "rows": [
        [
         "Wooden House",
         "38",
         "147",
         "5 Sep, 2016",
         "GDNomaD",
         "Simulation",
         "win",
         "English",
         "0.89",
         "Single-player, Steam Trading Cards, Family Sharing",
         "17",
         "1.24",
         "3",
         "1",
         "221000"
        ],
        [
         "Shoot. Push. Repeat.",
         "84",
         "65",
         "8 Jun, 2020",
         "CrewLab",
         "Puzzle, 2D",
         "win",
         "English, French, Italian, German, Spanish - Spain, Arabic, Bulgarian, Portuguese - Brazil, Hungarian, Vietnamese, Greek, Danish, Spanish - Latin America, Traditional Chinese, Simplified Chinese, Korean, Dutch, Norwegian, Polish, Portuguese - Portugal, Romanian, Russian, Thai, Turkish, Ukrainian, Finnish, Czech, Swedish, Japanese",
         "0.89",
         "Single-player, Steam Achievements, Steam Cloud, Family Sharing",
         "0",
         "3.64",
         "1",
         "3",
         "2700"
        ],
        [
         "X2: The Threat",
         "83",
         "416",
         "3 Dec, 2003",
         "Egosoft",
         "Strategy, Simulation",
         "win",
         "English, French, German, Italian, Spanish - Spain, Czech, Polish, Russian",
         "2.99",
         "Single-player, Captions available, Steam Cloud, Family Sharing",
         "13",
         "3.61",
         "4",
         "60",
         "47500"
        ],
        [
         "!AnyWay!",
         "71",
         "498",
         "6 Jun, 2018",
         "EYEFRONT",
         "Platformer, 2D",
         "win",
         "English, Russian, French, Italian, German, Polish, Ukrainian, Swedish, Simplified Chinese, Bulgarian, Danish, Finnish, Czech",
         "1.35",
         "Single-player, Steam Achievements, Steam Trading Cards, In-App Purchases, Steam Cloud, Stats, Steam Leaderboards, Includes level editor, Family Sharing",
         "0",
         "3.0",
         "3",
         "2",
         "79000"
        ],
        [
         "UBERMOSH:OMEGA",
         "93",
         "314",
         "8 Nov, 2019",
         "Walter Machado",
         "Action, Pixel Graphics",
         "win",
         "English, French, Italian, German, Spanish - Spain, Bulgarian, Simplified Chinese, Traditional Chinese, Korean, Danish, Spanish - Latin America, Finnish, Greek, Dutch, Hungarian, Japanese, Norwegian, Polish, Portuguese - Brazil, Portuguese - Portugal, Romanian, Russian, Swedish, Thai, Czech, Turkish, Ukrainian, Vietnamese, Arabic, Afrikaans, Albanian, Amharic, Armenian, Assamese, Azerbaijani, Basque, Bangla, Belarusian, Bosnian, Kannada, Catalan, Kazakh, Cherokee, Sinhala, Konkani, Croatian, Dari, Slovak, Slovenian, Estonian, Filipino, Galician, Welsh, Georgian, Gujarati, Hausa, Hebrew, Hindi, Igbo, Indonesian, Yoruba, Irish, Icelandic, Khmer, Latvian, Lithuanian, Luxembourgish, Macedonian, Malayalam, Malay, Maltese, Maori, Marathi, Mongolian, Nepali, Odia, Punjabi (Gurmukhi), Punjabi (Shahmukhi), Persian, K'iche', Kinyarwanda, Kyrgyz, Quechua, Sotho, Sindhi, Sorani, Swahili, Serbian, Tajik, Tigrinya, Tswana, Turkmen, Tatar, Tamil, Telugu, Uyghur, Wolof, Urdu, Uzbek, Valencian, Xhosa, Zulu, Scots",
         "0.89",
         "Single-player, Steam Achievements, Family Sharing",
         "13",
         "4.17",
         "5",
         "12",
         "14000"
        ]
       ],
       "shape": {
        "columns": 14,
        "rows": 5
       }
      },
      "text/html": [
       "<div>\n",
       "<style scoped>\n",
       "    .dataframe tbody tr th:only-of-type {\n",
       "        vertical-align: middle;\n",
       "    }\n",
       "\n",
       "    .dataframe tbody tr th {\n",
       "        vertical-align: top;\n",
       "    }\n",
       "\n",
       "    .dataframe thead th {\n",
       "        text-align: right;\n",
       "    }\n",
       "</style>\n",
       "<table border=\"1\" class=\"dataframe\">\n",
       "  <thead>\n",
       "    <tr style=\"text-align: right;\">\n",
       "      <th></th>\n",
       "      <th>reviews_like_rate</th>\n",
       "      <th>all_reviews_number</th>\n",
       "      <th>release_date</th>\n",
       "      <th>developer</th>\n",
       "      <th>user_defined_tags</th>\n",
       "      <th>supported_os</th>\n",
       "      <th>supported_languages</th>\n",
       "      <th>price</th>\n",
       "      <th>other_features</th>\n",
       "      <th>age_restriction</th>\n",
       "      <th>rating</th>\n",
       "      <th>difficulty</th>\n",
       "      <th>length</th>\n",
       "      <th>estimated_downloads</th>\n",
       "    </tr>\n",
       "    <tr>\n",
       "      <th>game_name</th>\n",
       "      <th></th>\n",
       "      <th></th>\n",
       "      <th></th>\n",
       "      <th></th>\n",
       "      <th></th>\n",
       "      <th></th>\n",
       "      <th></th>\n",
       "      <th></th>\n",
       "      <th></th>\n",
       "      <th></th>\n",
       "      <th></th>\n",
       "      <th></th>\n",
       "      <th></th>\n",
       "      <th></th>\n",
       "    </tr>\n",
       "  </thead>\n",
       "  <tbody>\n",
       "    <tr>\n",
       "      <th>Wooden House</th>\n",
       "      <td>38</td>\n",
       "      <td>147</td>\n",
       "      <td>5 Sep, 2016</td>\n",
       "      <td>GDNomaD</td>\n",
       "      <td>Simulation</td>\n",
       "      <td>win</td>\n",
       "      <td>English</td>\n",
       "      <td>0.89</td>\n",
       "      <td>Single-player, Steam Trading Cards, Family Sha...</td>\n",
       "      <td>17</td>\n",
       "      <td>1.24</td>\n",
       "      <td>3</td>\n",
       "      <td>1</td>\n",
       "      <td>221000</td>\n",
       "    </tr>\n",
       "    <tr>\n",
       "      <th>Shoot. Push. Repeat.</th>\n",
       "      <td>84</td>\n",
       "      <td>65</td>\n",
       "      <td>8 Jun, 2020</td>\n",
       "      <td>CrewLab</td>\n",
       "      <td>Puzzle, 2D</td>\n",
       "      <td>win</td>\n",
       "      <td>English, French, Italian, German, Spanish - Sp...</td>\n",
       "      <td>0.89</td>\n",
       "      <td>Single-player, Steam Achievements, Steam Cloud...</td>\n",
       "      <td>0</td>\n",
       "      <td>3.64</td>\n",
       "      <td>1</td>\n",
       "      <td>3</td>\n",
       "      <td>2700</td>\n",
       "    </tr>\n",
       "    <tr>\n",
       "      <th>X2: The Threat</th>\n",
       "      <td>83</td>\n",
       "      <td>416</td>\n",
       "      <td>3 Dec, 2003</td>\n",
       "      <td>Egosoft</td>\n",
       "      <td>Strategy, Simulation</td>\n",
       "      <td>win</td>\n",
       "      <td>English, French, German, Italian, Spanish - Sp...</td>\n",
       "      <td>2.99</td>\n",
       "      <td>Single-player, Captions available, Steam Cloud...</td>\n",
       "      <td>13</td>\n",
       "      <td>3.61</td>\n",
       "      <td>4</td>\n",
       "      <td>60</td>\n",
       "      <td>47500</td>\n",
       "    </tr>\n",
       "    <tr>\n",
       "      <th>!AnyWay!</th>\n",
       "      <td>71</td>\n",
       "      <td>498</td>\n",
       "      <td>6 Jun, 2018</td>\n",
       "      <td>EYEFRONT</td>\n",
       "      <td>Platformer, 2D</td>\n",
       "      <td>win</td>\n",
       "      <td>English, Russian, French, Italian, German, Pol...</td>\n",
       "      <td>1.35</td>\n",
       "      <td>Single-player, Steam Achievements, Steam Tradi...</td>\n",
       "      <td>0</td>\n",
       "      <td>3.00</td>\n",
       "      <td>3</td>\n",
       "      <td>2</td>\n",
       "      <td>79000</td>\n",
       "    </tr>\n",
       "    <tr>\n",
       "      <th>UBERMOSH:OMEGA</th>\n",
       "      <td>93</td>\n",
       "      <td>314</td>\n",
       "      <td>8 Nov, 2019</td>\n",
       "      <td>Walter Machado</td>\n",
       "      <td>Action, Pixel Graphics</td>\n",
       "      <td>win</td>\n",
       "      <td>English, French, Italian, German, Spanish - Sp...</td>\n",
       "      <td>0.89</td>\n",
       "      <td>Single-player, Steam Achievements, Family Sharing</td>\n",
       "      <td>13</td>\n",
       "      <td>4.17</td>\n",
       "      <td>5</td>\n",
       "      <td>12</td>\n",
       "      <td>14000</td>\n",
       "    </tr>\n",
       "  </tbody>\n",
       "</table>\n",
       "</div>"
      ],
      "text/plain": [
       "                      reviews_like_rate  all_reviews_number release_date  \\\n",
       "game_name                                                                  \n",
       "Wooden House                         38                 147  5 Sep, 2016   \n",
       "Shoot. Push. Repeat.                 84                  65  8 Jun, 2020   \n",
       "X2: The Threat                       83                 416  3 Dec, 2003   \n",
       "!AnyWay!                             71                 498  6 Jun, 2018   \n",
       "UBERMOSH:OMEGA                       93                 314  8 Nov, 2019   \n",
       "\n",
       "                           developer       user_defined_tags supported_os  \\\n",
       "game_name                                                                   \n",
       "Wooden House                 GDNomaD              Simulation          win   \n",
       "Shoot. Push. Repeat.         CrewLab              Puzzle, 2D          win   \n",
       "X2: The Threat               Egosoft    Strategy, Simulation          win   \n",
       "!AnyWay!                    EYEFRONT          Platformer, 2D          win   \n",
       "UBERMOSH:OMEGA        Walter Machado  Action, Pixel Graphics          win   \n",
       "\n",
       "                                                    supported_languages  \\\n",
       "game_name                                                                 \n",
       "Wooden House                                                    English   \n",
       "Shoot. Push. Repeat.  English, French, Italian, German, Spanish - Sp...   \n",
       "X2: The Threat        English, French, German, Italian, Spanish - Sp...   \n",
       "!AnyWay!              English, Russian, French, Italian, German, Pol...   \n",
       "UBERMOSH:OMEGA        English, French, Italian, German, Spanish - Sp...   \n",
       "\n",
       "                      price  \\\n",
       "game_name                     \n",
       "Wooden House           0.89   \n",
       "Shoot. Push. Repeat.   0.89   \n",
       "X2: The Threat         2.99   \n",
       "!AnyWay!               1.35   \n",
       "UBERMOSH:OMEGA         0.89   \n",
       "\n",
       "                                                         other_features  \\\n",
       "game_name                                                                 \n",
       "Wooden House          Single-player, Steam Trading Cards, Family Sha...   \n",
       "Shoot. Push. Repeat.  Single-player, Steam Achievements, Steam Cloud...   \n",
       "X2: The Threat        Single-player, Captions available, Steam Cloud...   \n",
       "!AnyWay!              Single-player, Steam Achievements, Steam Tradi...   \n",
       "UBERMOSH:OMEGA        Single-player, Steam Achievements, Family Sharing   \n",
       "\n",
       "                      age_restriction  rating  difficulty  length  \\\n",
       "game_name                                                           \n",
       "Wooden House                       17    1.24           3       1   \n",
       "Shoot. Push. Repeat.                0    3.64           1       3   \n",
       "X2: The Threat                     13    3.61           4      60   \n",
       "!AnyWay!                            0    3.00           3       2   \n",
       "UBERMOSH:OMEGA                     13    4.17           5      12   \n",
       "\n",
       "                      estimated_downloads  \n",
       "game_name                                  \n",
       "Wooden House                       221000  \n",
       "Shoot. Push. Repeat.                 2700  \n",
       "X2: The Threat                      47500  \n",
       "!AnyWay!                            79000  \n",
       "UBERMOSH:OMEGA                      14000  "
      ]
     },
     "execution_count": 18,
     "metadata": {},
     "output_type": "execute_result"
    }
   ],
   "source": [
    "# Exploramos las ultimas filas del dataframe para ver si hay datos faltantes o inconsistencias\n",
    "df.tail()"
   ]
  },
  {
   "cell_type": "markdown",
   "id": "fddf93d3",
   "metadata": {},
   "source": [
    "### Verificación de nulos"
   ]
  },
  {
   "cell_type": "code",
   "execution_count": 19,
   "id": "09b66305",
   "metadata": {},
   "outputs": [
    {
     "name": "stdout",
     "output_type": "stream",
     "text": [
      "¿Hay datos faltantes en el DataFrame? False\n",
      "\n",
      "Datos faltantes por columna:\n",
      "reviews_like_rate      0\n",
      "all_reviews_number     0\n",
      "release_date           0\n",
      "developer              0\n",
      "user_defined_tags      0\n",
      "supported_os           0\n",
      "supported_languages    0\n",
      "price                  0\n",
      "other_features         0\n",
      "age_restriction        0\n",
      "rating                 0\n",
      "difficulty             0\n",
      "length                 0\n",
      "estimated_downloads    0\n",
      "dtype: int64\n",
      "\n",
      "Porcentaje de datos faltantes por columna:\n",
      "reviews_like_rate      0.0\n",
      "all_reviews_number     0.0\n",
      "release_date           0.0\n",
      "developer              0.0\n",
      "user_defined_tags      0.0\n",
      "supported_os           0.0\n",
      "supported_languages    0.0\n",
      "price                  0.0\n",
      "other_features         0.0\n",
      "age_restriction        0.0\n",
      "rating                 0.0\n",
      "difficulty             0.0\n",
      "length                 0.0\n",
      "estimated_downloads    0.0\n",
      "dtype: float64\n"
     ]
    }
   ],
   "source": [
    "# Ver si hay algún valor faltante en general\n",
    "hay_nan = df.isnull().values.any()\n",
    "print(\"¿Hay datos faltantes en el DataFrame?\", hay_nan)\n",
    "\n",
    "# Ver la cantidad de valores faltantes por columna\n",
    "faltantes_por_columna = df.isnull().sum()\n",
    "print(\"\\nDatos faltantes por columna:\")\n",
    "print(faltantes_por_columna)\n",
    "\n",
    "# También podés ver un resumen más visual\n",
    "print(\"\\nPorcentaje de datos faltantes por columna:\")\n",
    "print((df.isnull().mean() * 100).round(2))\n"
   ]
  },
  {
   "cell_type": "markdown",
   "id": "18914162",
   "metadata": {},
   "source": [
    "---\n",
    "\n",
    "## Limpieza de datos mal formados\n",
    "\n",
    "Como ya mencionamos detectamos un pequeño error en dos entradas del dataset en las que una entrada separada por comas estuvo mal cargada habiendo una coma de más que causa la carga de un valor vacío. \n",
    "\n",
    "Estos son el juego Age of Wonders 4 en la columna de user_defined_tags y el juego Heaven Forest Nights en supported_os. \n",
    "\n",
    "Procedemos a corregirlo: \n"
   ]
  },
  {
   "cell_type": "code",
   "execution_count": 20,
   "id": "4eec9e94",
   "metadata": {},
   "outputs": [
    {
     "name": "stdout",
     "output_type": "stream",
     "text": [
      "Index(['reviews_like_rate', 'all_reviews_number', 'release_date', 'developer',\n",
      "       'user_defined_tags', 'supported_os', 'supported_languages', 'price',\n",
      "       'other_features', 'age_restriction', 'rating', 'difficulty', 'length',\n",
      "       'estimated_downloads'],\n",
      "      dtype='object')\n"
     ]
    }
   ],
   "source": [
    "print(df.columns)\n"
   ]
  },
  {
   "cell_type": "code",
   "execution_count": 21,
   "id": "dc911b94",
   "metadata": {},
   "outputs": [],
   "source": [
    "# Limpiamos\n",
    "for col in ['user_defined_tags', 'supported_os']:\n",
    "    if col in df.columns:\n",
    "        df[col] = df[col].astype(str).str.rstrip(', ')\n"
   ]
  },
  {
   "cell_type": "code",
   "execution_count": 22,
   "id": "794929d8",
   "metadata": {},
   "outputs": [
    {
     "data": {
      "application/vnd.microsoft.datawrangler.viewer.v0+json": {
       "columns": [
        {
         "name": "game_name",
         "rawType": "object",
         "type": "string"
        },
        {
         "name": "reviews_like_rate",
         "rawType": "int64",
         "type": "integer"
        },
        {
         "name": "all_reviews_number",
         "rawType": "int64",
         "type": "integer"
        },
        {
         "name": "release_date",
         "rawType": "object",
         "type": "string"
        },
        {
         "name": "developer",
         "rawType": "object",
         "type": "string"
        },
        {
         "name": "user_defined_tags",
         "rawType": "object",
         "type": "string"
        },
        {
         "name": "supported_os",
         "rawType": "object",
         "type": "string"
        },
        {
         "name": "supported_languages",
         "rawType": "object",
         "type": "string"
        },
        {
         "name": "price",
         "rawType": "float64",
         "type": "float"
        },
        {
         "name": "other_features",
         "rawType": "object",
         "type": "string"
        },
        {
         "name": "age_restriction",
         "rawType": "int64",
         "type": "integer"
        },
        {
         "name": "rating",
         "rawType": "float64",
         "type": "float"
        },
        {
         "name": "difficulty",
         "rawType": "int64",
         "type": "integer"
        },
        {
         "name": "length",
         "rawType": "int64",
         "type": "integer"
        },
        {
         "name": "estimated_downloads",
         "rawType": "int64",
         "type": "integer"
        }
       ],
       "ref": "7707ec6c-edbf-47cd-9c53-1b0ca4bebaff",
       "rows": [
        [
         "Counter-Strike 2",
         "86",
         "8803754",
         "21 Aug, 2012",
         "Valve",
         "FPS, Action, Tactical",
         "win, linux",
         "English, Czech, Danish, Dutch, Finnish, French, German, Hungarian, Italian, Japanese, Korean, Norwegian, Polish, Portuguese - Portugal, Portuguese - Brazil, Romanian, Russian, Simplified Chinese, Spanish - Spain, Swedish, Thai, Traditional Chinese, Turkish, Bulgarian, Ukrainian, Greek, Spanish - Latin America, Vietnamese, Indonesian",
         "0.0",
         "Cross-Platform Multiplayer, Steam Trading Cards, Steam Workshop, In-App Purchases, Stats, Remote Play on Phone, Remote Play on Tablet, Remote Play on TV, Steam Timeline",
         "17",
         "3.2",
         "4",
         "80",
         "306170000"
        ],
        [
         "PUBG: BATTLEGROUNDS",
         "59",
         "2554482",
         "21 Dec, 2017",
         "PUBG Corporation",
         "Survival, Shooter, Action, Tactical",
         "win",
         "English, Korean, Simplified Chinese, French, German, Spanish - Spain, Arabic, Japanese, Polish, Portuguese - Portugal, Russian, Turkish, Thai, Italian, Portuguese - Brazil, Traditional Chinese, Ukrainian",
         "0.0",
         "Online PvP, Stats, Remote Play on Phone, Remote Play on Tablet",
         "13",
         "3.1",
         "4",
         "73",
         "162350000"
        ],
        [
         "ELDEN RING NIGHTREIGN",
         "77",
         "53426",
         "30 May, 2025",
         "FromSoftware, Inc.",
         "Souls-like, Open World, Fantasy, RPG",
         "win",
         "English, Japanese, French, Italian, German, Spanish - Spain, Arabic, Korean, Polish, Portuguese - Brazil, Russian, Simplified Chinese, Spanish - Latin America, Thai, Traditional Chinese",
         "25.99",
         "Single-player, Online Co-op, Steam Achievements, Steam Cloud, Family Sharing",
         "17",
         "3.96",
         "4",
         "50",
         "840000"
        ],
        [
         "The Last of Us™ Part I",
         "79",
         "45424",
         "28 Mar, 2023",
         "Naughty Dog LLC",
         "Story Rich, Shooter, Survival, Horror",
         "win",
         "English, Italian, Spanish - Spain, Czech, Dutch, Greek, French, German, Danish, Finnish, Hungarian, Japanese, Korean, Norwegian, Polish, Portuguese - Brazil, Portuguese - Portugal, Russian, Simplified Chinese, Spanish - Latin America, Swedish, Thai, Traditional Chinese, Turkish, Croatian",
         "59.99",
         "Single-player, Steam Achievements, Steam Trading Cards, Steam Cloud, Remote Play on TV, Family Sharing",
         "17",
         "4.1",
         "3",
         "24",
         "2000000"
        ],
        [
         "Red Dead Redemption 2",
         "92",
         "672140",
         "5 Dec, 2019",
         "Rockstar Games",
         "Open World, Story Rich, Adventure, Realistic, Shooter, Sandbox",
         "win",
         "English, French, Italian, German, Spanish - Spain, Japanese, Korean, Polish, Portuguese - Portugal, Russian, Simplified Chinese, Spanish - Latin America, Traditional Chinese",
         "59.99",
         "Single-player, Online PvP, Online Co-op, Steam Achievements, In-App Purchases, Remote Play on Phone, Remote Play on Tablet",
         "17",
         "4.32",
         "3",
         "80",
         "21610000"
        ]
       ],
       "shape": {
        "columns": 14,
        "rows": 5
       }
      },
      "text/html": [
       "<div>\n",
       "<style scoped>\n",
       "    .dataframe tbody tr th:only-of-type {\n",
       "        vertical-align: middle;\n",
       "    }\n",
       "\n",
       "    .dataframe tbody tr th {\n",
       "        vertical-align: top;\n",
       "    }\n",
       "\n",
       "    .dataframe thead th {\n",
       "        text-align: right;\n",
       "    }\n",
       "</style>\n",
       "<table border=\"1\" class=\"dataframe\">\n",
       "  <thead>\n",
       "    <tr style=\"text-align: right;\">\n",
       "      <th></th>\n",
       "      <th>reviews_like_rate</th>\n",
       "      <th>all_reviews_number</th>\n",
       "      <th>release_date</th>\n",
       "      <th>developer</th>\n",
       "      <th>user_defined_tags</th>\n",
       "      <th>supported_os</th>\n",
       "      <th>supported_languages</th>\n",
       "      <th>price</th>\n",
       "      <th>other_features</th>\n",
       "      <th>age_restriction</th>\n",
       "      <th>rating</th>\n",
       "      <th>difficulty</th>\n",
       "      <th>length</th>\n",
       "      <th>estimated_downloads</th>\n",
       "    </tr>\n",
       "    <tr>\n",
       "      <th>game_name</th>\n",
       "      <th></th>\n",
       "      <th></th>\n",
       "      <th></th>\n",
       "      <th></th>\n",
       "      <th></th>\n",
       "      <th></th>\n",
       "      <th></th>\n",
       "      <th></th>\n",
       "      <th></th>\n",
       "      <th></th>\n",
       "      <th></th>\n",
       "      <th></th>\n",
       "      <th></th>\n",
       "      <th></th>\n",
       "    </tr>\n",
       "  </thead>\n",
       "  <tbody>\n",
       "    <tr>\n",
       "      <th>Counter-Strike 2</th>\n",
       "      <td>86</td>\n",
       "      <td>8803754</td>\n",
       "      <td>21 Aug, 2012</td>\n",
       "      <td>Valve</td>\n",
       "      <td>FPS, Action, Tactical</td>\n",
       "      <td>win, linux</td>\n",
       "      <td>English, Czech, Danish, Dutch, Finnish, French...</td>\n",
       "      <td>0.00</td>\n",
       "      <td>Cross-Platform Multiplayer, Steam Trading Card...</td>\n",
       "      <td>17</td>\n",
       "      <td>3.20</td>\n",
       "      <td>4</td>\n",
       "      <td>80</td>\n",
       "      <td>306170000</td>\n",
       "    </tr>\n",
       "    <tr>\n",
       "      <th>PUBG: BATTLEGROUNDS</th>\n",
       "      <td>59</td>\n",
       "      <td>2554482</td>\n",
       "      <td>21 Dec, 2017</td>\n",
       "      <td>PUBG Corporation</td>\n",
       "      <td>Survival, Shooter, Action, Tactical</td>\n",
       "      <td>win</td>\n",
       "      <td>English, Korean, Simplified Chinese, French, G...</td>\n",
       "      <td>0.00</td>\n",
       "      <td>Online PvP, Stats, Remote Play on Phone, Remot...</td>\n",
       "      <td>13</td>\n",
       "      <td>3.10</td>\n",
       "      <td>4</td>\n",
       "      <td>73</td>\n",
       "      <td>162350000</td>\n",
       "    </tr>\n",
       "    <tr>\n",
       "      <th>ELDEN RING NIGHTREIGN</th>\n",
       "      <td>77</td>\n",
       "      <td>53426</td>\n",
       "      <td>30 May, 2025</td>\n",
       "      <td>FromSoftware, Inc.</td>\n",
       "      <td>Souls-like, Open World, Fantasy, RPG</td>\n",
       "      <td>win</td>\n",
       "      <td>English, Japanese, French, Italian, German, Sp...</td>\n",
       "      <td>25.99</td>\n",
       "      <td>Single-player, Online Co-op, Steam Achievement...</td>\n",
       "      <td>17</td>\n",
       "      <td>3.96</td>\n",
       "      <td>4</td>\n",
       "      <td>50</td>\n",
       "      <td>840000</td>\n",
       "    </tr>\n",
       "    <tr>\n",
       "      <th>The Last of Us™ Part I</th>\n",
       "      <td>79</td>\n",
       "      <td>45424</td>\n",
       "      <td>28 Mar, 2023</td>\n",
       "      <td>Naughty Dog LLC</td>\n",
       "      <td>Story Rich, Shooter, Survival, Horror</td>\n",
       "      <td>win</td>\n",
       "      <td>English, Italian, Spanish - Spain, Czech, Dutc...</td>\n",
       "      <td>59.99</td>\n",
       "      <td>Single-player, Steam Achievements, Steam Tradi...</td>\n",
       "      <td>17</td>\n",
       "      <td>4.10</td>\n",
       "      <td>3</td>\n",
       "      <td>24</td>\n",
       "      <td>2000000</td>\n",
       "    </tr>\n",
       "    <tr>\n",
       "      <th>Red Dead Redemption 2</th>\n",
       "      <td>92</td>\n",
       "      <td>672140</td>\n",
       "      <td>5 Dec, 2019</td>\n",
       "      <td>Rockstar Games</td>\n",
       "      <td>Open World, Story Rich, Adventure, Realistic, ...</td>\n",
       "      <td>win</td>\n",
       "      <td>English, French, Italian, German, Spanish - Sp...</td>\n",
       "      <td>59.99</td>\n",
       "      <td>Single-player, Online PvP, Online Co-op, Steam...</td>\n",
       "      <td>17</td>\n",
       "      <td>4.32</td>\n",
       "      <td>3</td>\n",
       "      <td>80</td>\n",
       "      <td>21610000</td>\n",
       "    </tr>\n",
       "  </tbody>\n",
       "</table>\n",
       "</div>"
      ],
      "text/plain": [
       "                        reviews_like_rate  all_reviews_number  release_date  \\\n",
       "game_name                                                                     \n",
       "Counter-Strike 2                       86             8803754  21 Aug, 2012   \n",
       "PUBG: BATTLEGROUNDS                    59             2554482  21 Dec, 2017   \n",
       "ELDEN RING NIGHTREIGN                  77               53426  30 May, 2025   \n",
       "The Last of Us™ Part I                 79               45424  28 Mar, 2023   \n",
       "Red Dead Redemption 2                  92              672140   5 Dec, 2019   \n",
       "\n",
       "                                 developer  \\\n",
       "game_name                                    \n",
       "Counter-Strike 2                     Valve   \n",
       "PUBG: BATTLEGROUNDS       PUBG Corporation   \n",
       "ELDEN RING NIGHTREIGN   FromSoftware, Inc.   \n",
       "The Last of Us™ Part I     Naughty Dog LLC   \n",
       "Red Dead Redemption 2       Rockstar Games   \n",
       "\n",
       "                                                        user_defined_tags  \\\n",
       "game_name                                                                   \n",
       "Counter-Strike 2                                    FPS, Action, Tactical   \n",
       "PUBG: BATTLEGROUNDS                   Survival, Shooter, Action, Tactical   \n",
       "ELDEN RING NIGHTREIGN                Souls-like, Open World, Fantasy, RPG   \n",
       "The Last of Us™ Part I              Story Rich, Shooter, Survival, Horror   \n",
       "Red Dead Redemption 2   Open World, Story Rich, Adventure, Realistic, ...   \n",
       "\n",
       "                       supported_os  \\\n",
       "game_name                             \n",
       "Counter-Strike 2         win, linux   \n",
       "PUBG: BATTLEGROUNDS             win   \n",
       "ELDEN RING NIGHTREIGN           win   \n",
       "The Last of Us™ Part I          win   \n",
       "Red Dead Redemption 2           win   \n",
       "\n",
       "                                                      supported_languages  \\\n",
       "game_name                                                                   \n",
       "Counter-Strike 2        English, Czech, Danish, Dutch, Finnish, French...   \n",
       "PUBG: BATTLEGROUNDS     English, Korean, Simplified Chinese, French, G...   \n",
       "ELDEN RING NIGHTREIGN   English, Japanese, French, Italian, German, Sp...   \n",
       "The Last of Us™ Part I  English, Italian, Spanish - Spain, Czech, Dutc...   \n",
       "Red Dead Redemption 2   English, French, Italian, German, Spanish - Sp...   \n",
       "\n",
       "                        price  \\\n",
       "game_name                       \n",
       "Counter-Strike 2         0.00   \n",
       "PUBG: BATTLEGROUNDS      0.00   \n",
       "ELDEN RING NIGHTREIGN   25.99   \n",
       "The Last of Us™ Part I  59.99   \n",
       "Red Dead Redemption 2   59.99   \n",
       "\n",
       "                                                           other_features  \\\n",
       "game_name                                                                   \n",
       "Counter-Strike 2        Cross-Platform Multiplayer, Steam Trading Card...   \n",
       "PUBG: BATTLEGROUNDS     Online PvP, Stats, Remote Play on Phone, Remot...   \n",
       "ELDEN RING NIGHTREIGN   Single-player, Online Co-op, Steam Achievement...   \n",
       "The Last of Us™ Part I  Single-player, Steam Achievements, Steam Tradi...   \n",
       "Red Dead Redemption 2   Single-player, Online PvP, Online Co-op, Steam...   \n",
       "\n",
       "                        age_restriction  rating  difficulty  length  \\\n",
       "game_name                                                             \n",
       "Counter-Strike 2                     17    3.20           4      80   \n",
       "PUBG: BATTLEGROUNDS                  13    3.10           4      73   \n",
       "ELDEN RING NIGHTREIGN                17    3.96           4      50   \n",
       "The Last of Us™ Part I               17    4.10           3      24   \n",
       "Red Dead Redemption 2                17    4.32           3      80   \n",
       "\n",
       "                        estimated_downloads  \n",
       "game_name                                    \n",
       "Counter-Strike 2                  306170000  \n",
       "PUBG: BATTLEGROUNDS               162350000  \n",
       "ELDEN RING NIGHTREIGN                840000  \n",
       "The Last of Us™ Part I              2000000  \n",
       "Red Dead Redemption 2              21610000  "
      ]
     },
     "execution_count": 22,
     "metadata": {},
     "output_type": "execute_result"
    }
   ],
   "source": [
    "df.head()"
   ]
  },
  {
   "cell_type": "markdown",
   "id": "ec688f8d",
   "metadata": {},
   "source": [
    "---\n",
    "\n",
    "## Selección de features"
   ]
  },
  {
   "cell_type": "markdown",
   "id": "2173dbe5",
   "metadata": {},
   "source": [
    "---\n",
    "\n",
    "### Variables numéricas"
   ]
  },
  {
   "cell_type": "markdown",
   "id": "8fdf8c95",
   "metadata": {},
   "source": [
    "Nuestro objetivo es identificar qué variables son relevantes para predecir la variable objetivo review_like_rate, optimizando la calidad del modelo."
   ]
  },
  {
   "cell_type": "code",
   "execution_count": 23,
   "id": "e6b84e08",
   "metadata": {},
   "outputs": [],
   "source": [
    "df_features = df # Copiamos el dataset para trabajar en la selección de características"
   ]
  },
  {
   "cell_type": "code",
   "execution_count": 24,
   "id": "280327a6",
   "metadata": {},
   "outputs": [
    {
     "data": {
      "application/vnd.microsoft.datawrangler.viewer.v0+json": {
       "columns": [
        {
         "name": "game_name",
         "rawType": "object",
         "type": "string"
        },
        {
         "name": "reviews_like_rate",
         "rawType": "int64",
         "type": "integer"
        },
        {
         "name": "all_reviews_number",
         "rawType": "int64",
         "type": "integer"
        },
        {
         "name": "release_date",
         "rawType": "object",
         "type": "string"
        },
        {
         "name": "developer",
         "rawType": "object",
         "type": "string"
        },
        {
         "name": "user_defined_tags",
         "rawType": "object",
         "type": "string"
        },
        {
         "name": "supported_os",
         "rawType": "object",
         "type": "string"
        },
        {
         "name": "supported_languages",
         "rawType": "object",
         "type": "string"
        },
        {
         "name": "price",
         "rawType": "float64",
         "type": "float"
        },
        {
         "name": "other_features",
         "rawType": "object",
         "type": "string"
        },
        {
         "name": "age_restriction",
         "rawType": "int64",
         "type": "integer"
        },
        {
         "name": "rating",
         "rawType": "float64",
         "type": "float"
        },
        {
         "name": "difficulty",
         "rawType": "int64",
         "type": "integer"
        },
        {
         "name": "length",
         "rawType": "int64",
         "type": "integer"
        },
        {
         "name": "estimated_downloads",
         "rawType": "int64",
         "type": "integer"
        }
       ],
       "ref": "b0c3d4dd-442e-42ac-b423-71c91a5dde3f",
       "rows": [
        [
         "Counter-Strike 2",
         "86",
         "8803754",
         "21 Aug, 2012",
         "Valve",
         "FPS, Action, Tactical",
         "win, linux",
         "English, Czech, Danish, Dutch, Finnish, French, German, Hungarian, Italian, Japanese, Korean, Norwegian, Polish, Portuguese - Portugal, Portuguese - Brazil, Romanian, Russian, Simplified Chinese, Spanish - Spain, Swedish, Thai, Traditional Chinese, Turkish, Bulgarian, Ukrainian, Greek, Spanish - Latin America, Vietnamese, Indonesian",
         "0.0",
         "Cross-Platform Multiplayer, Steam Trading Cards, Steam Workshop, In-App Purchases, Stats, Remote Play on Phone, Remote Play on Tablet, Remote Play on TV, Steam Timeline",
         "17",
         "3.2",
         "4",
         "80",
         "306170000"
        ],
        [
         "PUBG: BATTLEGROUNDS",
         "59",
         "2554482",
         "21 Dec, 2017",
         "PUBG Corporation",
         "Survival, Shooter, Action, Tactical",
         "win",
         "English, Korean, Simplified Chinese, French, German, Spanish - Spain, Arabic, Japanese, Polish, Portuguese - Portugal, Russian, Turkish, Thai, Italian, Portuguese - Brazil, Traditional Chinese, Ukrainian",
         "0.0",
         "Online PvP, Stats, Remote Play on Phone, Remote Play on Tablet",
         "13",
         "3.1",
         "4",
         "73",
         "162350000"
        ],
        [
         "ELDEN RING NIGHTREIGN",
         "77",
         "53426",
         "30 May, 2025",
         "FromSoftware, Inc.",
         "Souls-like, Open World, Fantasy, RPG",
         "win",
         "English, Japanese, French, Italian, German, Spanish - Spain, Arabic, Korean, Polish, Portuguese - Brazil, Russian, Simplified Chinese, Spanish - Latin America, Thai, Traditional Chinese",
         "25.99",
         "Single-player, Online Co-op, Steam Achievements, Steam Cloud, Family Sharing",
         "17",
         "3.96",
         "4",
         "50",
         "840000"
        ],
        [
         "The Last of Us™ Part I",
         "79",
         "45424",
         "28 Mar, 2023",
         "Naughty Dog LLC",
         "Story Rich, Shooter, Survival, Horror",
         "win",
         "English, Italian, Spanish - Spain, Czech, Dutch, Greek, French, German, Danish, Finnish, Hungarian, Japanese, Korean, Norwegian, Polish, Portuguese - Brazil, Portuguese - Portugal, Russian, Simplified Chinese, Spanish - Latin America, Swedish, Thai, Traditional Chinese, Turkish, Croatian",
         "59.99",
         "Single-player, Steam Achievements, Steam Trading Cards, Steam Cloud, Remote Play on TV, Family Sharing",
         "17",
         "4.1",
         "3",
         "24",
         "2000000"
        ],
        [
         "Red Dead Redemption 2",
         "92",
         "672140",
         "5 Dec, 2019",
         "Rockstar Games",
         "Open World, Story Rich, Adventure, Realistic, Shooter, Sandbox",
         "win",
         "English, French, Italian, German, Spanish - Spain, Japanese, Korean, Polish, Portuguese - Portugal, Russian, Simplified Chinese, Spanish - Latin America, Traditional Chinese",
         "59.99",
         "Single-player, Online PvP, Online Co-op, Steam Achievements, In-App Purchases, Remote Play on Phone, Remote Play on Tablet",
         "17",
         "4.32",
         "3",
         "80",
         "21610000"
        ]
       ],
       "shape": {
        "columns": 14,
        "rows": 5
       }
      },
      "text/html": [
       "<div>\n",
       "<style scoped>\n",
       "    .dataframe tbody tr th:only-of-type {\n",
       "        vertical-align: middle;\n",
       "    }\n",
       "\n",
       "    .dataframe tbody tr th {\n",
       "        vertical-align: top;\n",
       "    }\n",
       "\n",
       "    .dataframe thead th {\n",
       "        text-align: right;\n",
       "    }\n",
       "</style>\n",
       "<table border=\"1\" class=\"dataframe\">\n",
       "  <thead>\n",
       "    <tr style=\"text-align: right;\">\n",
       "      <th></th>\n",
       "      <th>reviews_like_rate</th>\n",
       "      <th>all_reviews_number</th>\n",
       "      <th>release_date</th>\n",
       "      <th>developer</th>\n",
       "      <th>user_defined_tags</th>\n",
       "      <th>supported_os</th>\n",
       "      <th>supported_languages</th>\n",
       "      <th>price</th>\n",
       "      <th>other_features</th>\n",
       "      <th>age_restriction</th>\n",
       "      <th>rating</th>\n",
       "      <th>difficulty</th>\n",
       "      <th>length</th>\n",
       "      <th>estimated_downloads</th>\n",
       "    </tr>\n",
       "    <tr>\n",
       "      <th>game_name</th>\n",
       "      <th></th>\n",
       "      <th></th>\n",
       "      <th></th>\n",
       "      <th></th>\n",
       "      <th></th>\n",
       "      <th></th>\n",
       "      <th></th>\n",
       "      <th></th>\n",
       "      <th></th>\n",
       "      <th></th>\n",
       "      <th></th>\n",
       "      <th></th>\n",
       "      <th></th>\n",
       "      <th></th>\n",
       "    </tr>\n",
       "  </thead>\n",
       "  <tbody>\n",
       "    <tr>\n",
       "      <th>Counter-Strike 2</th>\n",
       "      <td>86</td>\n",
       "      <td>8803754</td>\n",
       "      <td>21 Aug, 2012</td>\n",
       "      <td>Valve</td>\n",
       "      <td>FPS, Action, Tactical</td>\n",
       "      <td>win, linux</td>\n",
       "      <td>English, Czech, Danish, Dutch, Finnish, French...</td>\n",
       "      <td>0.00</td>\n",
       "      <td>Cross-Platform Multiplayer, Steam Trading Card...</td>\n",
       "      <td>17</td>\n",
       "      <td>3.20</td>\n",
       "      <td>4</td>\n",
       "      <td>80</td>\n",
       "      <td>306170000</td>\n",
       "    </tr>\n",
       "    <tr>\n",
       "      <th>PUBG: BATTLEGROUNDS</th>\n",
       "      <td>59</td>\n",
       "      <td>2554482</td>\n",
       "      <td>21 Dec, 2017</td>\n",
       "      <td>PUBG Corporation</td>\n",
       "      <td>Survival, Shooter, Action, Tactical</td>\n",
       "      <td>win</td>\n",
       "      <td>English, Korean, Simplified Chinese, French, G...</td>\n",
       "      <td>0.00</td>\n",
       "      <td>Online PvP, Stats, Remote Play on Phone, Remot...</td>\n",
       "      <td>13</td>\n",
       "      <td>3.10</td>\n",
       "      <td>4</td>\n",
       "      <td>73</td>\n",
       "      <td>162350000</td>\n",
       "    </tr>\n",
       "    <tr>\n",
       "      <th>ELDEN RING NIGHTREIGN</th>\n",
       "      <td>77</td>\n",
       "      <td>53426</td>\n",
       "      <td>30 May, 2025</td>\n",
       "      <td>FromSoftware, Inc.</td>\n",
       "      <td>Souls-like, Open World, Fantasy, RPG</td>\n",
       "      <td>win</td>\n",
       "      <td>English, Japanese, French, Italian, German, Sp...</td>\n",
       "      <td>25.99</td>\n",
       "      <td>Single-player, Online Co-op, Steam Achievement...</td>\n",
       "      <td>17</td>\n",
       "      <td>3.96</td>\n",
       "      <td>4</td>\n",
       "      <td>50</td>\n",
       "      <td>840000</td>\n",
       "    </tr>\n",
       "    <tr>\n",
       "      <th>The Last of Us™ Part I</th>\n",
       "      <td>79</td>\n",
       "      <td>45424</td>\n",
       "      <td>28 Mar, 2023</td>\n",
       "      <td>Naughty Dog LLC</td>\n",
       "      <td>Story Rich, Shooter, Survival, Horror</td>\n",
       "      <td>win</td>\n",
       "      <td>English, Italian, Spanish - Spain, Czech, Dutc...</td>\n",
       "      <td>59.99</td>\n",
       "      <td>Single-player, Steam Achievements, Steam Tradi...</td>\n",
       "      <td>17</td>\n",
       "      <td>4.10</td>\n",
       "      <td>3</td>\n",
       "      <td>24</td>\n",
       "      <td>2000000</td>\n",
       "    </tr>\n",
       "    <tr>\n",
       "      <th>Red Dead Redemption 2</th>\n",
       "      <td>92</td>\n",
       "      <td>672140</td>\n",
       "      <td>5 Dec, 2019</td>\n",
       "      <td>Rockstar Games</td>\n",
       "      <td>Open World, Story Rich, Adventure, Realistic, ...</td>\n",
       "      <td>win</td>\n",
       "      <td>English, French, Italian, German, Spanish - Sp...</td>\n",
       "      <td>59.99</td>\n",
       "      <td>Single-player, Online PvP, Online Co-op, Steam...</td>\n",
       "      <td>17</td>\n",
       "      <td>4.32</td>\n",
       "      <td>3</td>\n",
       "      <td>80</td>\n",
       "      <td>21610000</td>\n",
       "    </tr>\n",
       "  </tbody>\n",
       "</table>\n",
       "</div>"
      ],
      "text/plain": [
       "                        reviews_like_rate  all_reviews_number  release_date  \\\n",
       "game_name                                                                     \n",
       "Counter-Strike 2                       86             8803754  21 Aug, 2012   \n",
       "PUBG: BATTLEGROUNDS                    59             2554482  21 Dec, 2017   \n",
       "ELDEN RING NIGHTREIGN                  77               53426  30 May, 2025   \n",
       "The Last of Us™ Part I                 79               45424  28 Mar, 2023   \n",
       "Red Dead Redemption 2                  92              672140   5 Dec, 2019   \n",
       "\n",
       "                                 developer  \\\n",
       "game_name                                    \n",
       "Counter-Strike 2                     Valve   \n",
       "PUBG: BATTLEGROUNDS       PUBG Corporation   \n",
       "ELDEN RING NIGHTREIGN   FromSoftware, Inc.   \n",
       "The Last of Us™ Part I     Naughty Dog LLC   \n",
       "Red Dead Redemption 2       Rockstar Games   \n",
       "\n",
       "                                                        user_defined_tags  \\\n",
       "game_name                                                                   \n",
       "Counter-Strike 2                                    FPS, Action, Tactical   \n",
       "PUBG: BATTLEGROUNDS                   Survival, Shooter, Action, Tactical   \n",
       "ELDEN RING NIGHTREIGN                Souls-like, Open World, Fantasy, RPG   \n",
       "The Last of Us™ Part I              Story Rich, Shooter, Survival, Horror   \n",
       "Red Dead Redemption 2   Open World, Story Rich, Adventure, Realistic, ...   \n",
       "\n",
       "                       supported_os  \\\n",
       "game_name                             \n",
       "Counter-Strike 2         win, linux   \n",
       "PUBG: BATTLEGROUNDS             win   \n",
       "ELDEN RING NIGHTREIGN           win   \n",
       "The Last of Us™ Part I          win   \n",
       "Red Dead Redemption 2           win   \n",
       "\n",
       "                                                      supported_languages  \\\n",
       "game_name                                                                   \n",
       "Counter-Strike 2        English, Czech, Danish, Dutch, Finnish, French...   \n",
       "PUBG: BATTLEGROUNDS     English, Korean, Simplified Chinese, French, G...   \n",
       "ELDEN RING NIGHTREIGN   English, Japanese, French, Italian, German, Sp...   \n",
       "The Last of Us™ Part I  English, Italian, Spanish - Spain, Czech, Dutc...   \n",
       "Red Dead Redemption 2   English, French, Italian, German, Spanish - Sp...   \n",
       "\n",
       "                        price  \\\n",
       "game_name                       \n",
       "Counter-Strike 2         0.00   \n",
       "PUBG: BATTLEGROUNDS      0.00   \n",
       "ELDEN RING NIGHTREIGN   25.99   \n",
       "The Last of Us™ Part I  59.99   \n",
       "Red Dead Redemption 2   59.99   \n",
       "\n",
       "                                                           other_features  \\\n",
       "game_name                                                                   \n",
       "Counter-Strike 2        Cross-Platform Multiplayer, Steam Trading Card...   \n",
       "PUBG: BATTLEGROUNDS     Online PvP, Stats, Remote Play on Phone, Remot...   \n",
       "ELDEN RING NIGHTREIGN   Single-player, Online Co-op, Steam Achievement...   \n",
       "The Last of Us™ Part I  Single-player, Steam Achievements, Steam Tradi...   \n",
       "Red Dead Redemption 2   Single-player, Online PvP, Online Co-op, Steam...   \n",
       "\n",
       "                        age_restriction  rating  difficulty  length  \\\n",
       "game_name                                                             \n",
       "Counter-Strike 2                     17    3.20           4      80   \n",
       "PUBG: BATTLEGROUNDS                  13    3.10           4      73   \n",
       "ELDEN RING NIGHTREIGN                17    3.96           4      50   \n",
       "The Last of Us™ Part I               17    4.10           3      24   \n",
       "Red Dead Redemption 2                17    4.32           3      80   \n",
       "\n",
       "                        estimated_downloads  \n",
       "game_name                                    \n",
       "Counter-Strike 2                  306170000  \n",
       "PUBG: BATTLEGROUNDS               162350000  \n",
       "ELDEN RING NIGHTREIGN                840000  \n",
       "The Last of Us™ Part I              2000000  \n",
       "Red Dead Redemption 2              21610000  "
      ]
     },
     "execution_count": 24,
     "metadata": {},
     "output_type": "execute_result"
    }
   ],
   "source": [
    "df_features.head()"
   ]
  },
  {
   "cell_type": "code",
   "execution_count": 25,
   "id": "b3d74594",
   "metadata": {},
   "outputs": [
    {
     "data": {
      "image/png": "[encoded data removed]",
      "text/plain": [
       "<Figure size 1000x600 with 2 Axes>"
      ]
     },
     "metadata": {},
     "output_type": "display_data"
    }
   ],
   "source": [
    "# Seleccionamos las variables numéricas\n",
    "numerical_features = df_features.select_dtypes(include=[np.number])\n",
    "correlation_matrix = numerical_features.corr()\n",
    "\n",
    "# Ordenamos por la VO\n",
    "correlation_with_target = correlation_matrix[\"reviews_like_rate\"].sort_values(ascending=False)\n",
    "\n",
    "plt.figure(figsize=(10, 6))\n",
    "sns.heatmap(correlation_with_target.to_frame(), annot=True, cmap=\"coolwarm\")\n",
    "plt.title(\"Correlación de variables numéricas con la variable objetivo\")\n",
    "plt.show()\n"
   ]
  },
  {
   "cell_type": "markdown",
   "id": "ef1f56d0",
   "metadata": {},
   "source": [
    "### Rating"
   ]
  },
  {
   "cell_type": "markdown",
   "id": "0c047bae",
   "metadata": {},
   "source": [
    "Como puede verse, entre las variables numéricas, solamente la variable \"rating\" es la que tiene una correlación significativa con la variable objetivo. Dada la naturaleza de ambas variables sería esperable que así fuera ya que ambas son diferentes maneras de calificar los juegos por parte de los usuarios, sin embargo nos resulta interesante ver que la correlación no es tan alta como sería esperable.\n",
    "\n",
    "Esto sugiere que, si bien rating y reviews_like_rate están relacionadas, no son equivalentes. Esto puede deberse a que cada una captura aspectos distintos de la percepción de los usuarios: mientras que review_like_rate se basa en un esquema binario de likes/dislikes, rating refleja una calificación entre 1 y 5 estrellas.\n",
    "\n",
    "Decidimos entonces **mantener la variable rating** como feature, ya que aporta información relevante pero no completamente redundante con la variable objetivo. Además, al no ser una variable derivada directa de review_like_rate, su inclusión puede mejorar la capacidad predictiva del modelo sin generar data leakage.\n",
    "\n",
    "---\n"
   ]
  },
  {
   "cell_type": "code",
   "execution_count": 26,
   "id": "e06f49f2",
   "metadata": {},
   "outputs": [
    {
     "name": "stdout",
     "output_type": "stream",
     "text": [
      "Modelo con solo rating - R² promedio: 0.2627\n"
     ]
    }
   ],
   "source": [
    "\n",
    "from sklearn.linear_model import LinearRegression\n",
    "from sklearn.model_selection import cross_val_score\n",
    "\n",
    "# Dataset solo con rating como feature\n",
    "X_rating = df_features[[\"rating\"]]\n",
    "y = df_features[\"reviews_like_rate\"]\n",
    "\n",
    "# Regresión lineal simple\n",
    "model_rating_only = LinearRegression()\n",
    "scores_rating = cross_val_score(model_rating_only, X_rating, y, cv=5, scoring='r2')\n",
    "print(f\"Modelo con solo rating - R² promedio: {scores_rating.mean():.4f}\")\n"
   ]
  },
  {
   "cell_type": "markdown",
   "id": "a0a8742f",
   "metadata": {},
   "source": [
    "Realizamos esta prueba para corroborar el valor de R² solamente con la variable ratings y obtuvimos un promedio de 0.26, lo que significa que esta variable es capaz de explicar cerca del 26% de la variablidad de la VO."
   ]
  },
  {
   "cell_type": "code",
   "execution_count": 27,
   "id": "c88bd5c9",
   "metadata": {},
   "outputs": [
    {
     "data": {
      "image/png": "[encoded data removed]",
      "text/plain": [
       "<Figure size 640x480 with 1 Axes>"
      ]
     },
     "metadata": {},
     "output_type": "display_data"
    }
   ],
   "source": [
    "# %%\n",
    "sns.scatterplot(data=df_features, x='rating', y='reviews_like_rate', alpha=0.3)\n",
    "plt.title(\"Relación entre rating y reviews_like_rate\")\n",
    "plt.xlabel(\"Rating\")\n",
    "plt.ylabel(\"Review Like Rate\")\n",
    "plt.show()\n"
   ]
  },
  {
   "cell_type": "markdown",
   "id": "1d04949f",
   "metadata": {},
   "source": [
    "El gráfico de dispersión entre las variables muestra una tendencia lineal entre ambas variables, lo cual confirma que a mayor calificación promedio, tiende a haber una mayor proporción de reseñas positivas. Sin embargo, también se observa bastante dispersión vertical para un mismo valor de rating, especialmente entre 3 y 4 estrellas. Esto refuerza lo encontrado en el análisis de R²: si bien rating tiene poder explicativo, no es suficiente por sí sola para capturar completamente el comportamiento de la variable objetivo. La presencia de muchos puntos con rating similar pero review_like_rate muy diferente sugiere que hay otros factores relevantes en juego, que seguiremos viendo a continuación."
   ]
  },
  {
   "cell_type": "markdown",
   "id": "006bba9a",
   "metadata": {},
   "source": [
    "### Demás variables numéricas"
   ]
  },
  {
   "cell_type": "markdown",
   "id": "37694e1d",
   "metadata": {},
   "source": [
    "Si bien algunas variables numéricas muestran una correlación baja con la variable objetivo, decidimos no descartarlas en esta etapa. La correlación no mide el aporte de una variable al modelo en combinación con otras, ni captura relaciones no lineales. Por eso, como se trabajó en clase, vamos a tratar de evaluar el valor predictivo de estas utilizando Lasso."
   ]
  },
  {
   "cell_type": "code",
   "execution_count": 28,
   "id": "c7360c91",
   "metadata": {},
   "outputs": [
    {
     "name": "stdout",
     "output_type": "stream",
     "text": [
      "Coeficientes obtenidos con Lasso:\n",
      "all_reviews_number     0.0\n",
      "estimated_downloads    0.0\n",
      "length                 0.0\n",
      "difficulty            -0.0\n",
      "price                 -0.0\n",
      "age_restriction       -0.0\n",
      "dtype: float64\n"
     ]
    }
   ],
   "source": [
    "from sklearn.linear_model import LassoCV\n",
    "from sklearn.preprocessing import StandardScaler\n",
    "\n",
    "# Variables numéricas con baja correlación\n",
    "numerical_vars = ['all_reviews_number', 'estimated_downloads', 'length', 'difficulty', 'price', 'age_restriction']\n",
    "X = df_features[numerical_vars]\n",
    "y = df_features[\"reviews_like_rate\"]\n",
    "\n",
    "# Escalamos los datos\n",
    "scaler = StandardScaler()\n",
    "X_scaled = scaler.fit_transform(X)\n",
    "\n",
    "# Aplicamos Lasso con validación cruzada (cv=5)\n",
    "lasso = LassoCV(cv=5, random_state=0)\n",
    "lasso.fit(X_scaled, y)\n",
    "\n",
    "# Asociamos los coeficientes aprendidos a las variables\n",
    "coef = pd.Series(lasso.coef_, index=numerical_vars)\n",
    "\n",
    "# Mostramos los resultados\n",
    "print(\"Coeficientes obtenidos con Lasso:\")\n",
    "print(coef)\n"
   ]
  },
  {
   "cell_type": "markdown",
   "id": "4bf624ec",
   "metadata": {},
   "source": [
    "Habiendo aplicado Lasso podemos ver claramente que tampoco desde el punto de vista multivariable se nota una relación lineal entre estas variables y la VO. Esto nos resulta un poco inesperado ya que creíamos que sería un factor a tener en cuenta el precio (variable price) que alguien paga por un juego y las chances de que quede conforme con él, o la popularidad del mismo (variable estimated_downloads) y qué tan bueno se percibe que es, por poner ejemplos.  \n",
    "\n",
    "\n",
    "Por esta razón decidimos realizar un último análisis de tipo no lineal con un RandomForestRegresor, esto nos va a ayudar a ver si hay relaciones subyacentes de tipo no lineal operando y si esto confirma o no nuestras sospechas."
   ]
  },
  {
   "cell_type": "code",
   "execution_count": 29,
   "id": "cda94efd",
   "metadata": {},
   "outputs": [
    {
     "name": "stdout",
     "output_type": "stream",
     "text": [
      "Random Forest - R² promedio: 0.0940\n"
     ]
    }
   ],
   "source": [
    "from sklearn.ensemble import RandomForestRegressor\n",
    "from sklearn.model_selection import cross_val_score\n",
    "\n",
    "X = df_features[['all_reviews_number', 'estimated_downloads', 'length', 'difficulty', 'price', 'age_restriction']]\n",
    "y = df_features['reviews_like_rate']\n",
    "rf_model = RandomForestRegressor(random_state=0)\n",
    "rf_scores = cross_val_score(rf_model, X, y, cv=5, scoring='r2')\n",
    "print(f\"Random Forest - R² promedio: {rf_scores.mean():.4f}\")"
   ]
  },
  {
   "cell_type": "markdown",
   "id": "c213cf34",
   "metadata": {},
   "source": [
    "El resultado (R² = 0.094) indica que incluso con un modelo capaz de capturar relaciones complejas, estas variables tienen un poder predictivo muy limitado respecto a reviews_like_rate. Nuestras sospechas no se corroboran. Procedemos a eliminar estas variables de las features. "
   ]
  },
  {
   "cell_type": "code",
   "execution_count": 30,
   "id": "3e4d8764",
   "metadata": {},
   "outputs": [
    {
     "data": {
      "application/vnd.microsoft.datawrangler.viewer.v0+json": {
       "columns": [
        {
         "name": "game_name",
         "rawType": "object",
         "type": "string"
        },
        {
         "name": "reviews_like_rate",
         "rawType": "int64",
         "type": "integer"
        },
        {
         "name": "release_date",
         "rawType": "object",
         "type": "string"
        },
        {
         "name": "developer",
         "rawType": "object",
         "type": "string"
        },
        {
         "name": "user_defined_tags",
         "rawType": "object",
         "type": "string"
        },
        {
         "name": "supported_os",
         "rawType": "object",
         "type": "string"
        },
        {
         "name": "supported_languages",
         "rawType": "object",
         "type": "string"
        },
        {
         "name": "other_features",
         "rawType": "object",
         "type": "string"
        },
        {
         "name": "rating",
         "rawType": "float64",
         "type": "float"
        }
       ],
       "ref": "4db4fb47-8307-40a1-8d4c-b97e640c5283",
       "rows": [
        [
         "Counter-Strike 2",
         "86",
         "21 Aug, 2012",
         "Valve",
         "FPS, Action, Tactical",
         "win, linux",
         "English, Czech, Danish, Dutch, Finnish, French, German, Hungarian, Italian, Japanese, Korean, Norwegian, Polish, Portuguese - Portugal, Portuguese - Brazil, Romanian, Russian, Simplified Chinese, Spanish - Spain, Swedish, Thai, Traditional Chinese, Turkish, Bulgarian, Ukrainian, Greek, Spanish - Latin America, Vietnamese, Indonesian",
         "Cross-Platform Multiplayer, Steam Trading Cards, Steam Workshop, In-App Purchases, Stats, Remote Play on Phone, Remote Play on Tablet, Remote Play on TV, Steam Timeline",
         "3.2"
        ],
        [
         "PUBG: BATTLEGROUNDS",
         "59",
         "21 Dec, 2017",
         "PUBG Corporation",
         "Survival, Shooter, Action, Tactical",
         "win",
         "English, Korean, Simplified Chinese, French, German, Spanish - Spain, Arabic, Japanese, Polish, Portuguese - Portugal, Russian, Turkish, Thai, Italian, Portuguese - Brazil, Traditional Chinese, Ukrainian",
         "Online PvP, Stats, Remote Play on Phone, Remote Play on Tablet",
         "3.1"
        ],
        [
         "ELDEN RING NIGHTREIGN",
         "77",
         "30 May, 2025",
         "FromSoftware, Inc.",
         "Souls-like, Open World, Fantasy, RPG",
         "win",
         "English, Japanese, French, Italian, German, Spanish - Spain, Arabic, Korean, Polish, Portuguese - Brazil, Russian, Simplified Chinese, Spanish - Latin America, Thai, Traditional Chinese",
         "Single-player, Online Co-op, Steam Achievements, Steam Cloud, Family Sharing",
         "3.96"
        ],
        [
         "The Last of Us™ Part I",
         "79",
         "28 Mar, 2023",
         "Naughty Dog LLC",
         "Story Rich, Shooter, Survival, Horror",
         "win",
         "English, Italian, Spanish - Spain, Czech, Dutch, Greek, French, German, Danish, Finnish, Hungarian, Japanese, Korean, Norwegian, Polish, Portuguese - Brazil, Portuguese - Portugal, Russian, Simplified Chinese, Spanish - Latin America, Swedish, Thai, Traditional Chinese, Turkish, Croatian",
         "Single-player, Steam Achievements, Steam Trading Cards, Steam Cloud, Remote Play on TV, Family Sharing",
         "4.1"
        ],
        [
         "Red Dead Redemption 2",
         "92",
         "5 Dec, 2019",
         "Rockstar Games",
         "Open World, Story Rich, Adventure, Realistic, Shooter, Sandbox",
         "win",
         "English, French, Italian, German, Spanish - Spain, Japanese, Korean, Polish, Portuguese - Portugal, Russian, Simplified Chinese, Spanish - Latin America, Traditional Chinese",
         "Single-player, Online PvP, Online Co-op, Steam Achievements, In-App Purchases, Remote Play on Phone, Remote Play on Tablet",
         "4.32"
        ]
       ],
       "shape": {
        "columns": 8,
        "rows": 5
       }
      },
      "text/html": [
       "<div>\n",
       "<style scoped>\n",
       "    .dataframe tbody tr th:only-of-type {\n",
       "        vertical-align: middle;\n",
       "    }\n",
       "\n",
       "    .dataframe tbody tr th {\n",
       "        vertical-align: top;\n",
       "    }\n",
       "\n",
       "    .dataframe thead th {\n",
       "        text-align: right;\n",
       "    }\n",
       "</style>\n",
       "<table border=\"1\" class=\"dataframe\">\n",
       "  <thead>\n",
       "    <tr style=\"text-align: right;\">\n",
       "      <th></th>\n",
       "      <th>reviews_like_rate</th>\n",
       "      <th>release_date</th>\n",
       "      <th>developer</th>\n",
       "      <th>user_defined_tags</th>\n",
       "      <th>supported_os</th>\n",
       "      <th>supported_languages</th>\n",
       "      <th>other_features</th>\n",
       "      <th>rating</th>\n",
       "    </tr>\n",
       "    <tr>\n",
       "      <th>game_name</th>\n",
       "      <th></th>\n",
       "      <th></th>\n",
       "      <th></th>\n",
       "      <th></th>\n",
       "      <th></th>\n",
       "      <th></th>\n",
       "      <th></th>\n",
       "      <th></th>\n",
       "    </tr>\n",
       "  </thead>\n",
       "  <tbody>\n",
       "    <tr>\n",
       "      <th>Counter-Strike 2</th>\n",
       "      <td>86</td>\n",
       "      <td>21 Aug, 2012</td>\n",
       "      <td>Valve</td>\n",
       "      <td>FPS, Action, Tactical</td>\n",
       "      <td>win, linux</td>\n",
       "      <td>English, Czech, Danish, Dutch, Finnish, French...</td>\n",
       "      <td>Cross-Platform Multiplayer, Steam Trading Card...</td>\n",
       "      <td>3.20</td>\n",
       "    </tr>\n",
       "    <tr>\n",
       "      <th>PUBG: BATTLEGROUNDS</th>\n",
       "      <td>59</td>\n",
       "      <td>21 Dec, 2017</td>\n",
       "      <td>PUBG Corporation</td>\n",
       "      <td>Survival, Shooter, Action, Tactical</td>\n",
       "      <td>win</td>\n",
       "      <td>English, Korean, Simplified Chinese, French, G...</td>\n",
       "      <td>Online PvP, Stats, Remote Play on Phone, Remot...</td>\n",
       "      <td>3.10</td>\n",
       "    </tr>\n",
       "    <tr>\n",
       "      <th>ELDEN RING NIGHTREIGN</th>\n",
       "      <td>77</td>\n",
       "      <td>30 May, 2025</td>\n",
       "      <td>FromSoftware, Inc.</td>\n",
       "      <td>Souls-like, Open World, Fantasy, RPG</td>\n",
       "      <td>win</td>\n",
       "      <td>English, Japanese, French, Italian, German, Sp...</td>\n",
       "      <td>Single-player, Online Co-op, Steam Achievement...</td>\n",
       "      <td>3.96</td>\n",
       "    </tr>\n",
       "    <tr>\n",
       "      <th>The Last of Us™ Part I</th>\n",
       "      <td>79</td>\n",
       "      <td>28 Mar, 2023</td>\n",
       "      <td>Naughty Dog LLC</td>\n",
       "      <td>Story Rich, Shooter, Survival, Horror</td>\n",
       "      <td>win</td>\n",
       "      <td>English, Italian, Spanish - Spain, Czech, Dutc...</td>\n",
       "      <td>Single-player, Steam Achievements, Steam Tradi...</td>\n",
       "      <td>4.10</td>\n",
       "    </tr>\n",
       "    <tr>\n",
       "      <th>Red Dead Redemption 2</th>\n",
       "      <td>92</td>\n",
       "      <td>5 Dec, 2019</td>\n",
       "      <td>Rockstar Games</td>\n",
       "      <td>Open World, Story Rich, Adventure, Realistic, ...</td>\n",
       "      <td>win</td>\n",
       "      <td>English, French, Italian, German, Spanish - Sp...</td>\n",
       "      <td>Single-player, Online PvP, Online Co-op, Steam...</td>\n",
       "      <td>4.32</td>\n",
       "    </tr>\n",
       "  </tbody>\n",
       "</table>\n",
       "</div>"
      ],
      "text/plain": [
       "                        reviews_like_rate  release_date           developer  \\\n",
       "game_name                                                                     \n",
       "Counter-Strike 2                       86  21 Aug, 2012               Valve   \n",
       "PUBG: BATTLEGROUNDS                    59  21 Dec, 2017    PUBG Corporation   \n",
       "ELDEN RING NIGHTREIGN                  77  30 May, 2025  FromSoftware, Inc.   \n",
       "The Last of Us™ Part I                 79  28 Mar, 2023     Naughty Dog LLC   \n",
       "Red Dead Redemption 2                  92   5 Dec, 2019      Rockstar Games   \n",
       "\n",
       "                                                        user_defined_tags  \\\n",
       "game_name                                                                   \n",
       "Counter-Strike 2                                    FPS, Action, Tactical   \n",
       "PUBG: BATTLEGROUNDS                   Survival, Shooter, Action, Tactical   \n",
       "ELDEN RING NIGHTREIGN                Souls-like, Open World, Fantasy, RPG   \n",
       "The Last of Us™ Part I              Story Rich, Shooter, Survival, Horror   \n",
       "Red Dead Redemption 2   Open World, Story Rich, Adventure, Realistic, ...   \n",
       "\n",
       "                       supported_os  \\\n",
       "game_name                             \n",
       "Counter-Strike 2         win, linux   \n",
       "PUBG: BATTLEGROUNDS             win   \n",
       "ELDEN RING NIGHTREIGN           win   \n",
       "The Last of Us™ Part I          win   \n",
       "Red Dead Redemption 2           win   \n",
       "\n",
       "                                                      supported_languages  \\\n",
       "game_name                                                                   \n",
       "Counter-Strike 2        English, Czech, Danish, Dutch, Finnish, French...   \n",
       "PUBG: BATTLEGROUNDS     English, Korean, Simplified Chinese, French, G...   \n",
       "ELDEN RING NIGHTREIGN   English, Japanese, French, Italian, German, Sp...   \n",
       "The Last of Us™ Part I  English, Italian, Spanish - Spain, Czech, Dutc...   \n",
       "Red Dead Redemption 2   English, French, Italian, German, Spanish - Sp...   \n",
       "\n",
       "                                                           other_features  \\\n",
       "game_name                                                                   \n",
       "Counter-Strike 2        Cross-Platform Multiplayer, Steam Trading Card...   \n",
       "PUBG: BATTLEGROUNDS     Online PvP, Stats, Remote Play on Phone, Remot...   \n",
       "ELDEN RING NIGHTREIGN   Single-player, Online Co-op, Steam Achievement...   \n",
       "The Last of Us™ Part I  Single-player, Steam Achievements, Steam Tradi...   \n",
       "Red Dead Redemption 2   Single-player, Online PvP, Online Co-op, Steam...   \n",
       "\n",
       "                        rating  \n",
       "game_name                       \n",
       "Counter-Strike 2          3.20  \n",
       "PUBG: BATTLEGROUNDS       3.10  \n",
       "ELDEN RING NIGHTREIGN     3.96  \n",
       "The Last of Us™ Part I    4.10  \n",
       "Red Dead Redemption 2     4.32  "
      ]
     },
     "execution_count": 30,
     "metadata": {},
     "output_type": "execute_result"
    }
   ],
   "source": [
    "variables_a_eliminar = ['all_reviews_number', 'estimated_downloads', 'length', 'difficulty', 'price', 'age_restriction']\n",
    "df_features = df_features.drop(columns=variables_a_eliminar)\n",
    "\n",
    "df_features.head()\n"
   ]
  },
  {
   "cell_type": "markdown",
   "id": "cd1b936d",
   "metadata": {},
   "source": [
    "---\n",
    "\n",
    "### Variables categóricas"
   ]
  },
  {
   "cell_type": "markdown",
   "id": "18974eeb",
   "metadata": {},
   "source": [
    "### Fechas\n",
    "\n",
    "Decidimos tratar la columa de la fecha de salida de los juegos separándola en dos columnas nuevas, una para el año y otra para el mes.\n",
    "Las dos nos parecen interesantes para la variable objetivo elegida ya que nuestra hipótesis es que el gusto o la forma en la que los \n",
    "usuarios califican los juegos puede variar con los años (así como la calidad de los mismos) y también dependiendo de la época del año (ej: si los compran durante rebajas)."
   ]
  },
  {
   "cell_type": "code",
   "execution_count": 31,
   "id": "81563ece",
   "metadata": {},
   "outputs": [
    {
     "name": "stderr",
     "output_type": "stream",
     "text": [
      "C:\\Users\\matim\\AppData\\Local\\Temp\\ipykernel_7412\\262895994.py:2: UserWarning: Could not infer format, so each element will be parsed individually, falling back to `dateutil`. To ensure parsing is consistent and as-expected, please specify a format.\n",
      "  df_features[\"release_date\"] = pd.to_datetime(df_features[\"release_date\"], errors=\"coerce\")\n"
     ]
    }
   ],
   "source": [
    "# Pasamos a la columna release_date a formato datetime\n",
    "df_features[\"release_date\"] = pd.to_datetime(df_features[\"release_date\"], errors=\"coerce\")\n",
    "\n",
    "#Creamos columnas para el año y el mes de publicación\n",
    "df_features[\"release_year\"] = df_features[\"release_date\"].dt.year\n",
    "df_features[\"release_month\"] = df_features[\"release_date\"].dt.month\n",
    "#Quitamos la columna original de release_date ya que ya no la necesitamos\n",
    "df_features.drop(columns=[\"release_date\"], inplace=True)"
   ]
  },
  {
   "cell_type": "markdown",
   "id": "8747fc60",
   "metadata": {},
   "source": [
    "### Lenguajes\n",
    "\n",
    "Sobre los lenguajes que los juegos soportan vamos a realizar un análisis de correlación con la variable objetivo para ver si es necesario \n",
    "tratar con los mismos."
   ]
  },
  {
   "cell_type": "code",
   "execution_count": 32,
   "id": "62875675",
   "metadata": {},
   "outputs": [
    {
     "name": "stdout",
     "output_type": "stream",
     "text": [
      "Resumen general de correlaciones:\n",
      "\n",
      "   max_correlation  min_correlation  mean_correlation  total_languages\n",
      "0         0.086336        -0.070891          0.010178               58\n",
      "\n",
      "Correlación entre n_languages y reviews_like_rate: 0.052593\n"
     ]
    }
   ],
   "source": [
    "from sklearn.preprocessing import MultiLabelBinarizer\n",
    "\n",
    "# Convertimos la columna en listas\n",
    "df_features['supported_languages'] = df_features['supported_languages'].apply(\n",
    "    lambda x: [lang.strip() for lang in x.split(',') if lang.strip()]\n",
    ")\n",
    "\n",
    "# Binarizamos para el cálculo de correlación\n",
    "mlb = MultiLabelBinarizer()\n",
    "lang_dummies = pd.DataFrame(\n",
    "    mlb.fit_transform(df['supported_languages']),\n",
    "    columns=mlb.classes_,\n",
    "    index=df.index\n",
    ")\n",
    "\n",
    "# Unimos con la variable objetivo\n",
    "df_lang_corr = pd.concat([df_features[['reviews_like_rate']], lang_dummies], axis=1)\n",
    "\n",
    "# Calculamos correlación\n",
    "correlations = df_lang_corr.corr()['reviews_like_rate'].drop('reviews_like_rate')\n",
    "\n",
    "# Mostramos\n",
    "summary = pd.DataFrame({\n",
    "    'max_correlation': [correlations.max()],\n",
    "    'min_correlation': [correlations.min()],\n",
    "    'mean_correlation': [correlations.mean()],\n",
    "    'total_languages': [correlations.shape[0]]\n",
    "})\n",
    "\n",
    "print(\"Resumen general de correlaciones:\\n\")\n",
    "print(summary)\n",
    "\n",
    "# Creamos una nueva variable con la cantidad total de idiomas soportados\n",
    "df_features['n_languages'] = df_features['supported_languages'].apply(len)\n",
    "\n",
    "# Calculamos la correlación \n",
    "correlation = df_features[['n_languages', 'reviews_like_rate']].corr().iloc[0, 1]\n",
    "\n",
    "# Mostramos el resultado\n",
    "print()\n",
    "print(f\"Correlación entre n_languages y reviews_like_rate: {correlation:.6f}\")\n",
    "\n",
    "df_features.drop(columns=[\"supported_languages\", \"n_languages\"], inplace=True)"
   ]
  },
  {
   "cell_type": "markdown",
   "id": "5e66aa97",
   "metadata": {},
   "source": [
    "La máxima correlación es de apenas 0.086, y el promedio absoluto de las correlaciones es de solo 0.043. \n",
    "Esto significa para nosotros que esta variable, al menos en su forma actual, no ofrece información útil para \n",
    "la predicción y podría descartarse del modelo.\n",
    "También probamos con una nueva variable que contaba la cantidad de lenguajes soportados por cada juego, y la misma tampoco\n",
    "mostró una correlación significativa con la variable objetivo, por lo que también la descartamos."
   ]
  },
  {
   "cell_type": "markdown",
   "id": "cff53341",
   "metadata": {},
   "source": [
    "La correlación entre las dos variables es de 0.041. Como era de esperarse la cantidad de reseñas no tiene una \n",
    "correlación significativa con la aprobación de los usuarios de los juegos, por lo que decidimos no utilizarla como feature."
   ]
  },
  {
   "cell_type": "markdown",
   "id": "679ff60e",
   "metadata": {},
   "source": [
    "### Developer"
   ]
  },
  {
   "cell_type": "markdown",
   "id": "03c42119",
   "metadata": {},
   "source": [
    "Uno podría pensar que quién hizo el juego es una variable relevante a la hora de predecir si un juego va a ser bien recibido o no,\n",
    "por eso vamos a poner especial ateención a esta variable. \n",
    "\n",
    "El principal problema que encontramos es que tiene una cardinalidad muy alta, la mayoría de los juegos tienen un desarrollador único y hay cerca de 1800 developers para cerca de 2300 juegos, lo que significa que la mayoría de los devs aparecen una sola vez.\n",
    "\n",
    "Esto puede causar problemas si decidimos usar esta variable como feature, ya que el modelo podría ajustarse demasiado a los datos de entrenamiento\n",
    "y no generalizar bien.\n",
    "\n",
    "Para tratar con esta variable aplicar one-hot encoding sería un gran problema, ya que generaría una matriz dispersa con demasiadas columnas. \n",
    "Por eso decidimos el siguiente enfoque:\n"
   ]
  },
  {
   "cell_type": "code",
   "execution_count": 34,
   "id": "a49484f7",
   "metadata": {},
   "outputs": [
    {
     "name": "stdout",
     "output_type": "stream",
     "text": [
      "Developers con 1 juego(s): 1508\n",
      "Developers con 2 juego(s): 196\n",
      "Developers con 3 juego(s): 49\n",
      "Developers con 4 juego(s): 20\n",
      "Developers con 5 juego(s): 9\n",
      "Developers con 6 juego(s): 3\n",
      "Developers con 7 juego(s): 9\n",
      "Developers con 8 juego(s): 4\n",
      "Developers con 9 juego(s): 1\n",
      "Developers con 10 juego(s): 3\n"
     ]
    },
    {
     "data": {
      "image/png": "[encoded data removed]",
      "text/plain": [
       "<Figure size 700x300 with 1 Axes>"
      ]
     },
     "metadata": {},
     "output_type": "display_data"
    }
   ],
   "source": [
    "dev_counts = df_features['developer'].value_counts()\n",
    "\n",
    "# Queremos ver cuántos desarrolladores tienen entre 1 y 10 juegos y cómo es esa distribución\n",
    "dev_freq_distribution = dev_counts.value_counts().sort_index()\n",
    "dev_freq_distribution = dev_freq_distribution.loc[1:10]\n",
    "\n",
    "# Mostrar resultados\n",
    "for i in range(1, 11):\n",
    "    cantidad = dev_freq_distribution.get(i, 0)\n",
    "    print(f\"Developers con {i} juego(s): {cantidad}\")\n",
    "\n",
    "\n",
    "dev_freq_distribution = dev_counts.value_counts().sort_index()\n",
    "dev_freq_distribution = dev_freq_distribution.loc[1:10]\n",
    "\n",
    "# Creamos gráfico de barras\n",
    "plt.figure(figsize=(7, 3))\n",
    "dev_freq_distribution.plot(kind='bar')\n",
    "plt.title('Cantidad de developers según cantidad de juegos desarrollados')\n",
    "plt.xlabel('Cantidad de juegos')\n",
    "plt.ylabel('Cantidad de developers')\n",
    "plt.grid(axis='y', linestyle='--', alpha=0.7)\n",
    "plt.xticks(rotation=0)\n",
    "plt.tight_layout()\n",
    "plt.show()"
   ]
  },
  {
   "cell_type": "code",
   "execution_count": 35,
   "id": "7755932a",
   "metadata": {},
   "outputs": [
    {
     "name": "stdout",
     "output_type": "stream",
     "text": [
      "Developers luego del agrupamiento:\n",
      "developer\n",
      "Other                    1900\n",
      "Valve                      17\n",
      "Arc System Works           16\n",
      "CAPCOM Co., Ltd.           12\n",
      "CREATIVE ASSEMBLY          11\n",
      "                         ... \n",
      "Faithy Games                3\n",
      "Walter Machado              3\n",
      "Anatoliy Loginovskikh       3\n",
      "quicktequila                3\n",
      "Crew Lab                    3\n",
      "Name: count, Length: 103, dtype: int64\n"
     ]
    }
   ],
   "source": [
    "# Reemplazar developers con <=2 juegos por \"Other\"\n",
    "dev_counts = df_features['developer'].value_counts()\n",
    "df_features['developer'] = df_features['developer'].apply(lambda x: x if dev_counts[x] > 2 else 'Other')\n",
    "\n",
    "# Chequeamos cuántos quedaron\n",
    "print(\"Developers luego del agrupamiento:\")\n",
    "print(df_features['developer'].value_counts())"
   ]
  },
  {
   "cell_type": "markdown",
   "id": "b142afbf",
   "metadata": {},
   "source": [
    "Como se puede ver, la gran mayoría de los devs tiene dos o menos juegos, decidimos eliminar estos para solamente\n",
    "quedarnos con los que tienen más de 2 juegos, ya que son los que tienen más probabilidad de ser relevantes evitando el overfitting."
   ]
  },
  {
   "cell_type": "code",
   "execution_count": 36,
   "id": "8224aa56",
   "metadata": {},
   "outputs": [
    {
     "name": "stdout",
     "output_type": "stream",
     "text": [
      "Cantidad de developers únicos después del filtrado: 103\n"
     ]
    }
   ],
   "source": [
    "# Lista de developers frecuentes (2 o más juegos)\n",
    "valid_devs = dev_counts[dev_counts >= 2].index\n",
    "\n",
    "# Reemplazar los no frecuentes por \"Otro\" en la misma columna\n",
    "df_features['developer'] = df_features['developer'].apply(lambda x: x if x in valid_devs else 'Otro')\n",
    "\n",
    "# Chequear cuántos developers únicos quedan\n",
    "print(f\"Cantidad de developers únicos después del filtrado: {df_features['developer'].nunique()}\")"
   ]
  },
  {
   "cell_type": "markdown",
   "id": "e548ceba",
   "metadata": {},
   "source": [
    "Luego de esta transformación decidimos aplicar target encoding a la variable developer, asignando a cada dev un valor correspondiente al promedio de review_like_rate de los juegos que desarrolló. \n",
    "\n",
    "Sin embargo, observamos luego que el 63% de los juegos pasan a tener el mismo valor en la nueva columna developer_encoded (aproximadamente 82.4), debido a que fueron agrupados bajo la categoría Other, que reúne a todos los desarrolladores con baja frecuencia en el dataset.\n",
    "\n",
    "Esto efecto introduce una pérdida de la capacidad discriminativa del feature, porque muchas entradas comparten el mismo valor. No obstante, decidimos conservarlo porque en los casos restantes el encoding aporta información útil que puede mejorar la predicción del modelo.\n"
   ]
  },
  {
   "cell_type": "code",
   "execution_count": 37,
   "id": "dae1aceb",
   "metadata": {},
   "outputs": [
    {
     "name": "stdout",
     "output_type": "stream",
     "text": [
      "Juegos con developer=\"Other\": 1900 de 2380 (79.83%)\n"
     ]
    }
   ],
   "source": [
    "# Contar cuántos juegos tienen \"Otro\" como valor\n",
    "count_other = (df_features['developer'] == 'Otro').sum()\n",
    "\n",
    "# Total de juegos\n",
    "total = len(df_features)\n",
    "\n",
    "# Porcentaje\n",
    "percentage_other = 100 * count_other / total\n",
    "\n",
    "print(f'Juegos con developer=\"Other\": {count_other} de {total} ({percentage_other:.2f}%)')"
   ]
  },
  {
   "cell_type": "code",
   "execution_count": 38,
   "id": "051993e9",
   "metadata": {},
   "outputs": [],
   "source": [
    "#Aplicamos el taget encoding\n",
    "dev_avg_rating = df_features.groupby('developer')['reviews_like_rate'].mean()\n",
    "df_features['developer'] = df_features['developer'].map(dev_avg_rating)"
   ]
  },
  {
   "cell_type": "markdown",
   "id": "258b7a4a",
   "metadata": {},
   "source": [
    "### User defined tags\n",
    "\n",
    "Esta columna contiene etiquetas asignadas por los usuarios, separadas por comas. Dado que hay cientos de tags posibles, decidimos contar los 15 más frecuentes y convertirlos en variables binarias. Esto nos permite conservar información relevante sin aumentar demasiado la dimensionalidad."
   ]
  },
  {
   "cell_type": "code",
   "execution_count": 40,
   "id": "8ae6b8d1",
   "metadata": {},
   "outputs": [
    {
     "data": {
      "image/png": "[encoded data removed]",
      "text/plain": [
       "<Figure size 1000x400 with 1 Axes>"
      ]
     },
     "metadata": {},
     "output_type": "display_data"
    }
   ],
   "source": [
    "from collections import Counter\n",
    "\n",
    "# Más comunes\n",
    "counter = Counter(tag.strip() for tags in df_features[\"user_defined_tags\"] for tag in tags.split(\",\"))\n",
    "top_tags = [tag for tag, _ in counter.most_common(15)]\n",
    "\n",
    "# Crear variables binarias \n",
    "for tag in top_tags:\n",
    "    col = f\"tag_{tag.replace(' ', '_')}\"\n",
    "    df_features[col] = df_features[\"user_defined_tags\"].str.contains(tag).astype(int)\n",
    "\n",
    "\n",
    "# Visualización rápida\n",
    "df_features[[f\"tag_{tag.replace(' ', '_')}\" for tag in top_tags]].sum().plot.bar(figsize=(10,4), title=\"Frecuencia de los tags seleccionados\")\n",
    "\n",
    "# Sacamos la columna original de user_defined_tags\n",
    "df_features = df_features.drop(columns=[\"user_defined_tags\"])"
   ]
  },
  {
   "cell_type": "markdown",
   "id": "4e873a9c",
   "metadata": {},
   "source": [
    "### Supported OS\n",
    "\n",
    "Esta variable muestra qué sistemas operativos pueden ejecutar el juego en cuestión, los valores posibles son Windows, Linux y Mac, pero dado\n",
    "que Windows está presente en todos los juegos eliminamos esa variable y binarizamos solamente mac y linux."
   ]
  },
  {
   "cell_type": "code",
   "execution_count": 41,
   "id": "34aa6dd7",
   "metadata": {},
   "outputs": [],
   "source": [
    "df_features['supported_mac'] = df_features['supported_os'].str.contains('mac').astype(int)\n",
    "df_features['supported_linux'] = df_features['supported_os'].str.contains('linux').astype(int)\n",
    "\n",
    "# Eliminamos la columna original ya que no aporta más información útil\n",
    "df_features.drop(columns='supported_os', inplace=True)"
   ]
  },
  {
   "cell_type": "markdown",
   "id": "26d4f184",
   "metadata": {},
   "source": [
    "### Other features\n",
    "\n",
    "Esta columna, la útima de las categóricas que nos queda, representa otro conjunto de etiquetas que definen el juego. Entendemos que son etiquetas asignadas por Steam y que tienen que ver con características generales dej juego como Single-Player, Coop, etc."
   ]
  },
  {
   "cell_type": "code",
   "execution_count": 42,
   "id": "b739bb06",
   "metadata": {},
   "outputs": [
    {
     "name": "stdout",
     "output_type": "stream",
     "text": [
      "Cantidad de etiquetas únicas: 32\n",
      "Etiquetas únicas:\n",
      "['Captions available', 'Commentary available', 'Cross-Platform Multiplayer', 'Family Sharing', 'HDR available', 'In-App Purchases', 'Includes Source SDK', 'Includes level editor', 'LAN Co-op', 'LAN PvP', 'MMO', 'Online Co-op', 'Online PvP', 'Remote Play Together', 'Remote Play on Phone', 'Remote Play on TV', 'Remote Play on Tablet', 'Shared/Split Screen Co-op', 'Shared/Split Screen PvP', 'Single-player', 'Stats', 'Steam Achievements', 'Steam Cloud', 'Steam Leaderboards', 'Steam Timeline', 'Steam Trading Cards', 'Steam Turn Notifications', 'Steam Workshop', 'SteamVR Collectibles', 'Tracked Controller Support', 'VR Only', 'VR Supported']\n"
     ]
    }
   ],
   "source": [
    "df_features['other_features'] = df_features['other_features'].fillna('').str.split(',')\n",
    "\n",
    "# Quitamos espacios y aplanamos la lista\n",
    "all_features = df_features['other_features'].explode().str.strip()\n",
    "unique_features = all_features[all_features != ''].unique()\n",
    "\n",
    "# Cuántas hay y cuáles son\n",
    "print(f\"Cantidad de etiquetas únicas: {len(unique_features)}\")\n",
    "print(\"Etiquetas únicas:\")\n",
    "print(sorted(unique_features))"
   ]
  },
  {
   "cell_type": "markdown",
   "id": "58ab39d5",
   "metadata": {},
   "source": [
    "Se puede ver que se trata de 32 etiquetas posibles. Decidimos reducir la dimensionalidad solamente dejando las etiquetas que están presentes en al menos el 5% de los juegos, esto nos deja con 18 etiquetas:"
   ]
  },
  {
   "cell_type": "code",
   "execution_count": 43,
   "id": "2b014faa",
   "metadata": {},
   "outputs": [
    {
     "name": "stdout",
     "output_type": "stream",
     "text": [
      "\n",
      "Seleccionamos 18 etiquetas frecuentes:\n",
      "['Single-player', 'Family Sharing', 'Steam Achievements', 'Steam Cloud', 'Steam Trading Cards', 'Online Co-op', 'Online PvP', 'Steam Workshop', 'Steam Leaderboards', 'In-App Purchases', 'Remote Play on TV', 'Remote Play Together', 'Cross-Platform Multiplayer', 'Remote Play on Tablet', 'Stats', 'Includes level editor', 'Remote Play on Phone', 'Shared/Split Screen Co-op']\n"
     ]
    }
   ],
   "source": [
    "all_features = df_features['other_features'].explode().str.strip()\n",
    "feature_counts = Counter(all_features[all_features != ''])\n",
    "\n",
    "# Mostrar ordenado \n",
    "feature_freq = pd.Series(feature_counts).sort_values(ascending=False)\n",
    "\n",
    "min_freq = len(df_features) * 0.05\n",
    "selected_features = feature_freq[feature_freq >= min_freq].index.tolist()\n",
    "\n",
    "print(f\"\\nSeleccionamos {len(selected_features)} etiquetas frecuentes:\")\n",
    "print(selected_features)"
   ]
  },
  {
   "cell_type": "code",
   "execution_count": 44,
   "id": "6692435b",
   "metadata": {},
   "outputs": [],
   "source": [
    "# Binarizamos\n",
    "df_features['other_features'] = df_features['other_features'].apply(\n",
    "    lambda lst: [x.strip() for x in lst if x.strip() != '']\n",
    ")\n",
    "\n",
    "# Creamos una columna para cada etiqueta frecuente\n",
    "for feature in selected_features:\n",
    "    df_features[f'feature_{feature}'] = df_features['other_features'].apply(\n",
    "        lambda x: int(feature in x)\n",
    "    )\n",
    "\n",
    "# Eliminamos la columna original\n",
    "df_features.drop(columns='other_features', inplace=True)\n"
   ]
  },
  {
   "cell_type": "markdown",
   "id": "5eec462e",
   "metadata": {},
   "source": [
    "### Conclusiones sobre las features categóricas"
   ]
  },
  {
   "cell_type": "markdown",
   "id": "bffc9da8",
   "metadata": {},
   "source": [
    "Creamos un gráfico para evaluar la correlación máxima absoluta (Pearson) entre las variables categóricas transformadas (user_defined_tags, supported_os, other_features, developer, release_year, release_month) y reviews_like_rate. Para las variables binarizadas (user_defined_tags, supported_os, other_features), tomamos la correlación absoluta más alta de sus columnas binarias (e.g., tag_Indie, supported_mac) para representar cada variable original. Para developer, release_year y release_month, usamos sus correlaciones absolutas tras codificación. El gráfico de barras ordena estas correlaciones (0.0068 a 0.2778), mostrando que developer y other_features tienen algo de relación con reviews_like_rate, pero todas son débiles a moderadas, sugiriendo que se necesitan modelos no lineales para capturar interacciones más complejas.\n",
    "\n"
   ]
  },
  {
   "cell_type": "code",
   "execution_count": null,
   "id": "47f619f3",
   "metadata": {},
   "outputs": [
    {
     "name": "stderr",
     "output_type": "stream",
     "text": [
      "C:\\Users\\matim\\AppData\\Local\\Temp\\ipykernel_7412\\1701754636.py:39: FutureWarning: \n",
      "\n",
      "Passing `palette` without assigning `hue` is deprecated and will be removed in v0.14.0. Assign the `y` variable to `hue` and set `legend=False` for the same effect.\n",
      "\n",
      "  sns.barplot(x=correlations_series.values, y=correlations_series.index, palette='coolwarm')\n"
     ]
    },
    {
     "data": {
      "image/png": "[encoded data removed]",
      "text/plain": [
       "<Figure size 800x500 with 1 Axes>"
      ]
     },
     "metadata": {},
     "output_type": "display_data"
    },
    {
     "name": "stdout",
     "output_type": "stream",
     "text": [
      "\n",
      "Correlaciones máximas absolutas con reviews_like_rate (ordenadas):\n",
      "developer            0.2778\n",
      "other_features       0.2684\n",
      "supported_os         0.1911\n",
      "user_defined_tags    0.1330\n",
      "release_year         0.0612\n",
      "release_month        0.0068\n",
      "dtype: float64\n"
     ]
    }
   ],
   "source": [
    "import pandas as pd\n",
    "import matplotlib.pyplot as plt\n",
    "import seaborn as sns\n",
    "import numpy as np\n",
    "\n",
    "# Identificamos las columnas categóricas\n",
    "tag_columns = [col for col in df_features.columns if col.startswith('tag_')]\n",
    "os_columns = [col for col in df_features.columns if col.startswith('supported_')]\n",
    "feature_columns = [col for col in df_features.columns if col.startswith('feature_')]\n",
    "other_columns = ['developer', 'release_year', 'release_month']\n",
    "\n",
    "# Calculamos la correlación absoluta máxima para cada grupo de variables binarizadas\n",
    "correlations = {}\n",
    "\n",
    "# Para user_defined_tags\n",
    "if tag_columns:\n",
    "    tag_corrs = df_features[tag_columns].corrwith(df_features['reviews_like_rate'])\n",
    "    correlations['user_defined_tags'] = tag_corrs.abs().max() if not tag_corrs.empty else 0\n",
    "\n",
    "# Para supported_os\n",
    "if os_columns:\n",
    "    os_corrs = df_features[os_columns].corrwith(df_features['reviews_like_rate'])\n",
    "    correlations['supported_os'] = os_corrs.abs().max() if not os_corrs.empty else 0\n",
    "\n",
    "# Para other_features\n",
    "if feature_columns:\n",
    "    feature_corrs = df_features[feature_columns].corrwith(df_features['reviews_like_rate'])\n",
    "    correlations['other_features'] = feature_corrs.abs().max() if not feature_corrs.empty else 0\n",
    "\n",
    "# Para las otras variables categóricas transformadas\n",
    "for col in other_columns:\n",
    "    correlations[col] = abs(df_features[col].corr(df_features['reviews_like_rate']))\n",
    "\n",
    "# Convertimos a una serie y ordenamos\n",
    "correlations_series = pd.Series(correlations).sort_values(ascending=False)\n",
    "\n",
    "\n",
    "plt.figure(figsize=(8, 5))\n",
    "sns.barplot(x=correlations_series.values, y=correlations_series.index, palette='coolwarm')\n",
    "plt.title('Correlación Máxima Absoluta de Variables Categóricas con reviews_like_rate', fontsize=14)\n",
    "plt.xlabel('Correlación Máxima Absoluta (Pearson)', fontsize=12)\n",
    "plt.ylabel('Variables Categóricas', fontsize=12)\n",
    "plt.grid(axis='x', linestyle='--', alpha=0.7)\n",
    "plt.tight_layout()\n",
    "plt.show()\n",
    "\n",
    "# Mostramos los valores de correlación\n",
    "print(\"\\nCorrelaciones máximas absolutas con reviews_like_rate (ordenadas):\")\n",
    "print(correlations_series.round(4))"
   ]
  },
  {
   "cell_type": "markdown",
   "id": "5ffe7769",
   "metadata": {},
   "source": [
    "Las correlaciones máximas absolutas con reviews_like_rate (de 0.0068 a 0.2778) son bajas a moderadas, esto indica asociaciones lineales débiles. developer (0.2778) y other_features (0.2684) muestran cierta relevancia, pero release_month (0.0068) aporta poco. Aunque las correlaciones son limitadas, estas variables pueden contribuir en modelos no lineales al capturar interacciones complejas."
   ]
  }
 ],
 "metadata": {
  "kernelspec": {
   "display_name": "Prueba2",
   "language": "python",
   "name": "python3"
  },
  "language_info": {
   "codemirror_mode": {
    "name": "ipython",
    "version": 3
   },
   "file_extension": ".py",
   "mimetype": "text/x-python",
   "name": "python",
   "nbconvert_exporter": "python",
   "pygments_lexer": "ipython3",
   "version": "3.10.16"
  }
 },
 "nbformat": 4,
 "nbformat_minor": 5
}
